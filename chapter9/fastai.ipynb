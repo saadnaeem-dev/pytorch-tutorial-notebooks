{
 "cells": [
  {
   "cell_type": "markdown",
   "metadata": {},
   "source": [
    "# fast.ai ULMFiT"
   ]
  },
  {
   "cell_type": "code",
   "execution_count": 17,
   "metadata": {
    "ExecuteTime": {
     "end_time": "2023-11-11T10:00:09.046819Z",
     "start_time": "2023-11-11T10:00:09.043282Z"
    }
   },
   "outputs": [
    {
     "name": "stdout",
     "output_type": "stream",
     "text": [
      "Default Device: mps\n",
      "Tensor on Default Device: cpu\n"
     ]
    }
   ],
   "source": [
    "from fastai.text import *\n",
    "from fastai import *\n",
    "from fastai.basics import default_device, torch\n",
    "\n",
    "# Set the default device to GPU if available, otherwise use CPU pynvx is nvidia related lib required for fastai\n",
    "device = default_device('cpu')\n",
    "print(f\"Default Device: {device}\")\n",
    "\n",
    "# Create a tensor on the default device\n",
    "tensor_on_default_device = torch.tensor([1, 2, 3])\n",
    "print(f\"Tensor on Default Device: {tensor_on_default_device.device}\")\n"
   ]
  },
  {
   "cell_type": "code",
   "execution_count": 18,
   "outputs": [
    {
     "name": "stdout",
     "output_type": "stream",
     "text": [
      "Default Device: cpu\n",
      "Tensor on Default Device: cpu\n"
     ]
    }
   ],
   "source": [
    "from fastai.basics import defaults, torch\n",
    "\n",
    "# Set the default device to GPU if available, otherwise use CPU\n",
    "defaults.device = torch.device('cuda') if torch.cuda.is_available() else torch.device('cpu')\n",
    "\n",
    "# Check the default device\n",
    "print(f\"Default Device: {defaults.device}\")\n",
    "\n",
    "# Create a tensor on the default device\n",
    "tensor_on_default_device = torch.tensor([1, 2, 3])\n",
    "print(f\"Tensor on Default Device: {tensor_on_default_device.device}\")\n"
   ],
   "metadata": {
    "collapsed": false,
    "ExecuteTime": {
     "end_time": "2023-11-11T10:01:17.995393Z",
     "start_time": "2023-11-11T10:01:17.978944Z"
    }
   }
  },
  {
   "cell_type": "code",
   "execution_count": 19,
   "metadata": {
    "ExecuteTime": {
     "end_time": "2023-11-11T10:01:21.494802Z",
     "start_time": "2023-11-11T10:01:21.488239Z"
    }
   },
   "outputs": [],
   "source": [
    "twitter_data_path = \".\""
   ]
  },
  {
   "cell_type": "code",
   "execution_count": 20,
   "outputs": [],
   "source": [
    "# !pip install textlist"
   ],
   "metadata": {
    "collapsed": false,
    "ExecuteTime": {
     "end_time": "2023-11-11T10:01:23.665303Z",
     "start_time": "2023-11-11T10:01:23.660256Z"
    }
   }
  },
  {
   "cell_type": "code",
   "execution_count": 9,
   "metadata": {
    "ExecuteTime": {
     "end_time": "2023-11-11T09:43:10.959002Z",
     "start_time": "2023-11-11T09:43:10.585682Z"
    }
   },
   "outputs": [
    {
     "ename": "NameError",
     "evalue": "name 'TextList' is not defined",
     "output_type": "error",
     "traceback": [
      "\u001B[0;31m---------------------------------------------------------------------------\u001B[0m",
      "\u001B[0;31mNameError\u001B[0m                                 Traceback (most recent call last)",
      "Cell \u001B[0;32mIn[9], line 1\u001B[0m\n\u001B[0;32m----> 1\u001B[0m data_lm \u001B[38;5;241m=\u001B[39m (TextList\n\u001B[1;32m      2\u001B[0m            \u001B[38;5;241m.\u001B[39mfrom_csv(\u001B[38;5;124m\"\u001B[39m\u001B[38;5;124m./twitter-data/\u001B[39m\u001B[38;5;124m\"\u001B[39m, \u001B[38;5;124m'\u001B[39m\u001B[38;5;124mtrain-processed.csv\u001B[39m\u001B[38;5;124m'\u001B[39m, cols\u001B[38;5;241m=\u001B[39m\u001B[38;5;241m5\u001B[39m)\n\u001B[1;32m      3\u001B[0m            \u001B[38;5;241m.\u001B[39msplit_by_rand_pct()\n\u001B[1;32m      4\u001B[0m            \u001B[38;5;241m.\u001B[39mlabel_for_lm()\n\u001B[1;32m      5\u001B[0m            \u001B[38;5;241m.\u001B[39mdatabunch(bs\u001B[38;5;241m=\u001B[39m\u001B[38;5;241m32\u001B[39m))\n",
      "\u001B[0;31mNameError\u001B[0m: name 'TextList' is not defined"
     ]
    }
   ],
   "source": [
    "data_lm = (TextList\n",
    "           .from_csv(\"./twitter-data/\", 'train-processed.csv', cols=5)\n",
    "           .split_by_rand_pct()\n",
    "           .label_for_lm()\n",
    "           .databunch(bs=32))"
   ]
  },
  {
   "cell_type": "code",
   "execution_count": null,
   "metadata": {},
   "outputs": [],
   "source": [
    "batchsize = 32"
   ]
  },
  {
   "cell_type": "code",
   "execution_count": null,
   "metadata": {},
   "outputs": [],
   "source": [
    "learn = language_model_learner(data_lm, AWD_LSTM, drop_mult=0.3)"
   ]
  },
  {
   "cell_type": "code",
   "execution_count": null,
   "metadata": {},
   "outputs": [],
   "source": [
    "learn.lr_find()"
   ]
  },
  {
   "cell_type": "code",
   "execution_count": null,
   "metadata": {},
   "outputs": [],
   "source": [
    "learn.recorder.plot()"
   ]
  },
  {
   "cell_type": "code",
   "execution_count": null,
   "metadata": {},
   "outputs": [],
   "source": [
    "learn.fit_one_cycle(10, 1e-2)"
   ]
  },
  {
   "cell_type": "code",
   "execution_count": null,
   "metadata": {},
   "outputs": [],
   "source": [
    "learn.save_encoder('fine_tuned_enc')"
   ]
  },
  {
   "cell_type": "code",
   "execution_count": null,
   "metadata": {},
   "outputs": [],
   "source": [
    "data_class = (TextBlock\n",
    "           .from_csv(twitter_data_path, 'train-processed.csv', cols=5, vocab=data_lm.vocab)\n",
    "           .split_by_rand_pct()\n",
    "           .label_from_df(cols=0)\n",
    "           .databunch())"
   ]
  },
  {
   "cell_type": "code",
   "execution_count": null,
   "metadata": {},
   "outputs": [],
   "source": [
    "twitter_classifer_learner = text_classifier_learner(data_class, AWD_LSTM, drop_mult=0.5)\n",
    "twitter_classifer_learner.load_encoder('fine_tuned_enc')"
   ]
  },
  {
   "cell_type": "code",
   "execution_count": null,
   "metadata": {},
   "outputs": [],
   "source": [
    "twitter_classifer_learner.lr_find()"
   ]
  },
  {
   "cell_type": "code",
   "execution_count": null,
   "metadata": {},
   "outputs": [],
   "source": [
    "twitter_classifer_learner.recorder.plot()"
   ]
  },
  {
   "cell_type": "code",
   "execution_count": null,
   "metadata": {},
   "outputs": [],
   "source": [
    "twitter_classifer_learner.fit_one_cycle(5, 1e-3)"
   ]
  },
  {
   "cell_type": "code",
   "execution_count": null,
   "metadata": {},
   "outputs": [],
   "source": [
    "twitter_classifer_learner.freeze_to(-2)"
   ]
  },
  {
   "cell_type": "code",
   "execution_count": null,
   "metadata": {},
   "outputs": [],
   "source": [
    "twitter_classifer_learner.fit_one_cycle(1, 1e-3)"
   ]
  },
  {
   "cell_type": "code",
   "execution_count": null,
   "metadata": {},
   "outputs": [],
   "source": []
  }
 ],
 "metadata": {
  "kernelspec": {
   "display_name": "Python 3",
   "language": "python",
   "name": "python3"
  },
  "language_info": {
   "codemirror_mode": {
    "name": "ipython",
    "version": 3
   },
   "file_extension": ".py",
   "mimetype": "text/x-python",
   "name": "python",
   "nbconvert_exporter": "python",
   "pygments_lexer": "ipython3",
   "version": "3.6.8"
  }
 },
 "nbformat": 4,
 "nbformat_minor": 2
}
