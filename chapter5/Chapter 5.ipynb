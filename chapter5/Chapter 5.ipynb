{
 "cells": [
  {
   "cell_type": "markdown",
   "metadata": {},
   "source": [
    "# Chapter 5: Text Classification"
   ]
  },
  {
   "cell_type": "code",
   "execution_count": 1,
   "metadata": {
    "ExecuteTime": {
     "end_time": "2023-11-02T08:38:25.562614Z",
     "start_time": "2023-11-02T08:38:23.377792Z"
    }
   },
   "outputs": [],
   "source": [
    "import spacy\n",
    "import torch\n",
    "import torchtext\n",
    "import pandas as pd\n",
    "import torch.nn as nn\n",
    "import torch.optim as optim\n",
    "from torchtext import data"
   ]
  },
  {
   "cell_type": "markdown",
   "metadata": {},
   "source": [
    "## Loading & Data Cleaning"
   ]
  },
  {
   "cell_type": "code",
   "execution_count": 2,
   "metadata": {
    "ExecuteTime": {
     "end_time": "2023-11-02T08:38:35.177758Z",
     "start_time": "2023-11-02T08:38:35.172899Z"
    }
   },
   "outputs": [
    {
     "data": {
      "text/plain": "True"
     },
     "execution_count": 2,
     "metadata": {},
     "output_type": "execute_result"
    }
   ],
   "source": [
    "device = \"mps\"\n",
    "torch.backends.mps.is_available()"
   ]
  },
  {
   "cell_type": "code",
   "execution_count": 3,
   "metadata": {
    "ExecuteTime": {
     "end_time": "2023-11-02T08:38:36.458547Z",
     "start_time": "2023-11-02T08:38:36.422153Z"
    }
   },
   "outputs": [],
   "source": [
    "# You'll probably need to use the 'python' engine to load the CSV\n",
    "# tweetsDF = pd.read_csv(\"training.1600000.processed.noemoticon.csv\", header=None)\n",
    "tweetsDF = pd.read_csv(\"training.1600000.processed.noemoticon.csv\", encoding='latin1', header=None)"
   ]
  },
  {
   "cell_type": "code",
   "execution_count": 4,
   "outputs": [
    {
     "data": {
      "text/plain": "   0           1                             2         3                4  \\\n0  0  1467810369  Mon Apr 06 22:19:45 PDT 2009  NO_QUERY  _TheSpecialOne_   \n1  0  1467810672  Mon Apr 06 22:19:49 PDT 2009  NO_QUERY    scotthamilton   \n2  0  1467810917  Mon Apr 06 22:19:53 PDT 2009  NO_QUERY         mattycus   \n3  0  1467811184  Mon Apr 06 22:19:57 PDT 2009  NO_QUERY          ElleCTF   \n4  0  1467811193  Mon Apr 06 22:19:57 PDT 2009  NO_QUERY           Karoli   \n\n                                                   5  \n0  @switchfoot http://twitpic.com/2y1zl - Awww, t...  \n1  is upset that he can't update his Facebook by ...  \n2  @Kenichan I dived many times for the ball. Man...  \n3    my whole body feels itchy and like its on fire   \n4  @nationwideclass no, it's not behaving at all....  ",
      "text/html": "<div>\n<style scoped>\n    .dataframe tbody tr th:only-of-type {\n        vertical-align: middle;\n    }\n\n    .dataframe tbody tr th {\n        vertical-align: top;\n    }\n\n    .dataframe thead th {\n        text-align: right;\n    }\n</style>\n<table border=\"1\" class=\"dataframe\">\n  <thead>\n    <tr style=\"text-align: right;\">\n      <th></th>\n      <th>0</th>\n      <th>1</th>\n      <th>2</th>\n      <th>3</th>\n      <th>4</th>\n      <th>5</th>\n    </tr>\n  </thead>\n  <tbody>\n    <tr>\n      <th>0</th>\n      <td>0</td>\n      <td>1467810369</td>\n      <td>Mon Apr 06 22:19:45 PDT 2009</td>\n      <td>NO_QUERY</td>\n      <td>_TheSpecialOne_</td>\n      <td>@switchfoot http://twitpic.com/2y1zl - Awww, t...</td>\n    </tr>\n    <tr>\n      <th>1</th>\n      <td>0</td>\n      <td>1467810672</td>\n      <td>Mon Apr 06 22:19:49 PDT 2009</td>\n      <td>NO_QUERY</td>\n      <td>scotthamilton</td>\n      <td>is upset that he can't update his Facebook by ...</td>\n    </tr>\n    <tr>\n      <th>2</th>\n      <td>0</td>\n      <td>1467810917</td>\n      <td>Mon Apr 06 22:19:53 PDT 2009</td>\n      <td>NO_QUERY</td>\n      <td>mattycus</td>\n      <td>@Kenichan I dived many times for the ball. Man...</td>\n    </tr>\n    <tr>\n      <th>3</th>\n      <td>0</td>\n      <td>1467811184</td>\n      <td>Mon Apr 06 22:19:57 PDT 2009</td>\n      <td>NO_QUERY</td>\n      <td>ElleCTF</td>\n      <td>my whole body feels itchy and like its on fire</td>\n    </tr>\n    <tr>\n      <th>4</th>\n      <td>0</td>\n      <td>1467811193</td>\n      <td>Mon Apr 06 22:19:57 PDT 2009</td>\n      <td>NO_QUERY</td>\n      <td>Karoli</td>\n      <td>@nationwideclass no, it's not behaving at all....</td>\n    </tr>\n  </tbody>\n</table>\n</div>"
     },
     "execution_count": 4,
     "metadata": {},
     "output_type": "execute_result"
    }
   ],
   "source": [
    "tweetsDF.head(5)"
   ],
   "metadata": {
    "collapsed": false,
    "ExecuteTime": {
     "end_time": "2023-11-02T08:38:37.091985Z",
     "start_time": "2023-11-02T08:38:37.083179Z"
    }
   }
  },
  {
   "cell_type": "code",
   "execution_count": 5,
   "metadata": {
    "ExecuteTime": {
     "end_time": "2023-11-02T08:38:37.882488Z",
     "start_time": "2023-11-02T08:38:37.875977Z"
    }
   },
   "outputs": [
    {
     "data": {
      "text/plain": "0\n4    10001\n0     9999\nName: count, dtype: int64"
     },
     "execution_count": 5,
     "metadata": {},
     "output_type": "execute_result"
    }
   ],
   "source": [
    "tweetsDF[0].value_counts()"
   ]
  },
  {
   "cell_type": "code",
   "execution_count": 6,
   "outputs": [],
   "source": [
    "tweetsDF[\"sentiment_cat\"] = tweetsDF[0].astype('category')"
   ],
   "metadata": {
    "collapsed": false,
    "ExecuteTime": {
     "end_time": "2023-11-02T08:38:38.664863Z",
     "start_time": "2023-11-02T08:38:38.656235Z"
    }
   }
  },
  {
   "cell_type": "code",
   "execution_count": 7,
   "outputs": [
    {
     "data": {
      "text/plain": "0        0\n1        0\n2        0\n3        0\n4        0\n        ..\n19995    4\n19996    4\n19997    4\n19998    4\n19999    4\nName: sentiment_cat, Length: 20000, dtype: category\nCategories (2, int64): [0, 4]"
     },
     "execution_count": 7,
     "metadata": {},
     "output_type": "execute_result"
    }
   ],
   "source": [
    "tweetsDF[\"sentiment_cat\"]"
   ],
   "metadata": {
    "collapsed": false,
    "ExecuteTime": {
     "end_time": "2023-11-02T08:38:39.294727Z",
     "start_time": "2023-11-02T08:38:39.292559Z"
    }
   }
  },
  {
   "cell_type": "code",
   "execution_count": 8,
   "outputs": [],
   "source": [
    "tweetsDF[\"sentiment\"] = tweetsDF[\"sentiment_cat\"].cat.codes"
   ],
   "metadata": {
    "collapsed": false,
    "ExecuteTime": {
     "end_time": "2023-11-02T08:38:39.912730Z",
     "start_time": "2023-11-02T08:38:39.905345Z"
    }
   }
  },
  {
   "cell_type": "code",
   "execution_count": 9,
   "outputs": [
    {
     "data": {
      "text/plain": "0        0\n1        0\n2        0\n3        0\n4        0\n        ..\n19995    1\n19996    1\n19997    1\n19998    1\n19999    1\nName: sentiment, Length: 20000, dtype: int8"
     },
     "execution_count": 9,
     "metadata": {},
     "output_type": "execute_result"
    }
   ],
   "source": [
    "tweetsDF[\"sentiment\"]"
   ],
   "metadata": {
    "collapsed": false,
    "ExecuteTime": {
     "end_time": "2023-11-02T08:38:40.399890Z",
     "start_time": "2023-11-02T08:38:40.393764Z"
    }
   }
  },
  {
   "cell_type": "code",
   "execution_count": 13,
   "metadata": {
    "ExecuteTime": {
     "end_time": "2023-11-02T08:40:36.914810Z",
     "start_time": "2023-11-02T08:40:36.784638Z"
    }
   },
   "outputs": [],
   "source": [
    "tweetsDF.to_csv(\"train-processed.csv\", header=None, index=None)      \n",
    "tweetsDF.sample(10000).to_csv(\"train-processed-sample.csv\", header=None, index=None) "
   ]
  },
  {
   "cell_type": "code",
   "execution_count": 14,
   "metadata": {
    "ExecuteTime": {
     "end_time": "2023-11-02T08:40:37.873596Z",
     "start_time": "2023-11-02T08:40:37.627442Z"
    }
   },
   "outputs": [],
   "source": [
    "from torchtext import data\n",
    "LABEL = data.LabelField()\n",
    "TWEET = data.Field(tokenize='spacy', tokenizer_language='en_core_web_sm', lower=True)\n",
    "# using LABEL and TWEET to define the fields below the rest are ignored\n",
    "# the below fields will m=be mapped to CSV columns\n",
    "fields = [('score',None), ('id',None), ('date',None), ('query',None),\n",
    "          ('name',None), ('tweet', TWEET), ('category',None), ('label',LABEL)]"
   ]
  },
  {
   "cell_type": "markdown",
   "metadata": {},
   "source": [
    "## Create our Dataset and DataLoaders"
   ]
  },
  {
   "cell_type": "code",
   "execution_count": 15,
   "metadata": {
    "ExecuteTime": {
     "end_time": "2023-11-02T08:40:45.771226Z",
     "start_time": "2023-11-02T08:40:45.002799Z"
    }
   },
   "outputs": [
    {
     "data": {
      "text/plain": "{'score': None,\n 'id': None,\n 'date': None,\n 'query': None,\n 'name': None,\n 'tweet': <torchtext.data.field.Field at 0x14111aad0>,\n 'category': None,\n 'label': <torchtext.data.field.LabelField at 0x173b10950>}"
     },
     "execution_count": 15,
     "metadata": {},
     "output_type": "execute_result"
    }
   ],
   "source": [
    "twitterDataset = data.dataset.TabularDataset(\n",
    "        path=\"train-processed-sample.csv\", \n",
    "        format=\"CSV\", \n",
    "        fields=fields,\n",
    "        skip_header=False)\n",
    "twitterDataset.fields"
   ]
  },
  {
   "cell_type": "code",
   "execution_count": 16,
   "metadata": {
    "ExecuteTime": {
     "end_time": "2023-11-02T08:40:53.380786Z",
     "start_time": "2023-11-02T08:40:53.377877Z"
    }
   },
   "outputs": [
    {
     "data": {
      "text/plain": "(6000, 2000, 2000)"
     },
     "execution_count": 16,
     "metadata": {},
     "output_type": "execute_result"
    }
   ],
   "source": [
    "(train, test, valid) = twitterDataset.split(split_ratio=[0.6,0.2,0.2],\n",
    "                                            stratified=True, strata_field='label')\n",
    "\n",
    "(len(train),len(test),len(valid))"
   ]
  },
  {
   "cell_type": "code",
   "execution_count": 17,
   "outputs": [
    {
     "data": {
      "text/plain": "{'tweet': ['@diysara',\n  'sounds',\n  'like',\n  'a',\n  'wonderful',\n  'day',\n  'planned',\n  'for',\n  'tomorrow',\n  '.',\n  ' ',\n  'it',\n  'should',\n  'bring',\n  'you',\n  'smiles',\n  'today',\n  'thinking',\n  'about',\n  'it',\n  '&',\n  'amp',\n  ';',\n  'looking',\n  'forward',\n  'to',\n  'it',\n  '.'],\n 'label': '1'}"
     },
     "execution_count": 17,
     "metadata": {},
     "output_type": "execute_result"
    }
   ],
   "source": [
    "vars(train.examples[7])"
   ],
   "metadata": {
    "collapsed": false,
    "ExecuteTime": {
     "end_time": "2023-11-02T08:40:55.774267Z",
     "start_time": "2023-11-02T08:40:55.769065Z"
    }
   }
  },
  {
   "cell_type": "code",
   "execution_count": 18,
   "metadata": {
    "ExecuteTime": {
     "end_time": "2023-11-02T08:41:07.204219Z",
     "start_time": "2023-11-02T08:41:07.201167Z"
    }
   },
   "outputs": [
    {
     "data": {
      "text/plain": "13386"
     },
     "execution_count": 18,
     "metadata": {},
     "output_type": "execute_result"
    }
   ],
   "source": [
    "vocab_size = 20000\n",
    "TWEET.build_vocab(train, max_size = vocab_size)\n",
    "len(TWEET.vocab)"
   ]
  },
  {
   "cell_type": "code",
   "execution_count": 19,
   "outputs": [
    {
     "data": {
      "text/plain": "[('i', 3590),\n ('!', 3208),\n ('.', 2946),\n ('to', 2214),\n (' ', 2125),\n (',', 1989),\n ('the', 1920),\n ('a', 1468),\n ('and', 1225),\n ('my', 1196)]"
     },
     "execution_count": 19,
     "metadata": {},
     "output_type": "execute_result"
    }
   ],
   "source": [
    "TWEET.vocab.freqs.most_common(10)"
   ],
   "metadata": {
    "collapsed": false,
    "ExecuteTime": {
     "end_time": "2023-11-02T08:41:07.962920Z",
     "start_time": "2023-11-02T08:41:07.956116Z"
    }
   }
  },
  {
   "cell_type": "code",
   "execution_count": 24,
   "outputs": [
    {
     "data": {
      "text/plain": "defaultdict(<bound method Vocab._default_unk_index of <torchtext.vocab.Vocab object at 0x173db7390>>,\n            {'<unk>': 0,\n             '<pad>': 1,\n             'i': 2,\n             '!': 3,\n             '.': 4,\n             'to': 5,\n             ' ': 6,\n             ',': 7,\n             'the': 8,\n             'a': 9,\n             'and': 10,\n             'my': 11,\n             'it': 12,\n             'you': 13,\n             'is': 14,\n             'for': 15,\n             '?': 16,\n             '...': 17,\n             'in': 18,\n             'of': 19,\n             \"'s\": 20,\n             'on': 21,\n             'that': 22,\n             \"n't\": 23,\n             'have': 24,\n             'me': 25,\n             'so': 26,\n             'but': 27,\n             'do': 28,\n             \"'m\": 29,\n             'just': 30,\n             '-': 31,\n             'at': 32,\n             'not': 33,\n             'be': 34,\n             'with': 35,\n             'this': 36,\n             'good': 37,\n             'day': 38,\n             'up': 39,\n             'now': 40,\n             '..': 41,\n             'work': 42,\n             '&': 43,\n             'was': 44,\n             ';': 45,\n             'no': 46,\n             'get': 47,\n             'out': 48,\n             'today': 49,\n             'are': 50,\n             'all': 51,\n             'go': 52,\n             'going': 53,\n             'too': 54,\n             'got': 55,\n             'like': 56,\n             'your': 57,\n             'what': 58,\n             'from': 59,\n             'back': 60,\n             'one': 61,\n             'ca': 62,\n             'am': 63,\n             'time': 64,\n             'nt': 65,\n             'some': 66,\n             'we': 67,\n             'love': 68,\n             'morning': 69,\n             'still': 70,\n             'know': 71,\n             'did': 72,\n             'can': 73,\n             'will': 74,\n             'really': 75,\n             'they': 76,\n             '  ': 77,\n             'about': 78,\n             'new': 79,\n             'there': 80,\n             ':': 81,\n             'lol': 82,\n             'had': 83,\n             'last': 84,\n             'thanks': 85,\n             'more': 86,\n             'its': 87,\n             'want': 88,\n             'has': 89,\n             'm': 90,\n             'see': 91,\n             'how': 92,\n             'think': 93,\n             'if': 94,\n             'well': 95,\n             '2': 96,\n             'u': 97,\n             '*': 98,\n             'home': 99,\n             'much': 100,\n             'off': 101,\n             'as': 102,\n             'when': 103,\n             \"'\": 104,\n             '....': 105,\n             'amp': 106,\n             'oh': 107,\n             'then': 108,\n             'here': 109,\n             \"'ll\": 110,\n             'hope': 111,\n             'night': 112,\n             '#': 113,\n             'need': 114,\n             'an': 115,\n             'been': 116,\n             'twitter': 117,\n             'again': 118,\n             '(': 119,\n             ')': 120,\n             'great': 121,\n             'he': 122,\n             'why': 123,\n             'or': 124,\n             'feel': 125,\n             'her': 126,\n             \"'re\": 127,\n             'only': 128,\n             'way': 129,\n             'haha': 130,\n             'getting': 131,\n             'very': 132,\n             'bad': 133,\n             'could': 134,\n             'would': 135,\n             'by': 136,\n             'fun': 137,\n             'sleep': 138,\n             'sad': 139,\n             'should': 140,\n             'happy': 141,\n             'na': 142,\n             'them': 143,\n             'right': 144,\n             'school': 145,\n             \"'ve\": 146,\n             'make': 147,\n             'over': 148,\n             'tomorrow': 149,\n             'she': 150,\n             'gon': 151,\n             'does': 152,\n             'sorry': 153,\n             'week': 154,\n             'miss': 155,\n             'wish': 156,\n             '/': 157,\n             'bed': 158,\n             'come': 159,\n             'people': 160,\n             'thank': 161,\n             'better': 162,\n             'nice': 163,\n             'our': 164,\n             'though': 165,\n             'even': 166,\n             's': 167,\n             'sick': 168,\n             'days': 169,\n             'another': 170,\n             'hey': 171,\n             'being': 172,\n             'done': 173,\n             'working': 174,\n             'hate': 175,\n             'find': 176,\n             'wait': 177,\n             'ready': 178,\n             'never': 179,\n             'soon': 180,\n             'any': 181,\n             'tonight': 182,\n             'yeah': 183,\n             'yes': 184,\n             'down': 185,\n             'long': 186,\n             'next': 187,\n             'yet': 188,\n             'always': 189,\n             'having': 190,\n             'first': 191,\n             'watching': 192,\n             'who': 193,\n             'after': 194,\n             'little': 195,\n             '3': 196,\n             'early': 197,\n             'feeling': 198,\n             'take': 199,\n             'tired': 200,\n             'thing': 201,\n             'house': 202,\n             'say': 203,\n             'something': 204,\n             'than': 205,\n             '4': 206,\n             'yay': 207,\n             'awesome': 208,\n             'before': 209,\n             'best': 210,\n             'into': 211,\n             'wo': 212,\n             'cold': 213,\n             'coming': 214,\n             'maybe': 215,\n             'please': 216,\n             'trying': 217,\n             '5': 218,\n             'doing': 219,\n             'him': 220,\n             'phone': 221,\n             'were': 222,\n             'let': 223,\n             'sure': 224,\n             'job': 225,\n             'pretty': 226,\n             'wanna': 227,\n             'finally': 228,\n             'life': 229,\n             'those': 230,\n             'away': 231,\n             'hours': 232,\n             'us': 233,\n             'woke': 234,\n             'ok': 235,\n             'because': 236,\n             'show': 237,\n             'while': 238,\n             'cool': 239,\n             'follow': 240,\n             'help': 241,\n             'his': 242,\n             'looks': 243,\n             'start': 244,\n             'class': 245,\n             'omg': 246,\n             'already': 247,\n             'bit': 248,\n             'went': 249,\n             'which': 250,\n             'baby': 251,\n             'car': 252,\n             'check': 253,\n             'looking': 254,\n             'two': 255,\n             'year': 256,\n             'actually': 257,\n             'ever': 258,\n             'hear': 259,\n             'late': 260,\n             'old': 261,\n             'summer': 262,\n             'world': 263,\n             '   ': 264,\n             'everyone': 265,\n             'god': 266,\n             'guys': 267,\n             'look': 268,\n             'made': 269,\n             'might': 270,\n             'friends': 271,\n             'missed': 272,\n             'other': 273,\n             'things': 274,\n             'watch': 275,\n             \"'d\": 276,\n             'buy': 277,\n             'keep': 278,\n             'left': 279,\n             'since': 280,\n             'snow': 281,\n             'wow': 282,\n             'x': 283,\n             'girl': 284,\n             'use': 285,\n             'waiting': 286,\n             'damn': 287,\n             'eating': 288,\n             'guess': 289,\n             'sun': 290,\n             'tweet': 291,\n             'where': 292,\n             'coffee': 293,\n             'glad': 294,\n             'many': 295,\n             'nothing': 296,\n             'someone': 297,\n             'stop': 298,\n             'stuff': 299,\n             'ta': 300,\n             'thought': 301,\n             'try': 302,\n             'ur': 303,\n             '$': 304,\n             'head': 305,\n             'later': 306,\n             'must': 307,\n             'okay': 308,\n             'tell': 309,\n             'times': 310,\n             'aww': 311,\n             'until': 312,\n             '1': 313,\n             'also': 314,\n             'around': 315,\n             'beautiful': 316,\n             'free': 317,\n             'lt;3': 318,\n             'music': 319,\n             'myself': 320,\n             'rain': 321,\n             'same': 322,\n             '.....': 323,\n             '=': 324,\n             'birthday': 325,\n             'excited': 326,\n             'following': 327,\n             'makes': 328,\n             'n': 329,\n             'poor': 330,\n             'put': 331,\n             'song': 332,\n             'such': 333,\n             'sucks': 334,\n             'their': 335,\n             'ugh': 336,\n             'yesterday': 337,\n             'big': 338,\n             'bored': 339,\n             'few': 340,\n             'luck': 341,\n             'making': 342,\n             '10': 343,\n             ';)': 344,\n             '@': 345,\n             'anything': 346,\n             'found': 347,\n             'man': 348,\n             'missing': 349,\n             'office': 350,\n             'saw': 351,\n             'weather': 352,\n             'enough': 353,\n             'finished': 354,\n             'give': 355,\n             'lost': 356,\n             'movie': 357,\n             'place': 358,\n             'break': 359,\n             'every': 360,\n             'friend': 361,\n             'hard': 362,\n             'hi': 363,\n             'idea': 364,\n             'mean': 365,\n             'outside': 366,\n             'play': 367,\n             'welcome': 368,\n             'end': 369,\n             'hopefully': 370,\n             'hour': 371,\n             'listening': 372,\n             'these': 373,\n             'amazing': 374,\n             'dinner': 375,\n             'forward': 376,\n             'gone': 377,\n             'mom': 378,\n             'rest': 379,\n             'sitting': 380,\n             'sounds': 381,\n             'b': 382,\n             'enjoy': 383,\n             'friday': 384,\n             'goes': 385,\n             'iphone': 386,\n             'kind': 387,\n             'leave': 388,\n             'pain': 389,\n             'run': 390,\n             'til': 391,\n             '6': 392,\n             'believe': 393,\n             'everything': 394,\n             'kids': 395,\n             'live': 396,\n             'mine': 397,\n             'site': 398,\n             'taking': 399,\n             'through': 400,\n             'weekend': 401,\n             'able': 402,\n             'family': 403,\n             'far': 404,\n             'forgot': 405,\n             'funny': 406,\n             'lunch': 407,\n             'lvatt': 408,\n             'may': 409,\n             'meet': 410,\n             'said': 411,\n             'stupid': 412,\n             'tho': 413,\n             'thursday': 414,\n             'wake': 415,\n             'headache': 416,\n             'hoping': 417,\n             'hot': 418,\n             'ill': 419,\n             'internet': 420,\n             'least': 421,\n             'lot': 422,\n             'most': 423,\n             'own': 424,\n             'send': 425,\n             'stuck': 426,\n             'video': 427,\n             'walk': 428,\n             'years': 429,\n             'ah': 430,\n             'both': 431,\n             'call': 432,\n             'eat': 433,\n             'exam': 434,\n             'food': 435,\n             'game': 436,\n             'heard': 437,\n             'hell': 438,\n             'lovely': 439,\n             'playing': 440,\n             'probably': 441,\n             're': 442,\n             'room': 443,\n             'thinking': 444,\n             'till': 445,\n             'wants': 446,\n             'without': 447,\n             'wrong': 448,\n             'ya': 449,\n             '8': 450,\n             '_': 451,\n             'afternoon': 452,\n             'anyone': 453,\n             'awake': 454,\n             'btw': 455,\n             'busy': 456,\n             'either': 457,\n             'heading': 458,\n             'homework': 459,\n             'hurt': 460,\n             'jonas': 461,\n             'money': 462,\n             'sigh': 463,\n             'study': 464,\n             'super': 465,\n             'totally': 466,\n             'tuesday': 467,\n             'wishing': 468,\n             'album': 469,\n             'boring': 470,\n             'computer': 471,\n             'else': 472,\n             'followers': 473,\n             'hahaha': 474,\n             'happen': 475,\n             'hehe': 476,\n             'part': 477,\n             'person': 478,\n             'pic': 479,\n             'snowing': 480,\n             'talk': 481,\n             'throat': 482,\n             'true': 483,\n             'using': 484,\n             'weeks': 485,\n             'worse': 486,\n             'ago': 487,\n             'bring': 488,\n             'd': 489,\n             'facebook': 490,\n             'hair': 491,\n             'hurts': 492,\n             'meeting': 493,\n             'needs': 494,\n             'once': 495,\n             'open': 496,\n             'post': 497,\n             'read': 498,\n             'reading': 499,\n             'season': 500,\n             'soo': 501,\n             'took': 502,\n             '......': 503,\n             'awww': 504,\n             'course': 505,\n             'crazy': 506,\n             'cute': 507,\n             'feels': 508,\n             'full': 509,\n             'guy': 510,\n             'gym': 511,\n             'lots': 512,\n             'online': 513,\n             'picture': 514,\n             'r': 515,\n             'starting': 516,\n             'test': 517,\n             'trip': 518,\n             'tweets': 519,\n             'w': 520,\n             'wanted': 521,\n             'words': 522,\n             'anyway': 523,\n             'april': 524,\n             'came': 525,\n             'change': 526,\n             'comes': 527,\n             'couple': 528,\n             'gets': 529,\n             'half': 530,\n             'moment': 531,\n             'problem': 532,\n             'raining': 533,\n             'real': 534,\n             'seeing': 535,\n             'seems': 536,\n             'seen': 537,\n             'set': 538,\n             'shit': 539,\n             't': 540,\n             'whole': 541,\n             'wondering': 542,\n             'write': 543,\n             '--': 544,\n             'almost': 545,\n             'bought': 546,\n             'catch': 547,\n             'dad': 548,\n             'dead': 549,\n             'dog': 550,\n             'fine': 551,\n             'hello': 552,\n             'lmao': 553,\n             'london': 554,\n             'mind': 555,\n             'minutes': 556,\n             'reason': 557,\n             'says': 558,\n             'songs': 559,\n             'sore': 560,\n             'town': 561,\n             'update': 562,\n             'win': 563,\n             'works': 564,\n             'writing': 565,\n             '+': 566,\n             'account': 567,\n             'anymore': 568,\n             'book': 569,\n             'cd': 570,\n             'company': 571,\n             'finish': 572,\n             'ha': 573,\n             'heart': 574,\n             'la': 575,\n             'loving': 576,\n             'move': 577,\n             'party': 578,\n             'seriously': 579,\n             'short': 580,\n             'sometimes': 581,\n             'sooo': 582,\n             'sound': 583,\n             'sunny': 584,\n             'train': 585,\n             'tried': 586,\n             '12': 587,\n             '9': 588,\n             'boo': 589,\n             'boy': 590,\n             'breakfast': 591,\n             'broke': 592,\n             'brothers': 593,\n             'definitely': 594,\n             'dude': 595,\n             'each': 596,\n             'email': 597,\n             'english': 598,\n             'enjoying': 599,\n             'favorite': 600,\n             'green': 601,\n             'hates': 602,\n             'holidays': 603,\n             'listen': 604,\n             'mood': 605,\n             'name': 606,\n             'news': 607,\n             'pictures': 608,\n             'sat': 609,\n             'seem': 610,\n             'sleeping': 611,\n             'spring': 612,\n             'sweet': 613,\n             'turn': 614,\n             've': 615,\n             'wonderful': 616,\n             'y': 617,\n             '@jonasbrothers': 618,\n             'app': 619,\n             'beach': 620,\n             'blog': 621,\n             'cause': 622,\n             'cleaning': 623,\n             'close': 624,\n             'congrats': 625,\n             'crying': 626,\n             'cut': 627,\n             'dear': 628,\n             'episode': 629,\n             'fail': 630,\n             'fast': 631,\n             'fb': 632,\n             'hungry': 633,\n             'ipod': 634,\n             'kinda': 635,\n             'laptop': 636,\n             'lonely': 637,\n             'message': 638,\n             'moving': 639,\n             'page': 640,\n             'pics': 641,\n             'plan': 642,\n             'pm': 643,\n             'remember': 644,\n             'second': 645,\n             'sent': 646,\n             'slept': 647,\n             'started': 648,\n             'stay': 649,\n             'store': 650,\n             'told': 651,\n             'tv': 652,\n             'unfortunately': 653,\n             'vacation': 654,\n             'watched': 655,\n             '1st': 656,\n             '7': 657,\n             'ate': 658,\n             'books': 659,\n             'broken': 660,\n             'c': 661,\n             'called': 662,\n             'care': 663,\n             'cat': 664,\n             'chocolate': 665,\n             'city': 666,\n             'crap': 667,\n             'dressed': 668,\n             'drive': 669,\n             'face': 670,\n             'fuck': 671,\n             'fucking': 672,\n             'horrible': 673,\n             'interesting': 674,\n             'jealous': 675,\n             'less': 676,\n             'lil': 677,\n             'list': 678,\n             'nope': 679,\n             'o': 680,\n             'ones': 681,\n             'paper': 682,\n             'photos': 683,\n             'power': 684,\n             'ppl': 685,\n             'running': 686,\n             'shame': 687,\n             'shower': 688,\n             'single': 689,\n             'sunday': 690,\n             'supposed': 691,\n             'text': 692,\n             'tweeting': 693,\n             'upload': 694,\n             'used': 695,\n             'w/': 696,\n             'website': 697,\n             'windows': 698,\n             'wonder': 699,\n             'woo': 700,\n             'worth': 701,\n             'xd': 702,\n             'xx': 703,\n             '@mileycyrus': 704,\n             ']': 705,\n             'ahhh': 706,\n             'babe': 707,\n             'body': 708,\n             'bus': 709,\n             'clean': 710,\n             'cry': 711,\n             'dentist': 712,\n             'dream': 713,\n             'e': 714,\n             'everybody': 715,\n             'expensive': 716,\n             'eyes': 717,\n             'flight': 718,\n             'giving': 719,\n             'hmm': 720,\n             'hug': 721,\n             'instead': 722,\n             'learn': 723,\n             'link': 724,\n             'lucky': 725,\n             'macbook': 726,\n             'near': 727,\n             'nobody': 728,\n             'project': 729,\n             'sadly': 730,\n             'shirt': 731,\n             'slow': 732,\n             'squarespace': 733,\n             'tea': 734,\n             'thinks': 735,\n             'top': 736,\n             'via': 737,\n             'visit': 738,\n             'water': 739,\n             'worked': 740,\n             'worst': 741,\n             'wtf': 742,\n             'xxx': 743,\n             '20': 744,\n             '2day': 745,\n             '2nd': 746,\n             'asleep': 747,\n             'ass': 748,\n             'aw': 749,\n             'band': 750,\n             'bday': 751,\n             'black': 752,\n             'bummer': 753,\n             'completely': 754,\n             'confused': 755,\n             'cup': 756,\n             'cuz': 757,\n             'different': 758,\n             'dm': 759,\n             'download': 760,\n             'dress': 761,\n             'drinking': 762,\n             'dying': 763,\n             'feet': 764,\n             'fell': 765,\n             'gunna': 766,\n             'heh': 767,\n             'history': 768,\n             'info': 769,\n             'kill': 770,\n             'knew': 771,\n             'lady': 772,\n             'leaving': 773,\n             'lines': 774,\n             'living': 775,\n             'mad': 776,\n             'mail': 777,\n             'minute': 778,\n             'monday': 779,\n             'mother': 780,\n             'nearly': 781,\n             'pay': 782,\n             'perfect': 783,\n             'pick': 784,\n             'plus': 785,\n             'quite': 786,\n             'red': 787,\n             'rock': 788,\n             'saturday': 789,\n             'shop': 790,\n             'shopping': 791,\n             'sister': 792,\n             'small': 793,\n             'somewhere': 794,\n             'tickets': 795,\n             'uk': 796,\n             'wishes': 797,\n             'won': 798,\n             'yours': 799,\n             '11': 800,\n             ':*': 801,\n             'add': 802,\n             'agree': 803,\n             'alone': 804,\n             'although': 805,\n             'apparently': 806,\n             'art': 807,\n             'article': 808,\n             'brain': 809,\n             'business': 810,\n             'camera': 811,\n             'camp': 812,\n             'chat': 813,\n             'classes': 814,\n             'college': 815,\n             'cover': 816,\n             'death': 817,\n             'died': 818,\n             'driving': 819,\n             'due': 820,\n             'easter': 821,\n             'evening': 822,\n             'exams': 823,\n             'except': 824,\n             'exciting': 825,\n             'experience': 826,\n             'extra': 827,\n             'fact': 828,\n             'fair': 829,\n             'fit': 830,\n             'forget': 831,\n             'girls': 832,\n             'goodnight': 833,\n             'hand': 834,\n             'happened': 835,\n             'happens': 836,\n             'hubby': 837,\n             'huge': 838,\n             'hugs': 839,\n             'ice': 840,\n             'italy': 841,\n             'line': 842,\n             'loves': 843,\n             'means': 844,\n             'meetings': 845,\n             'month': 846,\n             'nite': 847,\n             'ooh': 848,\n             'others': 849,\n             'packing': 850,\n             'paid': 851,\n             'past': 852,\n             'perhaps': 853,\n             'photo': 854,\n             'pizza': 855,\n             'point': 856,\n             'return': 857,\n             'ride': 858,\n             'shall': 859,\n             'sleepy': 860,\n             'social': 861,\n             'stopped': 862,\n             'support': 863,\n             'terrible': 864,\n             'tom': 865,\n             'twilight': 866,\n             'understand': 867,\n             'upset': 868,\n             'usually': 869,\n             'vines': 870,\n             'weird': 871,\n             'yep': 872,\n             '%': 873,\n             ':o': 874,\n             '@tommcfly': 875,\n             'ache': 876,\n             'ai': 877,\n             'alot': 878,\n             'answer': 879,\n             'behind': 880,\n             'bitch': 881,\n             'buying': 882,\n             'cell': 883,\n             'changed': 884,\n             'click': 885,\n             'code': 886,\n             'concert': 887,\n             'copy': 888,\n             'cream': 889,\n             'date': 890,\n             'david': 891,\n             'door': 892,\n             'fan': 893,\n             'fat': 894,\n             'felt': 895,\n             'future': 896,\n             'garden': 897,\n             'gave': 898,\n             'goodbye': 899,\n             'guitar': 900,\n             'hit': 901,\n             'hold': 902,\n             'honey': 903,\n             \"i'm\": 904,\n             'july': 905,\n             'keeps': 906,\n             'kid': 907,\n             'lately': 908,\n             'laugh': 909,\n             'light': 910,\n             'longer': 911,\n             'mac': 912,\n             'matter': 913,\n             'meant': 914,\n             'media': 915,\n             'mobile': 916,\n             'mum': 917,\n             'needed': 918,\n             'ouch': 919,\n             'prayers': 920,\n             'rather': 921,\n             'realized': 922,\n             'road': 923,\n             'share': 924,\n             'shoot': 925,\n             'smile': 926,\n             'soooo': 927,\n             'special': 928,\n             'studying': 929,\n             'suck': 930,\n             'surgery': 931,\n             'takes': 932,\n             'three': 933,\n             'tour': 934,\n             'training': 935,\n             'turned': 936,\n             'updates': 937,\n             'waking': 938,\n             'web': 939,\n             'winter': 940,\n             'wrote': 941,\n             'yea': 942,\n             'yourself': 943,\n             '«': 944,\n             '    ': 945,\n             '.......': 946,\n             '100': 947,\n             '3rd': 948,\n             '50': 949,\n             ';-)': 950,\n             '[': 951,\n             'ahh': 952,\n             'air': 953,\n             'along': 954,\n             'alright': 955,\n             'apple': 956,\n             'bar': 957,\n             'bike': 958,\n             'bloody': 959,\n             'brought': 960,\n             'bye': 961,\n             'cake': 962,\n             'chance': 963,\n             'cheese': 964,\n             'competition': 965,\n             'congratulations': 966,\n             'da': 967,\n             'darn': 968,\n             'deal': 969,\n             'desk': 970,\n             'diet': 971,\n             'dogs': 972,\n             \"don't\": 973,\n             'drink': 974,\n             'dunno': 975,\n             'during': 976,\n             'dvd': 977,\n             'easy': 978,\n             'eye': 979,\n             'fall': 980,\n             'fans': 981,\n             'fantastic': 982,\n             'father': 983,\n             'female': 984,\n             'figure': 985,\n             'final': 986,\n             'fixed': 987,\n             'fly': 988,\n             'followed': 989,\n             'forever': 990,\n             'g': 991,\n             'gettin': 992,\n             'gig': 993,\n             'given': 994,\n             'goin': 995,\n             'gorgeous': 996,\n             'guilty': 997,\n             'heroes': 998,\n             'hills': 999,\n             ...})"
     },
     "execution_count": 24,
     "metadata": {},
     "output_type": "execute_result"
    }
   ],
   "source": [
    "TWEET.vocab.stoi"
   ],
   "metadata": {
    "collapsed": false,
    "ExecuteTime": {
     "end_time": "2023-11-02T08:43:36.286489Z",
     "start_time": "2023-11-02T08:43:36.279883Z"
    }
   }
  },
  {
   "cell_type": "code",
   "execution_count": 20,
   "outputs": [],
   "source": [
    "LABEL.build_vocab(train)"
   ],
   "metadata": {
    "collapsed": false,
    "ExecuteTime": {
     "end_time": "2023-11-02T08:41:40.370992Z",
     "start_time": "2023-11-02T08:41:40.361610Z"
    }
   }
  },
  {
   "cell_type": "code",
   "execution_count": 22,
   "outputs": [
    {
     "data": {
      "text/plain": "defaultdict(None, {'0': 0, '1': 1})"
     },
     "execution_count": 22,
     "metadata": {},
     "output_type": "execute_result"
    }
   ],
   "source": [
    "LABEL.vocab.stoi"
   ],
   "metadata": {
    "collapsed": false,
    "ExecuteTime": {
     "end_time": "2023-11-02T08:41:55.859071Z",
     "start_time": "2023-11-02T08:41:55.856566Z"
    }
   }
  },
  {
   "cell_type": "code",
   "execution_count": 25,
   "metadata": {
    "ExecuteTime": {
     "end_time": "2023-11-02T08:46:25.595376Z",
     "start_time": "2023-11-02T08:46:25.588534Z"
    }
   },
   "outputs": [],
   "source": [
    "train_iterator, valid_iterator, test_iterator = data.BucketIterator.splits(\n",
    "    (train, valid, test),\n",
    "    batch_size = 32,\n",
    "    device = device,\n",
    "    sort_key = lambda x: len(x.tweet),\n",
    "    sort_within_batch = False)"
   ]
  },
  {
   "cell_type": "markdown",
   "metadata": {},
   "source": [
    "## Our First LSTM"
   ]
  },
  {
   "cell_type": "code",
   "execution_count": 26,
   "metadata": {
    "ExecuteTime": {
     "end_time": "2023-11-02T08:46:28.326138Z",
     "start_time": "2023-11-02T08:46:28.050266Z"
    }
   },
   "outputs": [
    {
     "data": {
      "text/plain": "OurFirstLSTM(\n  (embedding): Embedding(20002, 300)\n  (encoder): LSTM(300, 100)\n  (predictor): Linear(in_features=100, out_features=2, bias=True)\n)"
     },
     "execution_count": 26,
     "metadata": {},
     "output_type": "execute_result"
    }
   ],
   "source": [
    "class OurFirstLSTM(nn.Module):\n",
    "    def __init__(self, hidden_size, embedding_dim, vocab_size):\n",
    "        super(OurFirstLSTM, self).__init__()\n",
    "    \n",
    "        self.embedding = nn.Embedding(vocab_size, embedding_dim)\n",
    "        self.encoder = nn.LSTM(input_size=embedding_dim,  \n",
    "                hidden_size=hidden_size, num_layers=1)\n",
    "        self.predictor = nn.Linear(hidden_size, 2)\n",
    "\n",
    "    def forward(self, seq):\n",
    "        output, (hidden,_) = self.encoder(self.embedding(seq))\n",
    "        preds = self.predictor(hidden.squeeze(0))\n",
    "        return preds\n",
    "\n",
    "model = OurFirstLSTM(100,300, 20002)\n",
    "model.to(device)"
   ]
  },
  {
   "cell_type": "markdown",
   "metadata": {},
   "source": [
    "## Training"
   ]
  },
  {
   "cell_type": "code",
   "execution_count": 27,
   "metadata": {
    "ExecuteTime": {
     "end_time": "2023-11-02T08:50:09.088446Z",
     "start_time": "2023-11-02T08:50:08.551995Z"
    }
   },
   "outputs": [],
   "source": [
    "optimizer = optim.Adam(model.parameters(), lr=2e-2)\n",
    "criterion = nn.CrossEntropyLoss()\n",
    "\n",
    "def train(epochs, model, optimizer, criterion, train_iterator, valid_iterator):\n",
    "    for epoch in range(1, epochs+1):\n",
    "     \n",
    "        training_loss = 0.0\n",
    "        valid_loss = 0.0\n",
    "        model.train()\n",
    "        for batch_idx, batch in enumerate(train_iterator):\n",
    "            optimizer.zero_grad()\n",
    "            predict = model(batch.tweet)\n",
    "            loss = criterion(predict,batch.label)\n",
    "            loss.backward()\n",
    "            optimizer.step()\n",
    "            training_loss += loss.data.item() * batch.tweet.size(0)\n",
    "            print(f'Epoch: {epoch}, loss.data.item(): {loss.data.item()}, batch.tweet.size(0): {batch.tweet.size(0)}')\n",
    "        training_loss /= len(train_iterator)\n",
    "        print(f'training_loss /= len(train_iterator): {training_loss / len(train_iterator)}, training_loss: {training_loss}, len(train_iterator): {len(train_iterator)}')\n",
    " \n",
    "        \n",
    "        model.eval()\n",
    "        for batch_idx,batch in enumerate(valid_iterator):\n",
    "            predict = model(batch.tweet)\n",
    "            loss = criterion(predict,batch.label)\n",
    "            valid_loss += loss.data.item() * batch.tweet.size(0)\n",
    " \n",
    "        valid_loss /= len(valid_iterator)\n",
    "        print('Epoch: {}, Training Loss: {:.2f}, Validation Loss: {:.2f}'.format(epoch, training_loss, valid_loss))"
   ]
  },
  {
   "cell_type": "code",
   "execution_count": 28,
   "metadata": {
    "ExecuteTime": {
     "end_time": "2023-11-02T08:50:28.954993Z",
     "start_time": "2023-11-02T08:50:11.821382Z"
    }
   },
   "outputs": [
    {
     "name": "stdout",
     "output_type": "stream",
     "text": [
      "Epoch: 1, loss.data.item(): 0.706108570098877, batch.tweet.size(0): 33\n",
      "Epoch: 1, loss.data.item(): 1.7492945194244385, batch.tweet.size(0): 32\n",
      "Epoch: 1, loss.data.item(): 1.1907867193222046, batch.tweet.size(0): 32\n",
      "Epoch: 1, loss.data.item(): 0.7320588231086731, batch.tweet.size(0): 33\n",
      "Epoch: 1, loss.data.item(): 0.8326799273490906, batch.tweet.size(0): 32\n",
      "Epoch: 1, loss.data.item(): 0.75807785987854, batch.tweet.size(0): 40\n",
      "Epoch: 1, loss.data.item(): 1.0076727867126465, batch.tweet.size(0): 30\n",
      "Epoch: 1, loss.data.item(): 0.7613364458084106, batch.tweet.size(0): 34\n",
      "Epoch: 1, loss.data.item(): 0.7509464025497437, batch.tweet.size(0): 38\n",
      "Epoch: 1, loss.data.item(): 0.7172070145606995, batch.tweet.size(0): 37\n",
      "Epoch: 1, loss.data.item(): 0.68511962890625, batch.tweet.size(0): 35\n",
      "Epoch: 1, loss.data.item(): 0.6943508386611938, batch.tweet.size(0): 36\n",
      "Epoch: 1, loss.data.item(): 0.7985957860946655, batch.tweet.size(0): 31\n",
      "Epoch: 1, loss.data.item(): 0.845305323600769, batch.tweet.size(0): 31\n",
      "Epoch: 1, loss.data.item(): 0.7851111888885498, batch.tweet.size(0): 35\n",
      "Epoch: 1, loss.data.item(): 0.8328155279159546, batch.tweet.size(0): 31\n",
      "Epoch: 1, loss.data.item(): 0.7575910091400146, batch.tweet.size(0): 33\n",
      "Epoch: 1, loss.data.item(): 0.6995978355407715, batch.tweet.size(0): 32\n",
      "Epoch: 1, loss.data.item(): 0.7010136842727661, batch.tweet.size(0): 33\n",
      "Epoch: 1, loss.data.item(): 0.7184284329414368, batch.tweet.size(0): 35\n",
      "Epoch: 1, loss.data.item(): 0.7130106687545776, batch.tweet.size(0): 30\n",
      "Epoch: 1, loss.data.item(): 0.7346200942993164, batch.tweet.size(0): 32\n",
      "Epoch: 1, loss.data.item(): 0.69134920835495, batch.tweet.size(0): 27\n",
      "Epoch: 1, loss.data.item(): 0.7334770560264587, batch.tweet.size(0): 31\n",
      "Epoch: 1, loss.data.item(): 0.7057191729545593, batch.tweet.size(0): 32\n",
      "Epoch: 1, loss.data.item(): 0.688913106918335, batch.tweet.size(0): 33\n",
      "Epoch: 1, loss.data.item(): 0.6852666139602661, batch.tweet.size(0): 31\n",
      "Epoch: 1, loss.data.item(): 0.7300146818161011, batch.tweet.size(0): 28\n",
      "Epoch: 1, loss.data.item(): 0.6763442754745483, batch.tweet.size(0): 33\n",
      "Epoch: 1, loss.data.item(): 0.6848850250244141, batch.tweet.size(0): 33\n",
      "Epoch: 1, loss.data.item(): 0.7004016637802124, batch.tweet.size(0): 27\n",
      "Epoch: 1, loss.data.item(): 0.68440181016922, batch.tweet.size(0): 30\n",
      "Epoch: 1, loss.data.item(): 0.7446238398551941, batch.tweet.size(0): 32\n",
      "Epoch: 1, loss.data.item(): 0.6923789381980896, batch.tweet.size(0): 36\n",
      "Epoch: 1, loss.data.item(): 0.7566189765930176, batch.tweet.size(0): 33\n",
      "Epoch: 1, loss.data.item(): 0.6981756687164307, batch.tweet.size(0): 31\n",
      "Epoch: 1, loss.data.item(): 0.6904997825622559, batch.tweet.size(0): 30\n",
      "Epoch: 1, loss.data.item(): 0.6851105093955994, batch.tweet.size(0): 29\n",
      "Epoch: 1, loss.data.item(): 0.6846252679824829, batch.tweet.size(0): 30\n",
      "Epoch: 1, loss.data.item(): 0.6740877032279968, batch.tweet.size(0): 39\n",
      "Epoch: 1, loss.data.item(): 0.6910338997840881, batch.tweet.size(0): 34\n",
      "Epoch: 1, loss.data.item(): 0.7210460901260376, batch.tweet.size(0): 33\n",
      "Epoch: 1, loss.data.item(): 0.6872432231903076, batch.tweet.size(0): 35\n",
      "Epoch: 1, loss.data.item(): 0.6895391941070557, batch.tweet.size(0): 31\n",
      "Epoch: 1, loss.data.item(): 0.7237002849578857, batch.tweet.size(0): 29\n",
      "Epoch: 1, loss.data.item(): 0.6711153984069824, batch.tweet.size(0): 38\n",
      "Epoch: 1, loss.data.item(): 0.6608035564422607, batch.tweet.size(0): 33\n",
      "Epoch: 1, loss.data.item(): 0.8066384792327881, batch.tweet.size(0): 34\n",
      "Epoch: 1, loss.data.item(): 0.7322204113006592, batch.tweet.size(0): 35\n",
      "Epoch: 1, loss.data.item(): 0.665595531463623, batch.tweet.size(0): 34\n",
      "Epoch: 1, loss.data.item(): 0.7034942507743835, batch.tweet.size(0): 37\n",
      "Epoch: 1, loss.data.item(): 0.6942065358161926, batch.tweet.size(0): 31\n",
      "Epoch: 1, loss.data.item(): 0.7704198956489563, batch.tweet.size(0): 33\n",
      "Epoch: 1, loss.data.item(): 0.672329843044281, batch.tweet.size(0): 40\n",
      "Epoch: 1, loss.data.item(): 0.7603722810745239, batch.tweet.size(0): 34\n",
      "Epoch: 1, loss.data.item(): 0.6853280067443848, batch.tweet.size(0): 31\n",
      "Epoch: 1, loss.data.item(): 0.6985933184623718, batch.tweet.size(0): 39\n",
      "Epoch: 1, loss.data.item(): 0.7033425569534302, batch.tweet.size(0): 36\n",
      "Epoch: 1, loss.data.item(): 0.6851946115493774, batch.tweet.size(0): 32\n",
      "Epoch: 1, loss.data.item(): 0.7151128649711609, batch.tweet.size(0): 34\n",
      "Epoch: 1, loss.data.item(): 0.6808561682701111, batch.tweet.size(0): 34\n",
      "Epoch: 1, loss.data.item(): 0.6787893176078796, batch.tweet.size(0): 34\n",
      "Epoch: 1, loss.data.item(): 0.6924071311950684, batch.tweet.size(0): 32\n",
      "Epoch: 1, loss.data.item(): 0.7999461889266968, batch.tweet.size(0): 35\n",
      "Epoch: 1, loss.data.item(): 0.7095524072647095, batch.tweet.size(0): 43\n",
      "Epoch: 1, loss.data.item(): 0.6872604489326477, batch.tweet.size(0): 32\n",
      "Epoch: 1, loss.data.item(): 0.7014243602752686, batch.tweet.size(0): 32\n",
      "Epoch: 1, loss.data.item(): 0.7262937426567078, batch.tweet.size(0): 32\n",
      "Epoch: 1, loss.data.item(): 0.69025057554245, batch.tweet.size(0): 38\n",
      "Epoch: 1, loss.data.item(): 0.682931125164032, batch.tweet.size(0): 35\n",
      "Epoch: 1, loss.data.item(): 0.6940352320671082, batch.tweet.size(0): 32\n",
      "Epoch: 1, loss.data.item(): 0.7348562479019165, batch.tweet.size(0): 35\n",
      "Epoch: 1, loss.data.item(): 0.7248401641845703, batch.tweet.size(0): 39\n",
      "Epoch: 1, loss.data.item(): 0.700613796710968, batch.tweet.size(0): 42\n",
      "Epoch: 1, loss.data.item(): 0.691787600517273, batch.tweet.size(0): 34\n",
      "Epoch: 1, loss.data.item(): 0.6874545812606812, batch.tweet.size(0): 38\n",
      "Epoch: 1, loss.data.item(): 0.6981557607650757, batch.tweet.size(0): 31\n",
      "Epoch: 1, loss.data.item(): 0.6805574893951416, batch.tweet.size(0): 37\n",
      "Epoch: 1, loss.data.item(): 0.7148014307022095, batch.tweet.size(0): 33\n",
      "Epoch: 1, loss.data.item(): 0.7272685170173645, batch.tweet.size(0): 32\n",
      "Epoch: 1, loss.data.item(): 0.7119200229644775, batch.tweet.size(0): 36\n",
      "Epoch: 1, loss.data.item(): 0.6918586492538452, batch.tweet.size(0): 36\n",
      "Epoch: 1, loss.data.item(): 0.6688429713249207, batch.tweet.size(0): 35\n",
      "Epoch: 1, loss.data.item(): 0.7906098365783691, batch.tweet.size(0): 38\n",
      "Epoch: 1, loss.data.item(): 0.7103458642959595, batch.tweet.size(0): 32\n",
      "Epoch: 1, loss.data.item(): 0.6958862543106079, batch.tweet.size(0): 34\n",
      "Epoch: 1, loss.data.item(): 0.7202301025390625, batch.tweet.size(0): 32\n",
      "Epoch: 1, loss.data.item(): 0.651801347732544, batch.tweet.size(0): 26\n",
      "Epoch: 1, loss.data.item(): 0.7582852244377136, batch.tweet.size(0): 35\n",
      "Epoch: 1, loss.data.item(): 0.7745267152786255, batch.tweet.size(0): 28\n",
      "Epoch: 1, loss.data.item(): 0.687293529510498, batch.tweet.size(0): 36\n",
      "Epoch: 1, loss.data.item(): 0.7210961580276489, batch.tweet.size(0): 34\n",
      "Epoch: 1, loss.data.item(): 0.7028258442878723, batch.tweet.size(0): 35\n",
      "Epoch: 1, loss.data.item(): 0.75098717212677, batch.tweet.size(0): 30\n",
      "Epoch: 1, loss.data.item(): 0.7124977111816406, batch.tweet.size(0): 30\n",
      "Epoch: 1, loss.data.item(): 0.7511775493621826, batch.tweet.size(0): 33\n",
      "Epoch: 1, loss.data.item(): 0.7027645111083984, batch.tweet.size(0): 32\n",
      "Epoch: 1, loss.data.item(): 0.6826699376106262, batch.tweet.size(0): 30\n",
      "Epoch: 1, loss.data.item(): 0.696082592010498, batch.tweet.size(0): 34\n",
      "Epoch: 1, loss.data.item(): 0.6726639270782471, batch.tweet.size(0): 35\n",
      "Epoch: 1, loss.data.item(): 0.656602144241333, batch.tweet.size(0): 34\n",
      "Epoch: 1, loss.data.item(): 0.7049033641815186, batch.tweet.size(0): 46\n",
      "Epoch: 1, loss.data.item(): 0.6889033317565918, batch.tweet.size(0): 35\n",
      "Epoch: 1, loss.data.item(): 0.8289734125137329, batch.tweet.size(0): 33\n",
      "Epoch: 1, loss.data.item(): 0.6727837324142456, batch.tweet.size(0): 34\n",
      "Epoch: 1, loss.data.item(): 0.6883907914161682, batch.tweet.size(0): 30\n",
      "Epoch: 1, loss.data.item(): 0.6777726411819458, batch.tweet.size(0): 39\n",
      "Epoch: 1, loss.data.item(): 0.6833926439285278, batch.tweet.size(0): 34\n",
      "Epoch: 1, loss.data.item(): 0.6859250664710999, batch.tweet.size(0): 30\n",
      "Epoch: 1, loss.data.item(): 0.7382699251174927, batch.tweet.size(0): 34\n",
      "Epoch: 1, loss.data.item(): 0.7023044228553772, batch.tweet.size(0): 29\n",
      "Epoch: 1, loss.data.item(): 0.7064113616943359, batch.tweet.size(0): 31\n",
      "Epoch: 1, loss.data.item(): 0.6938513517379761, batch.tweet.size(0): 33\n",
      "Epoch: 1, loss.data.item(): 0.6826586127281189, batch.tweet.size(0): 29\n",
      "Epoch: 1, loss.data.item(): 0.7027518153190613, batch.tweet.size(0): 34\n",
      "Epoch: 1, loss.data.item(): 0.6939054727554321, batch.tweet.size(0): 32\n",
      "Epoch: 1, loss.data.item(): 0.7049232721328735, batch.tweet.size(0): 31\n",
      "Epoch: 1, loss.data.item(): 0.695813000202179, batch.tweet.size(0): 34\n",
      "Epoch: 1, loss.data.item(): 0.7047765851020813, batch.tweet.size(0): 36\n",
      "Epoch: 1, loss.data.item(): 0.7490314841270447, batch.tweet.size(0): 31\n",
      "Epoch: 1, loss.data.item(): 0.696270227432251, batch.tweet.size(0): 32\n",
      "Epoch: 1, loss.data.item(): 0.6983321309089661, batch.tweet.size(0): 36\n",
      "Epoch: 1, loss.data.item(): 0.7051191329956055, batch.tweet.size(0): 34\n",
      "Epoch: 1, loss.data.item(): 0.6614812612533569, batch.tweet.size(0): 32\n",
      "Epoch: 1, loss.data.item(): 0.6895616054534912, batch.tweet.size(0): 30\n",
      "Epoch: 1, loss.data.item(): 0.7552050948143005, batch.tweet.size(0): 28\n",
      "Epoch: 1, loss.data.item(): 0.7367545366287231, batch.tweet.size(0): 39\n",
      "Epoch: 1, loss.data.item(): 0.6964179873466492, batch.tweet.size(0): 30\n",
      "Epoch: 1, loss.data.item(): 0.6390347480773926, batch.tweet.size(0): 35\n",
      "Epoch: 1, loss.data.item(): 0.6865593194961548, batch.tweet.size(0): 34\n",
      "Epoch: 1, loss.data.item(): 0.858786940574646, batch.tweet.size(0): 34\n",
      "Epoch: 1, loss.data.item(): 0.8537577390670776, batch.tweet.size(0): 31\n",
      "Epoch: 1, loss.data.item(): 0.9345160126686096, batch.tweet.size(0): 33\n",
      "Epoch: 1, loss.data.item(): 0.8562831878662109, batch.tweet.size(0): 30\n",
      "Epoch: 1, loss.data.item(): 0.7446784377098083, batch.tweet.size(0): 30\n",
      "Epoch: 1, loss.data.item(): 0.6255367398262024, batch.tweet.size(0): 33\n",
      "Epoch: 1, loss.data.item(): 0.7675580978393555, batch.tweet.size(0): 35\n",
      "Epoch: 1, loss.data.item(): 1.0058486461639404, batch.tweet.size(0): 31\n",
      "Epoch: 1, loss.data.item(): 1.1444921493530273, batch.tweet.size(0): 44\n",
      "Epoch: 1, loss.data.item(): 0.9321267604827881, batch.tweet.size(0): 27\n",
      "Epoch: 1, loss.data.item(): 0.8368386030197144, batch.tweet.size(0): 35\n",
      "Epoch: 1, loss.data.item(): 0.7401343584060669, batch.tweet.size(0): 33\n",
      "Epoch: 1, loss.data.item(): 0.7062015533447266, batch.tweet.size(0): 31\n",
      "Epoch: 1, loss.data.item(): 0.7988187074661255, batch.tweet.size(0): 38\n",
      "Epoch: 1, loss.data.item(): 0.8893637657165527, batch.tweet.size(0): 33\n",
      "Epoch: 1, loss.data.item(): 0.6140192747116089, batch.tweet.size(0): 38\n",
      "Epoch: 1, loss.data.item(): 0.7505515217781067, batch.tweet.size(0): 30\n",
      "Epoch: 1, loss.data.item(): 0.8244994878768921, batch.tweet.size(0): 33\n",
      "Epoch: 1, loss.data.item(): 0.6564812660217285, batch.tweet.size(0): 34\n",
      "Epoch: 1, loss.data.item(): 0.7225450277328491, batch.tweet.size(0): 32\n",
      "Epoch: 1, loss.data.item(): 0.727734386920929, batch.tweet.size(0): 33\n",
      "Epoch: 1, loss.data.item(): 0.6363472938537598, batch.tweet.size(0): 30\n",
      "Epoch: 1, loss.data.item(): 0.6804416179656982, batch.tweet.size(0): 34\n",
      "Epoch: 1, loss.data.item(): 0.6364419460296631, batch.tweet.size(0): 29\n",
      "Epoch: 1, loss.data.item(): 0.7400438189506531, batch.tweet.size(0): 35\n",
      "Epoch: 1, loss.data.item(): 0.7210989594459534, batch.tweet.size(0): 31\n",
      "Epoch: 1, loss.data.item(): 0.7976170778274536, batch.tweet.size(0): 29\n",
      "Epoch: 1, loss.data.item(): 0.7374985218048096, batch.tweet.size(0): 34\n",
      "Epoch: 1, loss.data.item(): 0.6853106021881104, batch.tweet.size(0): 31\n",
      "Epoch: 1, loss.data.item(): 0.6918011903762817, batch.tweet.size(0): 33\n",
      "Epoch: 1, loss.data.item(): 0.7090454697608948, batch.tweet.size(0): 31\n",
      "Epoch: 1, loss.data.item(): 0.6401553750038147, batch.tweet.size(0): 32\n",
      "Epoch: 1, loss.data.item(): 0.8252081871032715, batch.tweet.size(0): 33\n",
      "Epoch: 1, loss.data.item(): 0.6351103782653809, batch.tweet.size(0): 33\n",
      "Epoch: 1, loss.data.item(): 0.8160523176193237, batch.tweet.size(0): 33\n",
      "Epoch: 1, loss.data.item(): 0.7062121033668518, batch.tweet.size(0): 30\n",
      "Epoch: 1, loss.data.item(): 0.7328581809997559, batch.tweet.size(0): 31\n",
      "Epoch: 1, loss.data.item(): 0.7697448134422302, batch.tweet.size(0): 33\n",
      "Epoch: 1, loss.data.item(): 0.6718726754188538, batch.tweet.size(0): 34\n",
      "Epoch: 1, loss.data.item(): 0.7108041048049927, batch.tweet.size(0): 31\n",
      "Epoch: 1, loss.data.item(): 0.7038063406944275, batch.tweet.size(0): 33\n",
      "Epoch: 1, loss.data.item(): 0.7606061697006226, batch.tweet.size(0): 33\n",
      "Epoch: 1, loss.data.item(): 0.7307472825050354, batch.tweet.size(0): 33\n",
      "Epoch: 1, loss.data.item(): 0.7303657531738281, batch.tweet.size(0): 31\n",
      "Epoch: 1, loss.data.item(): 0.6928192377090454, batch.tweet.size(0): 35\n",
      "Epoch: 1, loss.data.item(): 0.7401697635650635, batch.tweet.size(0): 32\n",
      "Epoch: 1, loss.data.item(): 0.7037227749824524, batch.tweet.size(0): 31\n",
      "Epoch: 1, loss.data.item(): 0.7074390649795532, batch.tweet.size(0): 31\n",
      "Epoch: 1, loss.data.item(): 0.6748361587524414, batch.tweet.size(0): 36\n",
      "Epoch: 1, loss.data.item(): 0.6862160563468933, batch.tweet.size(0): 33\n",
      "Epoch: 1, loss.data.item(): 0.674976110458374, batch.tweet.size(0): 38\n",
      "Epoch: 1, loss.data.item(): 0.7064899206161499, batch.tweet.size(0): 33\n",
      "Epoch: 1, loss.data.item(): 0.6803425550460815, batch.tweet.size(0): 35\n",
      "Epoch: 1, loss.data.item(): 0.6985181570053101, batch.tweet.size(0): 35\n",
      "Epoch: 1, loss.data.item(): 0.6558806896209717, batch.tweet.size(0): 32\n",
      "Epoch: 1, loss.data.item(): 0.7354271411895752, batch.tweet.size(0): 32\n",
      "Epoch: 1, loss.data.item(): 0.7026554942131042, batch.tweet.size(0): 34\n",
      "Epoch: 1, loss.data.item(): 0.7999610304832458, batch.tweet.size(0): 32\n",
      "training_loss /= len(train_iterator): 0.1293282334559128, training_loss: 24.313707889711605, len(train_iterator): 188\n",
      "Epoch: 1, Training Loss: 24.31, Validation Loss: 12.90\n",
      "Epoch: 2, loss.data.item(): 0.705240786075592, batch.tweet.size(0): 32\n",
      "Epoch: 2, loss.data.item(): 0.691810131072998, batch.tweet.size(0): 36\n",
      "Epoch: 2, loss.data.item(): 0.667813241481781, batch.tweet.size(0): 35\n",
      "Epoch: 2, loss.data.item(): 0.7329893112182617, batch.tweet.size(0): 32\n",
      "Epoch: 2, loss.data.item(): 0.8707164525985718, batch.tweet.size(0): 31\n",
      "Epoch: 2, loss.data.item(): 0.6554844379425049, batch.tweet.size(0): 33\n",
      "Epoch: 2, loss.data.item(): 0.6701721549034119, batch.tweet.size(0): 30\n",
      "Epoch: 2, loss.data.item(): 0.6749666929244995, batch.tweet.size(0): 35\n",
      "Epoch: 2, loss.data.item(): 0.6992408037185669, batch.tweet.size(0): 31\n",
      "Epoch: 2, loss.data.item(): 0.6934496164321899, batch.tweet.size(0): 32\n",
      "Epoch: 2, loss.data.item(): 0.7437678575515747, batch.tweet.size(0): 34\n",
      "Epoch: 2, loss.data.item(): 0.6873365640640259, batch.tweet.size(0): 32\n",
      "Epoch: 2, loss.data.item(): 0.7125425934791565, batch.tweet.size(0): 33\n",
      "Epoch: 2, loss.data.item(): 0.6986761689186096, batch.tweet.size(0): 33\n",
      "Epoch: 2, loss.data.item(): 0.7172040343284607, batch.tweet.size(0): 34\n",
      "Epoch: 2, loss.data.item(): 0.656013011932373, batch.tweet.size(0): 34\n",
      "Epoch: 2, loss.data.item(): 0.6762298941612244, batch.tweet.size(0): 34\n",
      "Epoch: 2, loss.data.item(): 0.6916722655296326, batch.tweet.size(0): 39\n",
      "Epoch: 2, loss.data.item(): 0.6992273926734924, batch.tweet.size(0): 30\n",
      "Epoch: 2, loss.data.item(): 0.6688706278800964, batch.tweet.size(0): 35\n",
      "Epoch: 2, loss.data.item(): 0.7075293064117432, batch.tweet.size(0): 30\n",
      "Epoch: 2, loss.data.item(): 0.7530779838562012, batch.tweet.size(0): 29\n",
      "Epoch: 2, loss.data.item(): 0.7363983392715454, batch.tweet.size(0): 33\n",
      "Epoch: 2, loss.data.item(): 0.7187263369560242, batch.tweet.size(0): 32\n",
      "Epoch: 2, loss.data.item(): 0.674324631690979, batch.tweet.size(0): 31\n",
      "Epoch: 2, loss.data.item(): 0.6877666115760803, batch.tweet.size(0): 34\n",
      "Epoch: 2, loss.data.item(): 0.7201215028762817, batch.tweet.size(0): 33\n",
      "Epoch: 2, loss.data.item(): 0.7444832921028137, batch.tweet.size(0): 38\n",
      "Epoch: 2, loss.data.item(): 0.6941705942153931, batch.tweet.size(0): 34\n",
      "Epoch: 2, loss.data.item(): 0.7207194566726685, batch.tweet.size(0): 32\n",
      "Epoch: 2, loss.data.item(): 0.7464171648025513, batch.tweet.size(0): 35\n",
      "Epoch: 2, loss.data.item(): 0.7156462669372559, batch.tweet.size(0): 37\n",
      "Epoch: 2, loss.data.item(): 0.6929305791854858, batch.tweet.size(0): 29\n",
      "Epoch: 2, loss.data.item(): 0.7133903503417969, batch.tweet.size(0): 32\n",
      "Epoch: 2, loss.data.item(): 0.7501499652862549, batch.tweet.size(0): 33\n",
      "Epoch: 2, loss.data.item(): 0.7625684142112732, batch.tweet.size(0): 28\n",
      "Epoch: 2, loss.data.item(): 0.8365128040313721, batch.tweet.size(0): 34\n",
      "Epoch: 2, loss.data.item(): 0.7365689873695374, batch.tweet.size(0): 28\n",
      "Epoch: 2, loss.data.item(): 0.6744420528411865, batch.tweet.size(0): 35\n",
      "Epoch: 2, loss.data.item(): 0.7287777066230774, batch.tweet.size(0): 36\n",
      "Epoch: 2, loss.data.item(): 0.7061936259269714, batch.tweet.size(0): 33\n",
      "Epoch: 2, loss.data.item(): 0.716623067855835, batch.tweet.size(0): 38\n",
      "Epoch: 2, loss.data.item(): 0.7692373394966125, batch.tweet.size(0): 32\n",
      "Epoch: 2, loss.data.item(): 0.7089347839355469, batch.tweet.size(0): 26\n",
      "Epoch: 2, loss.data.item(): 0.7007870078086853, batch.tweet.size(0): 30\n",
      "Epoch: 2, loss.data.item(): 0.6431766152381897, batch.tweet.size(0): 28\n",
      "Epoch: 2, loss.data.item(): 0.7116392850875854, batch.tweet.size(0): 39\n",
      "Epoch: 2, loss.data.item(): 0.7119013071060181, batch.tweet.size(0): 36\n",
      "Epoch: 2, loss.data.item(): 0.7081514596939087, batch.tweet.size(0): 32\n",
      "Epoch: 2, loss.data.item(): 0.7046445608139038, batch.tweet.size(0): 32\n",
      "Epoch: 2, loss.data.item(): 0.6873793601989746, batch.tweet.size(0): 34\n",
      "Epoch: 2, loss.data.item(): 0.6895305514335632, batch.tweet.size(0): 30\n",
      "Epoch: 2, loss.data.item(): 0.824299693107605, batch.tweet.size(0): 30\n",
      "Epoch: 2, loss.data.item(): 0.7549073100090027, batch.tweet.size(0): 32\n",
      "Epoch: 2, loss.data.item(): 0.6876934170722961, batch.tweet.size(0): 34\n",
      "Epoch: 2, loss.data.item(): 0.7597717046737671, batch.tweet.size(0): 31\n",
      "Epoch: 2, loss.data.item(): 0.6626365780830383, batch.tweet.size(0): 31\n",
      "Epoch: 2, loss.data.item(): 0.7718998193740845, batch.tweet.size(0): 37\n",
      "Epoch: 2, loss.data.item(): 0.6273019313812256, batch.tweet.size(0): 31\n",
      "Epoch: 2, loss.data.item(): 0.798133134841919, batch.tweet.size(0): 38\n",
      "Epoch: 2, loss.data.item(): 0.7676787376403809, batch.tweet.size(0): 32\n",
      "Epoch: 2, loss.data.item(): 0.6691861152648926, batch.tweet.size(0): 34\n",
      "Epoch: 2, loss.data.item(): 0.6948089003562927, batch.tweet.size(0): 31\n",
      "Epoch: 2, loss.data.item(): 0.7195131182670593, batch.tweet.size(0): 34\n",
      "Epoch: 2, loss.data.item(): 0.6665554642677307, batch.tweet.size(0): 38\n",
      "Epoch: 2, loss.data.item(): 0.7239959239959717, batch.tweet.size(0): 30\n",
      "Epoch: 2, loss.data.item(): 0.7462362051010132, batch.tweet.size(0): 32\n",
      "Epoch: 2, loss.data.item(): 0.7723551392555237, batch.tweet.size(0): 36\n",
      "Epoch: 2, loss.data.item(): 0.6648569107055664, batch.tweet.size(0): 34\n",
      "Epoch: 2, loss.data.item(): 0.7221336960792542, batch.tweet.size(0): 33\n",
      "Epoch: 2, loss.data.item(): 0.6685606241226196, batch.tweet.size(0): 32\n",
      "Epoch: 2, loss.data.item(): 0.6761203408241272, batch.tweet.size(0): 33\n",
      "Epoch: 2, loss.data.item(): 0.685077428817749, batch.tweet.size(0): 32\n",
      "Epoch: 2, loss.data.item(): 0.7016056180000305, batch.tweet.size(0): 33\n",
      "Epoch: 2, loss.data.item(): 0.745527982711792, batch.tweet.size(0): 36\n",
      "Epoch: 2, loss.data.item(): 0.6704061627388, batch.tweet.size(0): 38\n",
      "Epoch: 2, loss.data.item(): 0.608964741230011, batch.tweet.size(0): 28\n",
      "Epoch: 2, loss.data.item(): 0.7068696022033691, batch.tweet.size(0): 31\n",
      "Epoch: 2, loss.data.item(): 0.7928119897842407, batch.tweet.size(0): 34\n",
      "Epoch: 2, loss.data.item(): 0.7008912563323975, batch.tweet.size(0): 37\n",
      "Epoch: 2, loss.data.item(): 0.6673976182937622, batch.tweet.size(0): 34\n",
      "Epoch: 2, loss.data.item(): 0.681910514831543, batch.tweet.size(0): 33\n",
      "Epoch: 2, loss.data.item(): 0.7488646507263184, batch.tweet.size(0): 33\n",
      "Epoch: 2, loss.data.item(): 0.718739926815033, batch.tweet.size(0): 34\n",
      "Epoch: 2, loss.data.item(): 0.6430920362472534, batch.tweet.size(0): 34\n",
      "Epoch: 2, loss.data.item(): 0.6565704345703125, batch.tweet.size(0): 34\n",
      "Epoch: 2, loss.data.item(): 0.674648642539978, batch.tweet.size(0): 35\n",
      "Epoch: 2, loss.data.item(): 0.654874324798584, batch.tweet.size(0): 36\n",
      "Epoch: 2, loss.data.item(): 0.771552562713623, batch.tweet.size(0): 35\n",
      "Epoch: 2, loss.data.item(): 0.7210252285003662, batch.tweet.size(0): 38\n",
      "Epoch: 2, loss.data.item(): 0.7008953094482422, batch.tweet.size(0): 36\n",
      "Epoch: 2, loss.data.item(): 0.7141534686088562, batch.tweet.size(0): 27\n",
      "Epoch: 2, loss.data.item(): 0.7559126615524292, batch.tweet.size(0): 34\n",
      "Epoch: 2, loss.data.item(): 0.7201128005981445, batch.tweet.size(0): 35\n",
      "Epoch: 2, loss.data.item(): 0.6977688074111938, batch.tweet.size(0): 35\n",
      "Epoch: 2, loss.data.item(): 0.6619170904159546, batch.tweet.size(0): 33\n",
      "Epoch: 2, loss.data.item(): 0.7151452302932739, batch.tweet.size(0): 35\n",
      "Epoch: 2, loss.data.item(): 0.7040552496910095, batch.tweet.size(0): 39\n",
      "Epoch: 2, loss.data.item(): 0.6789227724075317, batch.tweet.size(0): 33\n",
      "Epoch: 2, loss.data.item(): 0.683437168598175, batch.tweet.size(0): 33\n",
      "Epoch: 2, loss.data.item(): 0.7587642669677734, batch.tweet.size(0): 37\n",
      "Epoch: 2, loss.data.item(): 0.7103151679039001, batch.tweet.size(0): 46\n",
      "Epoch: 2, loss.data.item(): 0.6646288633346558, batch.tweet.size(0): 30\n",
      "Epoch: 2, loss.data.item(): 0.7198065519332886, batch.tweet.size(0): 36\n",
      "Epoch: 2, loss.data.item(): 0.6755856275558472, batch.tweet.size(0): 33\n",
      "Epoch: 2, loss.data.item(): 0.6708260774612427, batch.tweet.size(0): 34\n",
      "Epoch: 2, loss.data.item(): 0.6579729318618774, batch.tweet.size(0): 33\n",
      "Epoch: 2, loss.data.item(): 0.7690176963806152, batch.tweet.size(0): 38\n",
      "Epoch: 2, loss.data.item(): 0.7094992399215698, batch.tweet.size(0): 35\n",
      "Epoch: 2, loss.data.item(): 0.7061845660209656, batch.tweet.size(0): 31\n",
      "Epoch: 2, loss.data.item(): 0.7406628131866455, batch.tweet.size(0): 43\n",
      "Epoch: 2, loss.data.item(): 0.7408866286277771, batch.tweet.size(0): 33\n",
      "Epoch: 2, loss.data.item(): 0.6752700209617615, batch.tweet.size(0): 28\n",
      "Epoch: 2, loss.data.item(): 0.677263081073761, batch.tweet.size(0): 30\n",
      "Epoch: 2, loss.data.item(): 0.6604401469230652, batch.tweet.size(0): 33\n",
      "Epoch: 2, loss.data.item(): 0.7258509397506714, batch.tweet.size(0): 35\n",
      "Epoch: 2, loss.data.item(): 0.7039176225662231, batch.tweet.size(0): 31\n",
      "Epoch: 2, loss.data.item(): 0.7294102907180786, batch.tweet.size(0): 31\n",
      "Epoch: 2, loss.data.item(): 0.6757674813270569, batch.tweet.size(0): 33\n",
      "Epoch: 2, loss.data.item(): 0.6724129915237427, batch.tweet.size(0): 35\n",
      "Epoch: 2, loss.data.item(): 0.6801742911338806, batch.tweet.size(0): 35\n",
      "Epoch: 2, loss.data.item(): 0.7089083194732666, batch.tweet.size(0): 33\n",
      "Epoch: 2, loss.data.item(): 0.6764315366744995, batch.tweet.size(0): 33\n",
      "Epoch: 2, loss.data.item(): 0.6787095069885254, batch.tweet.size(0): 32\n",
      "Epoch: 2, loss.data.item(): 0.7079773545265198, batch.tweet.size(0): 29\n",
      "Epoch: 2, loss.data.item(): 0.703504204750061, batch.tweet.size(0): 33\n",
      "Epoch: 2, loss.data.item(): 0.736230731010437, batch.tweet.size(0): 35\n",
      "Epoch: 2, loss.data.item(): 0.6800605058670044, batch.tweet.size(0): 35\n",
      "Epoch: 2, loss.data.item(): 0.7281948328018188, batch.tweet.size(0): 33\n",
      "Epoch: 2, loss.data.item(): 0.7153435945510864, batch.tweet.size(0): 31\n",
      "Epoch: 2, loss.data.item(): 0.6743512153625488, batch.tweet.size(0): 32\n",
      "Epoch: 2, loss.data.item(): 0.8175967931747437, batch.tweet.size(0): 30\n",
      "Epoch: 2, loss.data.item(): 0.6964203119277954, batch.tweet.size(0): 31\n",
      "Epoch: 2, loss.data.item(): 0.6888974905014038, batch.tweet.size(0): 34\n",
      "Epoch: 2, loss.data.item(): 0.7458982467651367, batch.tweet.size(0): 33\n",
      "Epoch: 2, loss.data.item(): 0.6971484422683716, batch.tweet.size(0): 35\n",
      "Epoch: 2, loss.data.item(): 0.6932193040847778, batch.tweet.size(0): 30\n",
      "Epoch: 2, loss.data.item(): 0.6854493618011475, batch.tweet.size(0): 38\n",
      "Epoch: 2, loss.data.item(): 0.7416284084320068, batch.tweet.size(0): 28\n",
      "Epoch: 2, loss.data.item(): 0.6820055246353149, batch.tweet.size(0): 36\n",
      "Epoch: 2, loss.data.item(): 0.789239764213562, batch.tweet.size(0): 32\n",
      "Epoch: 2, loss.data.item(): 0.642363429069519, batch.tweet.size(0): 34\n",
      "Epoch: 2, loss.data.item(): 0.7197263836860657, batch.tweet.size(0): 28\n",
      "Epoch: 2, loss.data.item(): 0.7175657749176025, batch.tweet.size(0): 33\n",
      "Epoch: 2, loss.data.item(): 0.6940361857414246, batch.tweet.size(0): 36\n",
      "Epoch: 2, loss.data.item(): 0.7232922315597534, batch.tweet.size(0): 33\n",
      "Epoch: 2, loss.data.item(): 0.698307991027832, batch.tweet.size(0): 42\n",
      "Epoch: 2, loss.data.item(): 0.66395103931427, batch.tweet.size(0): 40\n",
      "Epoch: 2, loss.data.item(): 0.6593486070632935, batch.tweet.size(0): 35\n",
      "Epoch: 2, loss.data.item(): 0.6830008029937744, batch.tweet.size(0): 32\n",
      "Epoch: 2, loss.data.item(): 0.7471381425857544, batch.tweet.size(0): 33\n",
      "Epoch: 2, loss.data.item(): 0.6673386096954346, batch.tweet.size(0): 31\n",
      "Epoch: 2, loss.data.item(): 0.728813648223877, batch.tweet.size(0): 32\n",
      "Epoch: 2, loss.data.item(): 0.6744083762168884, batch.tweet.size(0): 40\n",
      "Epoch: 2, loss.data.item(): 0.6650422215461731, batch.tweet.size(0): 35\n",
      "Epoch: 2, loss.data.item(): 0.7067755460739136, batch.tweet.size(0): 36\n",
      "Epoch: 2, loss.data.item(): 0.72902512550354, batch.tweet.size(0): 34\n",
      "Epoch: 2, loss.data.item(): 0.7358856201171875, batch.tweet.size(0): 33\n",
      "Epoch: 2, loss.data.item(): 0.6305641531944275, batch.tweet.size(0): 32\n",
      "Epoch: 2, loss.data.item(): 0.6764426827430725, batch.tweet.size(0): 35\n",
      "Epoch: 2, loss.data.item(): 0.7086952924728394, batch.tweet.size(0): 32\n",
      "Epoch: 2, loss.data.item(): 0.7581169009208679, batch.tweet.size(0): 44\n",
      "Epoch: 2, loss.data.item(): 0.673775315284729, batch.tweet.size(0): 39\n",
      "Epoch: 2, loss.data.item(): 0.6846480369567871, batch.tweet.size(0): 32\n",
      "Epoch: 2, loss.data.item(): 0.6721380949020386, batch.tweet.size(0): 32\n",
      "Epoch: 2, loss.data.item(): 0.8538278341293335, batch.tweet.size(0): 33\n",
      "Epoch: 2, loss.data.item(): 0.9036433696746826, batch.tweet.size(0): 39\n",
      "Epoch: 2, loss.data.item(): 0.675122082233429, batch.tweet.size(0): 33\n",
      "Epoch: 2, loss.data.item(): 0.6495140790939331, batch.tweet.size(0): 28\n",
      "Epoch: 2, loss.data.item(): 0.7215343713760376, batch.tweet.size(0): 35\n",
      "Epoch: 2, loss.data.item(): 0.6992227435112, batch.tweet.size(0): 32\n",
      "Epoch: 2, loss.data.item(): 0.7112694978713989, batch.tweet.size(0): 31\n",
      "Epoch: 2, loss.data.item(): 0.6828330755233765, batch.tweet.size(0): 35\n",
      "Epoch: 2, loss.data.item(): 0.6426630020141602, batch.tweet.size(0): 33\n",
      "Epoch: 2, loss.data.item(): 0.6910229325294495, batch.tweet.size(0): 32\n",
      "Epoch: 2, loss.data.item(): 0.7068047523498535, batch.tweet.size(0): 29\n",
      "Epoch: 2, loss.data.item(): 0.6923340559005737, batch.tweet.size(0): 35\n",
      "Epoch: 2, loss.data.item(): 0.7150070071220398, batch.tweet.size(0): 31\n",
      "Epoch: 2, loss.data.item(): 0.6578528881072998, batch.tweet.size(0): 34\n",
      "Epoch: 2, loss.data.item(): 0.740367591381073, batch.tweet.size(0): 31\n",
      "Epoch: 2, loss.data.item(): 0.7159007787704468, batch.tweet.size(0): 32\n",
      "Epoch: 2, loss.data.item(): 0.7309285402297974, batch.tweet.size(0): 38\n",
      "Epoch: 2, loss.data.item(): 0.7093449234962463, batch.tweet.size(0): 30\n",
      "Epoch: 2, loss.data.item(): 0.6643162965774536, batch.tweet.size(0): 36\n",
      "Epoch: 2, loss.data.item(): 0.7361276149749756, batch.tweet.size(0): 34\n",
      "Epoch: 2, loss.data.item(): 0.6779558658599854, batch.tweet.size(0): 30\n",
      "Epoch: 2, loss.data.item(): 0.6938284039497375, batch.tweet.size(0): 33\n",
      "Epoch: 2, loss.data.item(): 0.783393383026123, batch.tweet.size(0): 29\n",
      "training_loss /= len(train_iterator): 0.12587354297805772, training_loss: 23.66422607987485, len(train_iterator): 188\n",
      "Epoch: 2, Training Loss: 23.66, Validation Loss: 12.38\n",
      "Epoch: 3, loss.data.item(): 0.612069845199585, batch.tweet.size(0): 33\n",
      "Epoch: 3, loss.data.item(): 0.7047889232635498, batch.tweet.size(0): 32\n",
      "Epoch: 3, loss.data.item(): 0.722180187702179, batch.tweet.size(0): 33\n",
      "Epoch: 3, loss.data.item(): 0.642508327960968, batch.tweet.size(0): 31\n",
      "Epoch: 3, loss.data.item(): 0.6781830787658691, batch.tweet.size(0): 38\n",
      "Epoch: 3, loss.data.item(): 0.6487224698066711, batch.tweet.size(0): 35\n",
      "Epoch: 3, loss.data.item(): 0.593961238861084, batch.tweet.size(0): 34\n",
      "Epoch: 3, loss.data.item(): 0.6525040864944458, batch.tweet.size(0): 44\n",
      "Epoch: 3, loss.data.item(): 0.6341444253921509, batch.tweet.size(0): 32\n",
      "Epoch: 3, loss.data.item(): 0.6451785564422607, batch.tweet.size(0): 29\n",
      "Epoch: 3, loss.data.item(): 0.7482489347457886, batch.tweet.size(0): 34\n",
      "Epoch: 3, loss.data.item(): 0.6486105918884277, batch.tweet.size(0): 33\n",
      "Epoch: 3, loss.data.item(): 0.6413835883140564, batch.tweet.size(0): 33\n",
      "Epoch: 3, loss.data.item(): 0.6482863426208496, batch.tweet.size(0): 33\n",
      "Epoch: 3, loss.data.item(): 0.6528562903404236, batch.tweet.size(0): 29\n",
      "Epoch: 3, loss.data.item(): 0.6920245885848999, batch.tweet.size(0): 34\n",
      "Epoch: 3, loss.data.item(): 0.7061241865158081, batch.tweet.size(0): 39\n",
      "Epoch: 3, loss.data.item(): 0.637580156326294, batch.tweet.size(0): 26\n",
      "Epoch: 3, loss.data.item(): 0.6878691911697388, batch.tweet.size(0): 32\n",
      "Epoch: 3, loss.data.item(): 0.776954174041748, batch.tweet.size(0): 31\n",
      "Epoch: 3, loss.data.item(): 0.6402825713157654, batch.tweet.size(0): 36\n",
      "Epoch: 3, loss.data.item(): 0.6775118708610535, batch.tweet.size(0): 33\n",
      "Epoch: 3, loss.data.item(): 0.5686215162277222, batch.tweet.size(0): 35\n",
      "Epoch: 3, loss.data.item(): 0.7033031582832336, batch.tweet.size(0): 31\n",
      "Epoch: 3, loss.data.item(): 0.6554669141769409, batch.tweet.size(0): 29\n",
      "Epoch: 3, loss.data.item(): 0.6609243154525757, batch.tweet.size(0): 30\n",
      "Epoch: 3, loss.data.item(): 0.6834797859191895, batch.tweet.size(0): 30\n",
      "Epoch: 3, loss.data.item(): 0.6431972980499268, batch.tweet.size(0): 34\n",
      "Epoch: 3, loss.data.item(): 0.6573508381843567, batch.tweet.size(0): 35\n",
      "Epoch: 3, loss.data.item(): 0.6731580495834351, batch.tweet.size(0): 36\n",
      "Epoch: 3, loss.data.item(): 0.7066109776496887, batch.tweet.size(0): 32\n",
      "Epoch: 3, loss.data.item(): 0.5976201295852661, batch.tweet.size(0): 39\n",
      "Epoch: 3, loss.data.item(): 0.6011704206466675, batch.tweet.size(0): 36\n",
      "Epoch: 3, loss.data.item(): 0.5967867374420166, batch.tweet.size(0): 30\n",
      "Epoch: 3, loss.data.item(): 0.7111179232597351, batch.tweet.size(0): 33\n",
      "Epoch: 3, loss.data.item(): 0.8623898029327393, batch.tweet.size(0): 34\n",
      "Epoch: 3, loss.data.item(): 0.6521532535552979, batch.tweet.size(0): 31\n",
      "Epoch: 3, loss.data.item(): 0.6864030361175537, batch.tweet.size(0): 33\n",
      "Epoch: 3, loss.data.item(): 0.5944647789001465, batch.tweet.size(0): 31\n",
      "Epoch: 3, loss.data.item(): 0.6607937812805176, batch.tweet.size(0): 36\n",
      "Epoch: 3, loss.data.item(): 0.6363312602043152, batch.tweet.size(0): 35\n",
      "Epoch: 3, loss.data.item(): 0.6153082847595215, batch.tweet.size(0): 34\n",
      "Epoch: 3, loss.data.item(): 0.560282826423645, batch.tweet.size(0): 29\n",
      "Epoch: 3, loss.data.item(): 0.6335146427154541, batch.tweet.size(0): 30\n",
      "Epoch: 3, loss.data.item(): 0.9478368163108826, batch.tweet.size(0): 34\n",
      "Epoch: 3, loss.data.item(): 0.5878995656967163, batch.tweet.size(0): 31\n",
      "Epoch: 3, loss.data.item(): 0.6629452705383301, batch.tweet.size(0): 37\n",
      "Epoch: 3, loss.data.item(): 0.5879820585250854, batch.tweet.size(0): 26\n",
      "Epoch: 3, loss.data.item(): 0.6636459827423096, batch.tweet.size(0): 35\n",
      "Epoch: 3, loss.data.item(): 0.6303061246871948, batch.tweet.size(0): 34\n",
      "Epoch: 3, loss.data.item(): 0.6096925735473633, batch.tweet.size(0): 35\n",
      "Epoch: 3, loss.data.item(): 0.6580712199211121, batch.tweet.size(0): 34\n",
      "Epoch: 3, loss.data.item(): 0.6388596892356873, batch.tweet.size(0): 32\n",
      "Epoch: 3, loss.data.item(): 0.6377404928207397, batch.tweet.size(0): 36\n",
      "Epoch: 3, loss.data.item(): 0.5115146636962891, batch.tweet.size(0): 34\n",
      "Epoch: 3, loss.data.item(): 0.6633676290512085, batch.tweet.size(0): 31\n",
      "Epoch: 3, loss.data.item(): 0.6404316425323486, batch.tweet.size(0): 30\n",
      "Epoch: 3, loss.data.item(): 0.6425589919090271, batch.tweet.size(0): 29\n",
      "Epoch: 3, loss.data.item(): 0.6157726645469666, batch.tweet.size(0): 30\n",
      "Epoch: 3, loss.data.item(): 0.6767736673355103, batch.tweet.size(0): 32\n",
      "Epoch: 3, loss.data.item(): 0.5967965126037598, batch.tweet.size(0): 46\n",
      "Epoch: 3, loss.data.item(): 0.6780954003334045, batch.tweet.size(0): 34\n",
      "Epoch: 3, loss.data.item(): 0.6442455053329468, batch.tweet.size(0): 34\n",
      "Epoch: 3, loss.data.item(): 0.703467607498169, batch.tweet.size(0): 36\n",
      "Epoch: 3, loss.data.item(): 0.7161281108856201, batch.tweet.size(0): 32\n",
      "Epoch: 3, loss.data.item(): 0.6067513227462769, batch.tweet.size(0): 36\n",
      "Epoch: 3, loss.data.item(): 0.7102773189544678, batch.tweet.size(0): 31\n",
      "Epoch: 3, loss.data.item(): 0.745822548866272, batch.tweet.size(0): 33\n",
      "Epoch: 3, loss.data.item(): 0.7502515316009521, batch.tweet.size(0): 32\n",
      "Epoch: 3, loss.data.item(): 0.6120390295982361, batch.tweet.size(0): 33\n",
      "Epoch: 3, loss.data.item(): 0.6317565441131592, batch.tweet.size(0): 31\n",
      "Epoch: 3, loss.data.item(): 0.7079195380210876, batch.tweet.size(0): 35\n",
      "Epoch: 3, loss.data.item(): 0.6017156839370728, batch.tweet.size(0): 36\n",
      "Epoch: 3, loss.data.item(): 0.7545620203018188, batch.tweet.size(0): 38\n",
      "Epoch: 3, loss.data.item(): 0.6716552972793579, batch.tweet.size(0): 30\n",
      "Epoch: 3, loss.data.item(): 0.6705474853515625, batch.tweet.size(0): 33\n",
      "Epoch: 3, loss.data.item(): 0.674726665019989, batch.tweet.size(0): 38\n",
      "Epoch: 3, loss.data.item(): 0.6603371500968933, batch.tweet.size(0): 33\n",
      "Epoch: 3, loss.data.item(): 0.737453281879425, batch.tweet.size(0): 35\n",
      "Epoch: 3, loss.data.item(): 0.767755925655365, batch.tweet.size(0): 30\n",
      "Epoch: 3, loss.data.item(): 0.644569993019104, batch.tweet.size(0): 30\n",
      "Epoch: 3, loss.data.item(): 0.5954770445823669, batch.tweet.size(0): 36\n",
      "Epoch: 3, loss.data.item(): 0.6576433181762695, batch.tweet.size(0): 33\n",
      "Epoch: 3, loss.data.item(): 0.6408165097236633, batch.tweet.size(0): 40\n",
      "Epoch: 3, loss.data.item(): 0.6957789063453674, batch.tweet.size(0): 32\n",
      "Epoch: 3, loss.data.item(): 0.6206740140914917, batch.tweet.size(0): 37\n",
      "Epoch: 3, loss.data.item(): 0.6650605797767639, batch.tweet.size(0): 33\n",
      "Epoch: 3, loss.data.item(): 0.656841516494751, batch.tweet.size(0): 32\n",
      "Epoch: 3, loss.data.item(): 0.7441058158874512, batch.tweet.size(0): 35\n",
      "Epoch: 3, loss.data.item(): 0.7181013822555542, batch.tweet.size(0): 32\n",
      "Epoch: 3, loss.data.item(): 0.6804864406585693, batch.tweet.size(0): 32\n",
      "Epoch: 3, loss.data.item(): 0.7106161117553711, batch.tweet.size(0): 33\n",
      "Epoch: 3, loss.data.item(): 0.657314658164978, batch.tweet.size(0): 32\n",
      "Epoch: 3, loss.data.item(): 0.7930504679679871, batch.tweet.size(0): 32\n",
      "Epoch: 3, loss.data.item(): 0.7099653482437134, batch.tweet.size(0): 31\n",
      "Epoch: 3, loss.data.item(): 0.57035893201828, batch.tweet.size(0): 30\n",
      "Epoch: 3, loss.data.item(): 0.623157262802124, batch.tweet.size(0): 34\n",
      "Epoch: 3, loss.data.item(): 0.6009125709533691, batch.tweet.size(0): 31\n",
      "Epoch: 3, loss.data.item(): 0.6273320913314819, batch.tweet.size(0): 32\n",
      "Epoch: 3, loss.data.item(): 0.69939786195755, batch.tweet.size(0): 35\n",
      "Epoch: 3, loss.data.item(): 0.841284453868866, batch.tweet.size(0): 34\n",
      "Epoch: 3, loss.data.item(): 0.6215537786483765, batch.tweet.size(0): 33\n",
      "Epoch: 3, loss.data.item(): 0.6924562454223633, batch.tweet.size(0): 32\n",
      "Epoch: 3, loss.data.item(): 0.5658789873123169, batch.tweet.size(0): 33\n",
      "Epoch: 3, loss.data.item(): 0.6390044689178467, batch.tweet.size(0): 31\n",
      "Epoch: 3, loss.data.item(): 0.711377739906311, batch.tweet.size(0): 32\n",
      "Epoch: 3, loss.data.item(): 0.6862044930458069, batch.tweet.size(0): 32\n",
      "Epoch: 3, loss.data.item(): 0.6074450016021729, batch.tweet.size(0): 35\n",
      "Epoch: 3, loss.data.item(): 0.6160000562667847, batch.tweet.size(0): 35\n",
      "Epoch: 3, loss.data.item(): 0.6452828645706177, batch.tweet.size(0): 33\n",
      "Epoch: 3, loss.data.item(): 0.6170558929443359, batch.tweet.size(0): 40\n",
      "Epoch: 3, loss.data.item(): 0.6477842330932617, batch.tweet.size(0): 32\n",
      "Epoch: 3, loss.data.item(): 0.6293680667877197, batch.tweet.size(0): 42\n",
      "Epoch: 3, loss.data.item(): 0.6276440620422363, batch.tweet.size(0): 26\n",
      "Epoch: 3, loss.data.item(): 0.6970523595809937, batch.tweet.size(0): 39\n",
      "Epoch: 3, loss.data.item(): 0.6386953592300415, batch.tweet.size(0): 35\n",
      "Epoch: 3, loss.data.item(): 0.6918813586235046, batch.tweet.size(0): 35\n",
      "Epoch: 3, loss.data.item(): 0.7058881521224976, batch.tweet.size(0): 32\n",
      "Epoch: 3, loss.data.item(): 0.6716880798339844, batch.tweet.size(0): 33\n",
      "Epoch: 3, loss.data.item(): 0.71356201171875, batch.tweet.size(0): 31\n",
      "Epoch: 3, loss.data.item(): 0.6652969121932983, batch.tweet.size(0): 35\n",
      "Epoch: 3, loss.data.item(): 0.7520179748535156, batch.tweet.size(0): 29\n",
      "Epoch: 3, loss.data.item(): 0.6136942505836487, batch.tweet.size(0): 30\n",
      "Epoch: 3, loss.data.item(): 0.6254993677139282, batch.tweet.size(0): 33\n",
      "Epoch: 3, loss.data.item(): 0.718206524848938, batch.tweet.size(0): 30\n",
      "Epoch: 3, loss.data.item(): 0.6100799441337585, batch.tweet.size(0): 34\n",
      "Epoch: 3, loss.data.item(): 0.6178144216537476, batch.tweet.size(0): 25\n",
      "Epoch: 3, loss.data.item(): 0.734889566898346, batch.tweet.size(0): 31\n",
      "Epoch: 3, loss.data.item(): 0.7167923450469971, batch.tweet.size(0): 32\n",
      "Epoch: 3, loss.data.item(): 0.634423017501831, batch.tweet.size(0): 38\n",
      "Epoch: 3, loss.data.item(): 0.6813610196113586, batch.tweet.size(0): 35\n",
      "Epoch: 3, loss.data.item(): 0.7087851762771606, batch.tweet.size(0): 33\n",
      "Epoch: 3, loss.data.item(): 0.6560770869255066, batch.tweet.size(0): 34\n",
      "Epoch: 3, loss.data.item(): 0.709709644317627, batch.tweet.size(0): 33\n",
      "Epoch: 3, loss.data.item(): 0.67369145154953, batch.tweet.size(0): 43\n",
      "Epoch: 3, loss.data.item(): 0.7039158344268799, batch.tweet.size(0): 31\n",
      "Epoch: 3, loss.data.item(): 0.6135331392288208, batch.tweet.size(0): 39\n",
      "Epoch: 3, loss.data.item(): 0.7025313377380371, batch.tweet.size(0): 33\n",
      "Epoch: 3, loss.data.item(): 0.5638123750686646, batch.tweet.size(0): 35\n",
      "Epoch: 3, loss.data.item(): 0.7305492758750916, batch.tweet.size(0): 38\n",
      "Epoch: 3, loss.data.item(): 0.6312966346740723, batch.tweet.size(0): 39\n",
      "Epoch: 3, loss.data.item(): 0.6425761580467224, batch.tweet.size(0): 36\n",
      "Epoch: 3, loss.data.item(): 0.7194714546203613, batch.tweet.size(0): 33\n",
      "Epoch: 3, loss.data.item(): 0.6946433782577515, batch.tweet.size(0): 36\n",
      "Epoch: 3, loss.data.item(): 0.6626634001731873, batch.tweet.size(0): 34\n",
      "Epoch: 3, loss.data.item(): 0.7614026665687561, batch.tweet.size(0): 32\n",
      "Epoch: 3, loss.data.item(): 0.8350221514701843, batch.tweet.size(0): 35\n",
      "Epoch: 3, loss.data.item(): 0.6396098732948303, batch.tweet.size(0): 35\n",
      "Epoch: 3, loss.data.item(): 0.633365273475647, batch.tweet.size(0): 34\n",
      "Epoch: 3, loss.data.item(): 0.5818055868148804, batch.tweet.size(0): 31\n",
      "Epoch: 3, loss.data.item(): 0.6128586530685425, batch.tweet.size(0): 38\n",
      "Epoch: 3, loss.data.item(): 0.7119386196136475, batch.tweet.size(0): 38\n",
      "Epoch: 3, loss.data.item(): 0.6902905106544495, batch.tweet.size(0): 37\n",
      "Epoch: 3, loss.data.item(): 0.5822082161903381, batch.tweet.size(0): 29\n",
      "Epoch: 3, loss.data.item(): 0.8209149837493896, batch.tweet.size(0): 31\n",
      "Epoch: 3, loss.data.item(): 0.7266091704368591, batch.tweet.size(0): 33\n",
      "Epoch: 3, loss.data.item(): 0.5897976160049438, batch.tweet.size(0): 28\n",
      "Epoch: 3, loss.data.item(): 0.6489968299865723, batch.tweet.size(0): 33\n",
      "Epoch: 3, loss.data.item(): 0.6828125715255737, batch.tweet.size(0): 35\n",
      "Epoch: 3, loss.data.item(): 0.6937340497970581, batch.tweet.size(0): 35\n",
      "Epoch: 3, loss.data.item(): 0.7386840581893921, batch.tweet.size(0): 33\n",
      "Epoch: 3, loss.data.item(): 0.6766284704208374, batch.tweet.size(0): 34\n",
      "Epoch: 3, loss.data.item(): 0.7857635021209717, batch.tweet.size(0): 31\n",
      "Epoch: 3, loss.data.item(): 0.8097695708274841, batch.tweet.size(0): 32\n",
      "Epoch: 3, loss.data.item(): 0.7888543009757996, batch.tweet.size(0): 34\n",
      "Epoch: 3, loss.data.item(): 0.6375454664230347, batch.tweet.size(0): 35\n",
      "Epoch: 3, loss.data.item(): 0.7578765153884888, batch.tweet.size(0): 33\n",
      "Epoch: 3, loss.data.item(): 0.6541652679443359, batch.tweet.size(0): 33\n",
      "Epoch: 3, loss.data.item(): 0.758042573928833, batch.tweet.size(0): 29\n",
      "Epoch: 3, loss.data.item(): 0.6084952354431152, batch.tweet.size(0): 32\n",
      "Epoch: 3, loss.data.item(): 0.6862446069717407, batch.tweet.size(0): 31\n",
      "Epoch: 3, loss.data.item(): 0.6907573342323303, batch.tweet.size(0): 33\n",
      "Epoch: 3, loss.data.item(): 0.6558988094329834, batch.tweet.size(0): 35\n",
      "Epoch: 3, loss.data.item(): 0.7157329320907593, batch.tweet.size(0): 33\n",
      "Epoch: 3, loss.data.item(): 0.6369494199752808, batch.tweet.size(0): 32\n",
      "Epoch: 3, loss.data.item(): 0.6349918246269226, batch.tweet.size(0): 36\n",
      "Epoch: 3, loss.data.item(): 0.7122831344604492, batch.tweet.size(0): 34\n",
      "Epoch: 3, loss.data.item(): 0.6781100034713745, batch.tweet.size(0): 34\n",
      "Epoch: 3, loss.data.item(): 0.6550489664077759, batch.tweet.size(0): 37\n",
      "Epoch: 3, loss.data.item(): 0.6684495210647583, batch.tweet.size(0): 35\n",
      "Epoch: 3, loss.data.item(): 0.6038607358932495, batch.tweet.size(0): 34\n",
      "Epoch: 3, loss.data.item(): 0.7578641772270203, batch.tweet.size(0): 31\n",
      "Epoch: 3, loss.data.item(): 0.6698989272117615, batch.tweet.size(0): 33\n",
      "Epoch: 3, loss.data.item(): 0.6738216876983643, batch.tweet.size(0): 35\n",
      "Epoch: 3, loss.data.item(): 0.6223004460334778, batch.tweet.size(0): 30\n",
      "Epoch: 3, loss.data.item(): 0.705417275428772, batch.tweet.size(0): 38\n",
      "Epoch: 3, loss.data.item(): 0.6940388679504395, batch.tweet.size(0): 35\n",
      "Epoch: 3, loss.data.item(): 0.6330159902572632, batch.tweet.size(0): 30\n",
      "training_loss /= len(train_iterator): 0.11910834741698989, training_loss: 22.3923693143941, len(train_iterator): 188\n",
      "Epoch: 3, Training Loss: 22.39, Validation Loss: 13.96\n",
      "Epoch: 4, loss.data.item(): 0.6581447720527649, batch.tweet.size(0): 35\n",
      "Epoch: 4, loss.data.item(): 0.6112199425697327, batch.tweet.size(0): 38\n",
      "Epoch: 4, loss.data.item(): 0.6559424996376038, batch.tweet.size(0): 33\n",
      "Epoch: 4, loss.data.item(): 0.5957083702087402, batch.tweet.size(0): 39\n",
      "Epoch: 4, loss.data.item(): 0.7013670206069946, batch.tweet.size(0): 32\n",
      "Epoch: 4, loss.data.item(): 0.6553717255592346, batch.tweet.size(0): 35\n",
      "Epoch: 4, loss.data.item(): 0.6202288269996643, batch.tweet.size(0): 40\n",
      "Epoch: 4, loss.data.item(): 0.5795252323150635, batch.tweet.size(0): 35\n",
      "Epoch: 4, loss.data.item(): 0.5768427848815918, batch.tweet.size(0): 27\n",
      "Epoch: 4, loss.data.item(): 0.5597625970840454, batch.tweet.size(0): 46\n",
      "Epoch: 4, loss.data.item(): 0.6219301223754883, batch.tweet.size(0): 32\n",
      "Epoch: 4, loss.data.item(): 0.6741957664489746, batch.tweet.size(0): 31\n",
      "Epoch: 4, loss.data.item(): 0.6897587776184082, batch.tweet.size(0): 31\n",
      "Epoch: 4, loss.data.item(): 0.5842080116271973, batch.tweet.size(0): 31\n",
      "Epoch: 4, loss.data.item(): 0.6788084506988525, batch.tweet.size(0): 36\n",
      "Epoch: 4, loss.data.item(): 0.5427440404891968, batch.tweet.size(0): 32\n",
      "Epoch: 4, loss.data.item(): 0.7317759990692139, batch.tweet.size(0): 33\n",
      "Epoch: 4, loss.data.item(): 0.6583149433135986, batch.tweet.size(0): 36\n",
      "Epoch: 4, loss.data.item(): 0.7348082065582275, batch.tweet.size(0): 31\n",
      "Epoch: 4, loss.data.item(): 0.5513295531272888, batch.tweet.size(0): 39\n",
      "Epoch: 4, loss.data.item(): 0.6347147226333618, batch.tweet.size(0): 33\n",
      "Epoch: 4, loss.data.item(): 0.7020219564437866, batch.tweet.size(0): 38\n",
      "Epoch: 4, loss.data.item(): 0.6348894238471985, batch.tweet.size(0): 43\n",
      "Epoch: 4, loss.data.item(): 0.6920515894889832, batch.tweet.size(0): 34\n",
      "Epoch: 4, loss.data.item(): 0.6217206716537476, batch.tweet.size(0): 29\n",
      "Epoch: 4, loss.data.item(): 0.653106689453125, batch.tweet.size(0): 31\n",
      "Epoch: 4, loss.data.item(): 0.6259985566139221, batch.tweet.size(0): 35\n",
      "Epoch: 4, loss.data.item(): 0.6601080894470215, batch.tweet.size(0): 31\n",
      "Epoch: 4, loss.data.item(): 0.6374355554580688, batch.tweet.size(0): 36\n",
      "Epoch: 4, loss.data.item(): 0.5744426846504211, batch.tweet.size(0): 42\n",
      "Epoch: 4, loss.data.item(): 0.5897215604782104, batch.tweet.size(0): 30\n",
      "Epoch: 4, loss.data.item(): 0.5614545941352844, batch.tweet.size(0): 33\n",
      "Epoch: 4, loss.data.item(): 0.6835958957672119, batch.tweet.size(0): 36\n",
      "Epoch: 4, loss.data.item(): 0.5061128735542297, batch.tweet.size(0): 34\n",
      "Epoch: 4, loss.data.item(): 0.7175059914588928, batch.tweet.size(0): 32\n",
      "Epoch: 4, loss.data.item(): 0.5472173690795898, batch.tweet.size(0): 38\n",
      "Epoch: 4, loss.data.item(): 0.6616263389587402, batch.tweet.size(0): 31\n",
      "Epoch: 4, loss.data.item(): 0.5303139686584473, batch.tweet.size(0): 34\n",
      "Epoch: 4, loss.data.item(): 0.6292438507080078, batch.tweet.size(0): 31\n",
      "Epoch: 4, loss.data.item(): 0.6736953258514404, batch.tweet.size(0): 34\n",
      "Epoch: 4, loss.data.item(): 0.6271647214889526, batch.tweet.size(0): 38\n",
      "Epoch: 4, loss.data.item(): 0.6085367798805237, batch.tweet.size(0): 33\n",
      "Epoch: 4, loss.data.item(): 0.5714884996414185, batch.tweet.size(0): 32\n",
      "Epoch: 4, loss.data.item(): 0.5837289094924927, batch.tweet.size(0): 34\n",
      "Epoch: 4, loss.data.item(): 0.79195636510849, batch.tweet.size(0): 34\n",
      "Epoch: 4, loss.data.item(): 0.6875186562538147, batch.tweet.size(0): 32\n",
      "Epoch: 4, loss.data.item(): 0.6685887575149536, batch.tweet.size(0): 32\n",
      "Epoch: 4, loss.data.item(): 0.5444903373718262, batch.tweet.size(0): 39\n",
      "Epoch: 4, loss.data.item(): 0.5456883907318115, batch.tweet.size(0): 35\n",
      "Epoch: 4, loss.data.item(): 0.6567182540893555, batch.tweet.size(0): 30\n",
      "Epoch: 4, loss.data.item(): 0.6607488393783569, batch.tweet.size(0): 37\n",
      "Epoch: 4, loss.data.item(): 0.6960512399673462, batch.tweet.size(0): 30\n",
      "Epoch: 4, loss.data.item(): 0.5631843209266663, batch.tweet.size(0): 33\n",
      "Epoch: 4, loss.data.item(): 0.544209361076355, batch.tweet.size(0): 30\n",
      "Epoch: 4, loss.data.item(): 0.6121996641159058, batch.tweet.size(0): 32\n",
      "Epoch: 4, loss.data.item(): 0.5344563722610474, batch.tweet.size(0): 36\n",
      "Epoch: 4, loss.data.item(): 0.6806904077529907, batch.tweet.size(0): 33\n",
      "Epoch: 4, loss.data.item(): 0.7682828903198242, batch.tweet.size(0): 38\n",
      "Epoch: 4, loss.data.item(): 0.6188479661941528, batch.tweet.size(0): 32\n",
      "Epoch: 4, loss.data.item(): 0.6818517446517944, batch.tweet.size(0): 34\n",
      "Epoch: 4, loss.data.item(): 0.6638849377632141, batch.tweet.size(0): 31\n",
      "Epoch: 4, loss.data.item(): 0.6551923751831055, batch.tweet.size(0): 33\n",
      "Epoch: 4, loss.data.item(): 0.6290938854217529, batch.tweet.size(0): 34\n",
      "Epoch: 4, loss.data.item(): 0.5853111743927002, batch.tweet.size(0): 30\n",
      "Epoch: 4, loss.data.item(): 0.573523759841919, batch.tweet.size(0): 31\n",
      "Epoch: 4, loss.data.item(): 0.677716076374054, batch.tweet.size(0): 31\n",
      "Epoch: 4, loss.data.item(): 0.538577675819397, batch.tweet.size(0): 33\n",
      "Epoch: 4, loss.data.item(): 0.5912381410598755, batch.tweet.size(0): 32\n",
      "Epoch: 4, loss.data.item(): 0.6249122619628906, batch.tweet.size(0): 32\n",
      "Epoch: 4, loss.data.item(): 0.5230870842933655, batch.tweet.size(0): 33\n",
      "Epoch: 4, loss.data.item(): 0.6068105697631836, batch.tweet.size(0): 33\n",
      "Epoch: 4, loss.data.item(): 0.6706750392913818, batch.tweet.size(0): 36\n",
      "Epoch: 4, loss.data.item(): 0.7049847841262817, batch.tweet.size(0): 38\n",
      "Epoch: 4, loss.data.item(): 0.5143016576766968, batch.tweet.size(0): 32\n",
      "Epoch: 4, loss.data.item(): 0.7623050212860107, batch.tweet.size(0): 35\n",
      "Epoch: 4, loss.data.item(): 0.6389912962913513, batch.tweet.size(0): 34\n",
      "Epoch: 4, loss.data.item(): 0.6349693536758423, batch.tweet.size(0): 33\n",
      "Epoch: 4, loss.data.item(): 0.7375348210334778, batch.tweet.size(0): 35\n",
      "Epoch: 4, loss.data.item(): 0.5589064359664917, batch.tweet.size(0): 36\n",
      "Epoch: 4, loss.data.item(): 0.5890513062477112, batch.tweet.size(0): 32\n",
      "Epoch: 4, loss.data.item(): 0.6699517965316772, batch.tweet.size(0): 32\n",
      "Epoch: 4, loss.data.item(): 0.6201237440109253, batch.tweet.size(0): 31\n",
      "Epoch: 4, loss.data.item(): 0.6777772903442383, batch.tweet.size(0): 33\n",
      "Epoch: 4, loss.data.item(): 0.6004721522331238, batch.tweet.size(0): 33\n",
      "Epoch: 4, loss.data.item(): 0.6158359050750732, batch.tweet.size(0): 30\n",
      "Epoch: 4, loss.data.item(): 0.6527037620544434, batch.tweet.size(0): 33\n",
      "Epoch: 4, loss.data.item(): 0.565546989440918, batch.tweet.size(0): 32\n",
      "Epoch: 4, loss.data.item(): 0.5678285956382751, batch.tweet.size(0): 30\n",
      "Epoch: 4, loss.data.item(): 0.606995701789856, batch.tweet.size(0): 33\n",
      "Epoch: 4, loss.data.item(): 0.5396398305892944, batch.tweet.size(0): 33\n",
      "Epoch: 4, loss.data.item(): 0.7659811973571777, batch.tweet.size(0): 36\n",
      "Epoch: 4, loss.data.item(): 0.4501343369483948, batch.tweet.size(0): 32\n",
      "Epoch: 4, loss.data.item(): 0.7026446461677551, batch.tweet.size(0): 35\n",
      "Epoch: 4, loss.data.item(): 0.5095126628875732, batch.tweet.size(0): 31\n",
      "Epoch: 4, loss.data.item(): 0.6508522629737854, batch.tweet.size(0): 34\n",
      "Epoch: 4, loss.data.item(): 0.6266632080078125, batch.tweet.size(0): 28\n",
      "Epoch: 4, loss.data.item(): 0.6794277429580688, batch.tweet.size(0): 31\n",
      "Epoch: 4, loss.data.item(): 0.7363545894622803, batch.tweet.size(0): 34\n",
      "Epoch: 4, loss.data.item(): 0.5857534408569336, batch.tweet.size(0): 35\n",
      "Epoch: 4, loss.data.item(): 0.6158980131149292, batch.tweet.size(0): 33\n",
      "Epoch: 4, loss.data.item(): 0.593219518661499, batch.tweet.size(0): 29\n",
      "Epoch: 4, loss.data.item(): 0.5690118074417114, batch.tweet.size(0): 35\n",
      "Epoch: 4, loss.data.item(): 0.624842643737793, batch.tweet.size(0): 31\n",
      "Epoch: 4, loss.data.item(): 0.7440886497497559, batch.tweet.size(0): 33\n",
      "Epoch: 4, loss.data.item(): 0.6463639140129089, batch.tweet.size(0): 30\n",
      "Epoch: 4, loss.data.item(): 0.615419864654541, batch.tweet.size(0): 33\n",
      "Epoch: 4, loss.data.item(): 0.6206842660903931, batch.tweet.size(0): 33\n",
      "Epoch: 4, loss.data.item(): 0.6270489692687988, batch.tweet.size(0): 34\n",
      "Epoch: 4, loss.data.item(): 0.6114107966423035, batch.tweet.size(0): 35\n",
      "Epoch: 4, loss.data.item(): 0.5314754247665405, batch.tweet.size(0): 32\n",
      "Epoch: 4, loss.data.item(): 0.6491080522537231, batch.tweet.size(0): 33\n",
      "Epoch: 4, loss.data.item(): 0.6280375123023987, batch.tweet.size(0): 34\n",
      "Epoch: 4, loss.data.item(): 0.5685364603996277, batch.tweet.size(0): 30\n",
      "Epoch: 4, loss.data.item(): 0.6805915236473083, batch.tweet.size(0): 38\n",
      "Epoch: 4, loss.data.item(): 0.5399132370948792, batch.tweet.size(0): 31\n",
      "Epoch: 4, loss.data.item(): 0.6549339294433594, batch.tweet.size(0): 37\n",
      "Epoch: 4, loss.data.item(): 0.7149059772491455, batch.tweet.size(0): 31\n",
      "Epoch: 4, loss.data.item(): 0.5824754238128662, batch.tweet.size(0): 36\n",
      "Epoch: 4, loss.data.item(): 0.7076866626739502, batch.tweet.size(0): 32\n",
      "Epoch: 4, loss.data.item(): 0.8369297385215759, batch.tweet.size(0): 33\n",
      "Epoch: 4, loss.data.item(): 0.7435418963432312, batch.tweet.size(0): 44\n",
      "Epoch: 4, loss.data.item(): 0.7710598111152649, batch.tweet.size(0): 29\n",
      "Epoch: 4, loss.data.item(): 0.7089787125587463, batch.tweet.size(0): 30\n",
      "Epoch: 4, loss.data.item(): 0.6634954214096069, batch.tweet.size(0): 36\n",
      "Epoch: 4, loss.data.item(): 0.6854323744773865, batch.tweet.size(0): 35\n",
      "Epoch: 4, loss.data.item(): 0.6314791440963745, batch.tweet.size(0): 35\n",
      "Epoch: 4, loss.data.item(): 0.7426400780677795, batch.tweet.size(0): 33\n",
      "Epoch: 4, loss.data.item(): 0.6785994172096252, batch.tweet.size(0): 33\n",
      "Epoch: 4, loss.data.item(): 0.6717851161956787, batch.tweet.size(0): 32\n",
      "Epoch: 4, loss.data.item(): 0.6296652555465698, batch.tweet.size(0): 33\n",
      "Epoch: 4, loss.data.item(): 0.5474450588226318, batch.tweet.size(0): 39\n",
      "Epoch: 4, loss.data.item(): 0.5857736468315125, batch.tweet.size(0): 31\n",
      "Epoch: 4, loss.data.item(): 0.6293451189994812, batch.tweet.size(0): 32\n",
      "Epoch: 4, loss.data.item(): 0.767214834690094, batch.tweet.size(0): 31\n",
      "Epoch: 4, loss.data.item(): 0.8135998249053955, batch.tweet.size(0): 36\n",
      "Epoch: 4, loss.data.item(): 0.551871657371521, batch.tweet.size(0): 35\n",
      "Epoch: 4, loss.data.item(): 0.7663979530334473, batch.tweet.size(0): 35\n",
      "Epoch: 4, loss.data.item(): 0.5639220476150513, batch.tweet.size(0): 36\n",
      "Epoch: 4, loss.data.item(): 0.6592286825180054, batch.tweet.size(0): 37\n",
      "Epoch: 4, loss.data.item(): 0.6856899857521057, batch.tweet.size(0): 35\n",
      "Epoch: 4, loss.data.item(): 0.6861534118652344, batch.tweet.size(0): 34\n",
      "Epoch: 4, loss.data.item(): 0.6089196801185608, batch.tweet.size(0): 33\n",
      "Epoch: 4, loss.data.item(): 0.579345703125, batch.tweet.size(0): 39\n",
      "Epoch: 4, loss.data.item(): 0.5097951292991638, batch.tweet.size(0): 34\n",
      "Epoch: 4, loss.data.item(): 0.599292516708374, batch.tweet.size(0): 33\n",
      "Epoch: 4, loss.data.item(): 0.612082839012146, batch.tweet.size(0): 33\n",
      "Epoch: 4, loss.data.item(): 0.5267046689987183, batch.tweet.size(0): 29\n",
      "Epoch: 4, loss.data.item(): 0.5871506333351135, batch.tweet.size(0): 34\n",
      "Epoch: 4, loss.data.item(): 0.5699232816696167, batch.tweet.size(0): 33\n",
      "Epoch: 4, loss.data.item(): 0.6724090576171875, batch.tweet.size(0): 30\n",
      "Epoch: 4, loss.data.item(): 0.6865832805633545, batch.tweet.size(0): 35\n",
      "Epoch: 4, loss.data.item(): 0.6188647150993347, batch.tweet.size(0): 33\n",
      "Epoch: 4, loss.data.item(): 0.6232667565345764, batch.tweet.size(0): 29\n",
      "Epoch: 4, loss.data.item(): 0.6680711507797241, batch.tweet.size(0): 31\n",
      "Epoch: 4, loss.data.item(): 0.6030365228652954, batch.tweet.size(0): 33\n",
      "Epoch: 4, loss.data.item(): 0.6313608884811401, batch.tweet.size(0): 31\n",
      "Epoch: 4, loss.data.item(): 0.6640535593032837, batch.tweet.size(0): 29\n",
      "Epoch: 4, loss.data.item(): 0.6350600719451904, batch.tweet.size(0): 32\n",
      "Epoch: 4, loss.data.item(): 0.5800517201423645, batch.tweet.size(0): 33\n",
      "Epoch: 4, loss.data.item(): 0.6265928745269775, batch.tweet.size(0): 32\n",
      "Epoch: 4, loss.data.item(): 0.6582351326942444, batch.tweet.size(0): 38\n",
      "Epoch: 4, loss.data.item(): 0.686759352684021, batch.tweet.size(0): 38\n",
      "Epoch: 4, loss.data.item(): 0.5839978456497192, batch.tweet.size(0): 30\n",
      "Epoch: 4, loss.data.item(): 0.6156299114227295, batch.tweet.size(0): 30\n",
      "Epoch: 4, loss.data.item(): 0.5826614499092102, batch.tweet.size(0): 34\n",
      "Epoch: 4, loss.data.item(): 0.6378466486930847, batch.tweet.size(0): 25\n",
      "Epoch: 4, loss.data.item(): 0.5667684078216553, batch.tweet.size(0): 34\n",
      "Epoch: 4, loss.data.item(): 0.5752390623092651, batch.tweet.size(0): 32\n",
      "Epoch: 4, loss.data.item(): 0.6172991991043091, batch.tweet.size(0): 32\n",
      "Epoch: 4, loss.data.item(): 0.6549010276794434, batch.tweet.size(0): 31\n",
      "Epoch: 4, loss.data.item(): 0.594114363193512, batch.tweet.size(0): 29\n",
      "Epoch: 4, loss.data.item(): 0.659623384475708, batch.tweet.size(0): 35\n",
      "Epoch: 4, loss.data.item(): 0.6963412761688232, batch.tweet.size(0): 36\n",
      "Epoch: 4, loss.data.item(): 0.6857970952987671, batch.tweet.size(0): 32\n",
      "Epoch: 4, loss.data.item(): 0.5408715009689331, batch.tweet.size(0): 34\n",
      "Epoch: 4, loss.data.item(): 0.7298592329025269, batch.tweet.size(0): 32\n",
      "Epoch: 4, loss.data.item(): 0.6850420832633972, batch.tweet.size(0): 33\n",
      "Epoch: 4, loss.data.item(): 0.8401965498924255, batch.tweet.size(0): 34\n",
      "Epoch: 4, loss.data.item(): 0.7424139380455017, batch.tweet.size(0): 32\n",
      "Epoch: 4, loss.data.item(): 0.742722749710083, batch.tweet.size(0): 37\n",
      "Epoch: 4, loss.data.item(): 0.5399140119552612, batch.tweet.size(0): 34\n",
      "Epoch: 4, loss.data.item(): 0.5780774354934692, batch.tweet.size(0): 35\n",
      "Epoch: 4, loss.data.item(): 0.6422542333602905, batch.tweet.size(0): 30\n",
      "Epoch: 4, loss.data.item(): 0.4941377639770508, batch.tweet.size(0): 32\n",
      "Epoch: 4, loss.data.item(): 0.7679076194763184, batch.tweet.size(0): 32\n",
      "Epoch: 4, loss.data.item(): 0.7475919127464294, batch.tweet.size(0): 35\n",
      "Epoch: 4, loss.data.item(): 0.7736218571662903, batch.tweet.size(0): 31\n",
      "Epoch: 4, loss.data.item(): 0.650107741355896, batch.tweet.size(0): 34\n",
      "training_loss /= len(train_iterator): 0.11312009070377213, training_loss: 21.26657705230916, len(train_iterator): 188\n",
      "Epoch: 4, Training Loss: 21.27, Validation Loss: 14.21\n",
      "Epoch: 5, loss.data.item(): 0.7156480550765991, batch.tweet.size(0): 34\n",
      "Epoch: 5, loss.data.item(): 0.5722480416297913, batch.tweet.size(0): 33\n",
      "Epoch: 5, loss.data.item(): 0.5820754766464233, batch.tweet.size(0): 35\n",
      "Epoch: 5, loss.data.item(): 0.6041141748428345, batch.tweet.size(0): 31\n",
      "Epoch: 5, loss.data.item(): 0.6374444961547852, batch.tweet.size(0): 30\n",
      "Epoch: 5, loss.data.item(): 0.639392077922821, batch.tweet.size(0): 34\n",
      "Epoch: 5, loss.data.item(): 0.5980588793754578, batch.tweet.size(0): 32\n",
      "Epoch: 5, loss.data.item(): 0.6541427969932556, batch.tweet.size(0): 35\n",
      "Epoch: 5, loss.data.item(): 0.6204627752304077, batch.tweet.size(0): 33\n",
      "Epoch: 5, loss.data.item(): 0.7622812390327454, batch.tweet.size(0): 32\n",
      "Epoch: 5, loss.data.item(): 0.5660982131958008, batch.tweet.size(0): 31\n",
      "Epoch: 5, loss.data.item(): 0.6490787267684937, batch.tweet.size(0): 32\n",
      "Epoch: 5, loss.data.item(): 0.6605592966079712, batch.tweet.size(0): 27\n",
      "Epoch: 5, loss.data.item(): 0.7138740420341492, batch.tweet.size(0): 34\n",
      "Epoch: 5, loss.data.item(): 0.6263865232467651, batch.tweet.size(0): 43\n",
      "Epoch: 5, loss.data.item(): 0.5795971155166626, batch.tweet.size(0): 40\n",
      "Epoch: 5, loss.data.item(): 0.7633647918701172, batch.tweet.size(0): 33\n",
      "Epoch: 5, loss.data.item(): 0.560072660446167, batch.tweet.size(0): 36\n",
      "Epoch: 5, loss.data.item(): 0.5467652082443237, batch.tweet.size(0): 30\n",
      "Epoch: 5, loss.data.item(): 0.4503304362297058, batch.tweet.size(0): 33\n",
      "Epoch: 5, loss.data.item(): 0.6255927085876465, batch.tweet.size(0): 38\n",
      "Epoch: 5, loss.data.item(): 0.5630736351013184, batch.tweet.size(0): 31\n",
      "Epoch: 5, loss.data.item(): 0.5841705799102783, batch.tweet.size(0): 29\n",
      "Epoch: 5, loss.data.item(): 0.5577205419540405, batch.tweet.size(0): 37\n",
      "Epoch: 5, loss.data.item(): 0.5533657073974609, batch.tweet.size(0): 32\n",
      "Epoch: 5, loss.data.item(): 0.6524451375007629, batch.tweet.size(0): 32\n",
      "Epoch: 5, loss.data.item(): 0.6019418239593506, batch.tweet.size(0): 36\n",
      "Epoch: 5, loss.data.item(): 0.6606292724609375, batch.tweet.size(0): 30\n",
      "Epoch: 5, loss.data.item(): 0.6472802758216858, batch.tweet.size(0): 33\n",
      "Epoch: 5, loss.data.item(): 0.5181498527526855, batch.tweet.size(0): 32\n",
      "Epoch: 5, loss.data.item(): 0.5801804065704346, batch.tweet.size(0): 32\n",
      "Epoch: 5, loss.data.item(): 0.6125055551528931, batch.tweet.size(0): 29\n",
      "Epoch: 5, loss.data.item(): 0.6404244899749756, batch.tweet.size(0): 34\n",
      "Epoch: 5, loss.data.item(): 0.5713900923728943, batch.tweet.size(0): 38\n",
      "Epoch: 5, loss.data.item(): 0.49636831879615784, batch.tweet.size(0): 34\n",
      "Epoch: 5, loss.data.item(): 0.5684543251991272, batch.tweet.size(0): 34\n",
      "Epoch: 5, loss.data.item(): 0.6451320648193359, batch.tweet.size(0): 38\n",
      "Epoch: 5, loss.data.item(): 0.6599028706550598, batch.tweet.size(0): 33\n",
      "Epoch: 5, loss.data.item(): 0.5146259069442749, batch.tweet.size(0): 32\n",
      "Epoch: 5, loss.data.item(): 0.5177993178367615, batch.tweet.size(0): 35\n",
      "Epoch: 5, loss.data.item(): 0.594772219657898, batch.tweet.size(0): 40\n",
      "Epoch: 5, loss.data.item(): 0.7132036089897156, batch.tweet.size(0): 39\n",
      "Epoch: 5, loss.data.item(): 0.48732009530067444, batch.tweet.size(0): 35\n",
      "Epoch: 5, loss.data.item(): 0.6347928047180176, batch.tweet.size(0): 32\n",
      "Epoch: 5, loss.data.item(): 0.7101864814758301, batch.tweet.size(0): 37\n",
      "Epoch: 5, loss.data.item(): 0.5409067273139954, batch.tweet.size(0): 33\n",
      "Epoch: 5, loss.data.item(): 0.641120433807373, batch.tweet.size(0): 35\n",
      "Epoch: 5, loss.data.item(): 0.6629023551940918, batch.tweet.size(0): 32\n",
      "Epoch: 5, loss.data.item(): 0.643567681312561, batch.tweet.size(0): 32\n",
      "Epoch: 5, loss.data.item(): 0.8225135207176208, batch.tweet.size(0): 32\n",
      "Epoch: 5, loss.data.item(): 0.6932646036148071, batch.tweet.size(0): 34\n",
      "Epoch: 5, loss.data.item(): 0.5421991944313049, batch.tweet.size(0): 33\n",
      "Epoch: 5, loss.data.item(): 0.7641416788101196, batch.tweet.size(0): 33\n",
      "Epoch: 5, loss.data.item(): 0.5779651403427124, batch.tweet.size(0): 31\n",
      "Epoch: 5, loss.data.item(): 0.6582065224647522, batch.tweet.size(0): 38\n",
      "Epoch: 5, loss.data.item(): 0.5705077052116394, batch.tweet.size(0): 44\n",
      "Epoch: 5, loss.data.item(): 0.6486350297927856, batch.tweet.size(0): 33\n",
      "Epoch: 5, loss.data.item(): 0.6351044774055481, batch.tweet.size(0): 29\n",
      "Epoch: 5, loss.data.item(): 0.5890870094299316, batch.tweet.size(0): 34\n",
      "Epoch: 5, loss.data.item(): 0.6314951181411743, batch.tweet.size(0): 33\n",
      "Epoch: 5, loss.data.item(): 0.6780516505241394, batch.tweet.size(0): 33\n",
      "Epoch: 5, loss.data.item(): 0.5818333029747009, batch.tweet.size(0): 38\n",
      "Epoch: 5, loss.data.item(): 0.5698816776275635, batch.tweet.size(0): 31\n",
      "Epoch: 5, loss.data.item(): 0.724693775177002, batch.tweet.size(0): 33\n",
      "Epoch: 5, loss.data.item(): 0.6669408082962036, batch.tweet.size(0): 32\n",
      "Epoch: 5, loss.data.item(): 0.4233602285385132, batch.tweet.size(0): 32\n",
      "Epoch: 5, loss.data.item(): 0.6054136753082275, batch.tweet.size(0): 34\n",
      "Epoch: 5, loss.data.item(): 0.44999176263809204, batch.tweet.size(0): 35\n",
      "Epoch: 5, loss.data.item(): 0.6444752812385559, batch.tweet.size(0): 30\n",
      "Epoch: 5, loss.data.item(): 0.5796830058097839, batch.tweet.size(0): 39\n",
      "Epoch: 5, loss.data.item(): 0.593960165977478, batch.tweet.size(0): 33\n",
      "Epoch: 5, loss.data.item(): 0.7135186195373535, batch.tweet.size(0): 29\n",
      "Epoch: 5, loss.data.item(): 0.6426069736480713, batch.tweet.size(0): 33\n",
      "Epoch: 5, loss.data.item(): 0.6281507611274719, batch.tweet.size(0): 34\n",
      "Epoch: 5, loss.data.item(): 0.670965313911438, batch.tweet.size(0): 36\n",
      "Epoch: 5, loss.data.item(): 0.6210806965827942, batch.tweet.size(0): 35\n",
      "Epoch: 5, loss.data.item(): 0.5679106116294861, batch.tweet.size(0): 30\n",
      "Epoch: 5, loss.data.item(): 0.5559780597686768, batch.tweet.size(0): 36\n",
      "Epoch: 5, loss.data.item(): 0.6734729409217834, batch.tweet.size(0): 30\n",
      "Epoch: 5, loss.data.item(): 0.8033918142318726, batch.tweet.size(0): 33\n",
      "Epoch: 5, loss.data.item(): 0.7043445706367493, batch.tweet.size(0): 32\n",
      "Epoch: 5, loss.data.item(): 0.3875061869621277, batch.tweet.size(0): 32\n",
      "Epoch: 5, loss.data.item(): 0.7183022499084473, batch.tweet.size(0): 31\n",
      "Epoch: 5, loss.data.item(): 0.5057029724121094, batch.tweet.size(0): 33\n",
      "Epoch: 5, loss.data.item(): 0.701385498046875, batch.tweet.size(0): 30\n",
      "Epoch: 5, loss.data.item(): 0.5972323417663574, batch.tweet.size(0): 30\n",
      "Epoch: 5, loss.data.item(): 0.5846053957939148, batch.tweet.size(0): 33\n",
      "Epoch: 5, loss.data.item(): 0.6263212561607361, batch.tweet.size(0): 31\n",
      "Epoch: 5, loss.data.item(): 0.6546394228935242, batch.tweet.size(0): 33\n",
      "Epoch: 5, loss.data.item(): 0.5699290037155151, batch.tweet.size(0): 39\n",
      "Epoch: 5, loss.data.item(): 0.6384905576705933, batch.tweet.size(0): 32\n",
      "Epoch: 5, loss.data.item(): 0.7102364301681519, batch.tweet.size(0): 33\n",
      "Epoch: 5, loss.data.item(): 0.6826527118682861, batch.tweet.size(0): 29\n",
      "Epoch: 5, loss.data.item(): 0.6312039494514465, batch.tweet.size(0): 35\n",
      "Epoch: 5, loss.data.item(): 0.5616072416305542, batch.tweet.size(0): 33\n",
      "Epoch: 5, loss.data.item(): 0.5845028758049011, batch.tweet.size(0): 33\n",
      "Epoch: 5, loss.data.item(): 0.6841429471969604, batch.tweet.size(0): 35\n",
      "Epoch: 5, loss.data.item(): 0.6594942808151245, batch.tweet.size(0): 37\n",
      "Epoch: 5, loss.data.item(): 0.4656139612197876, batch.tweet.size(0): 32\n",
      "Epoch: 5, loss.data.item(): 0.5737468004226685, batch.tweet.size(0): 35\n",
      "Epoch: 5, loss.data.item(): 0.6239309310913086, batch.tweet.size(0): 30\n",
      "Epoch: 5, loss.data.item(): 0.5503996014595032, batch.tweet.size(0): 34\n",
      "Epoch: 5, loss.data.item(): 0.7140675783157349, batch.tweet.size(0): 36\n",
      "Epoch: 5, loss.data.item(): 0.8559480905532837, batch.tweet.size(0): 34\n",
      "Epoch: 5, loss.data.item(): 0.5490099191665649, batch.tweet.size(0): 32\n",
      "Epoch: 5, loss.data.item(): 0.6204051971435547, batch.tweet.size(0): 33\n",
      "Epoch: 5, loss.data.item(): 0.640972912311554, batch.tweet.size(0): 33\n",
      "Epoch: 5, loss.data.item(): 0.8342584371566772, batch.tweet.size(0): 32\n",
      "Epoch: 5, loss.data.item(): 0.5978876352310181, batch.tweet.size(0): 32\n",
      "Epoch: 5, loss.data.item(): 0.44271254539489746, batch.tweet.size(0): 36\n",
      "Epoch: 5, loss.data.item(): 0.7118799090385437, batch.tweet.size(0): 38\n",
      "Epoch: 5, loss.data.item(): 0.5915736556053162, batch.tweet.size(0): 34\n",
      "Epoch: 5, loss.data.item(): 0.6639822721481323, batch.tweet.size(0): 29\n",
      "Epoch: 5, loss.data.item(): 0.5475212335586548, batch.tweet.size(0): 35\n",
      "Epoch: 5, loss.data.item(): 0.5699542760848999, batch.tweet.size(0): 34\n",
      "Epoch: 5, loss.data.item(): 0.7293021082878113, batch.tweet.size(0): 33\n",
      "Epoch: 5, loss.data.item(): 0.5062259435653687, batch.tweet.size(0): 31\n",
      "Epoch: 5, loss.data.item(): 0.4781768023967743, batch.tweet.size(0): 32\n",
      "Epoch: 5, loss.data.item(): 0.5484745502471924, batch.tweet.size(0): 32\n",
      "Epoch: 5, loss.data.item(): 0.5124385356903076, batch.tweet.size(0): 30\n",
      "Epoch: 5, loss.data.item(): 0.56793612241745, batch.tweet.size(0): 31\n",
      "Epoch: 5, loss.data.item(): 0.6979572772979736, batch.tweet.size(0): 31\n",
      "Epoch: 5, loss.data.item(): 0.6063770055770874, batch.tweet.size(0): 35\n",
      "Epoch: 5, loss.data.item(): 0.7549704313278198, batch.tweet.size(0): 34\n",
      "Epoch: 5, loss.data.item(): 0.6331011056900024, batch.tweet.size(0): 33\n",
      "Epoch: 5, loss.data.item(): 0.5717172622680664, batch.tweet.size(0): 34\n",
      "Epoch: 5, loss.data.item(): 0.5478816032409668, batch.tweet.size(0): 33\n",
      "Epoch: 5, loss.data.item(): 0.3964391350746155, batch.tweet.size(0): 42\n",
      "Epoch: 5, loss.data.item(): 0.6905872821807861, batch.tweet.size(0): 33\n",
      "Epoch: 5, loss.data.item(): 0.8895010948181152, batch.tweet.size(0): 35\n",
      "Epoch: 5, loss.data.item(): 0.5232803225517273, batch.tweet.size(0): 32\n",
      "Epoch: 5, loss.data.item(): 0.6852625012397766, batch.tweet.size(0): 35\n",
      "Epoch: 5, loss.data.item(): 0.5097442865371704, batch.tweet.size(0): 36\n",
      "Epoch: 5, loss.data.item(): 0.5055822134017944, batch.tweet.size(0): 35\n",
      "Epoch: 5, loss.data.item(): 0.5710307955741882, batch.tweet.size(0): 35\n",
      "Epoch: 5, loss.data.item(): 0.5917328596115112, batch.tweet.size(0): 33\n",
      "Epoch: 5, loss.data.item(): 0.5678220987319946, batch.tweet.size(0): 36\n",
      "Epoch: 5, loss.data.item(): 0.6476101875305176, batch.tweet.size(0): 38\n",
      "Epoch: 5, loss.data.item(): 0.4999457597732544, batch.tweet.size(0): 39\n",
      "Epoch: 5, loss.data.item(): 0.6216140985488892, batch.tweet.size(0): 30\n",
      "Epoch: 5, loss.data.item(): 0.47323235869407654, batch.tweet.size(0): 38\n",
      "Epoch: 5, loss.data.item(): 0.550623893737793, batch.tweet.size(0): 31\n",
      "Epoch: 5, loss.data.item(): 0.49813535809516907, batch.tweet.size(0): 36\n",
      "Epoch: 5, loss.data.item(): 0.5446339249610901, batch.tweet.size(0): 31\n",
      "Epoch: 5, loss.data.item(): 0.5655971765518188, batch.tweet.size(0): 46\n",
      "Epoch: 5, loss.data.item(): 0.4803907573223114, batch.tweet.size(0): 32\n",
      "Epoch: 5, loss.data.item(): 0.6845377087593079, batch.tweet.size(0): 34\n",
      "Epoch: 5, loss.data.item(): 0.5482178926467896, batch.tweet.size(0): 31\n",
      "Epoch: 5, loss.data.item(): 0.5667532682418823, batch.tweet.size(0): 35\n",
      "Epoch: 5, loss.data.item(): 0.8111364245414734, batch.tweet.size(0): 35\n",
      "Epoch: 5, loss.data.item(): 0.7307679653167725, batch.tweet.size(0): 33\n",
      "Epoch: 5, loss.data.item(): 0.6028296947479248, batch.tweet.size(0): 33\n",
      "Epoch: 5, loss.data.item(): 0.5131857395172119, batch.tweet.size(0): 35\n",
      "Epoch: 5, loss.data.item(): 0.7029191255569458, batch.tweet.size(0): 32\n",
      "Epoch: 5, loss.data.item(): 0.7903534173965454, batch.tweet.size(0): 33\n",
      "Epoch: 5, loss.data.item(): 0.4995695948600769, batch.tweet.size(0): 36\n",
      "Epoch: 5, loss.data.item(): 0.4983575940132141, batch.tweet.size(0): 32\n",
      "Epoch: 5, loss.data.item(): 0.4761435091495514, batch.tweet.size(0): 34\n",
      "Epoch: 5, loss.data.item(): 0.5377243757247925, batch.tweet.size(0): 37\n",
      "Epoch: 5, loss.data.item(): 0.6251276731491089, batch.tweet.size(0): 35\n",
      "Epoch: 5, loss.data.item(): 0.5394150614738464, batch.tweet.size(0): 36\n",
      "Epoch: 5, loss.data.item(): 0.753778338432312, batch.tweet.size(0): 31\n",
      "Epoch: 5, loss.data.item(): 0.5711121559143066, batch.tweet.size(0): 32\n",
      "Epoch: 5, loss.data.item(): 0.6069912314414978, batch.tweet.size(0): 32\n",
      "Epoch: 5, loss.data.item(): 0.5680955052375793, batch.tweet.size(0): 34\n",
      "Epoch: 5, loss.data.item(): 0.5227723121643066, batch.tweet.size(0): 35\n",
      "Epoch: 5, loss.data.item(): 0.5423089861869812, batch.tweet.size(0): 35\n",
      "Epoch: 5, loss.data.item(): 0.6033079624176025, batch.tweet.size(0): 29\n",
      "Epoch: 5, loss.data.item(): 0.6580008268356323, batch.tweet.size(0): 33\n",
      "Epoch: 5, loss.data.item(): 0.868255615234375, batch.tweet.size(0): 32\n",
      "Epoch: 5, loss.data.item(): 0.572790801525116, batch.tweet.size(0): 29\n",
      "Epoch: 5, loss.data.item(): 0.6092171669006348, batch.tweet.size(0): 32\n",
      "Epoch: 5, loss.data.item(): 0.7327725887298584, batch.tweet.size(0): 31\n",
      "Epoch: 5, loss.data.item(): 0.62350994348526, batch.tweet.size(0): 31\n",
      "Epoch: 5, loss.data.item(): 0.5035597085952759, batch.tweet.size(0): 29\n",
      "Epoch: 5, loss.data.item(): 0.5932451486587524, batch.tweet.size(0): 34\n",
      "Epoch: 5, loss.data.item(): 0.5236014723777771, batch.tweet.size(0): 34\n",
      "Epoch: 5, loss.data.item(): 0.8332933187484741, batch.tweet.size(0): 38\n",
      "Epoch: 5, loss.data.item(): 0.5589714050292969, batch.tweet.size(0): 32\n",
      "Epoch: 5, loss.data.item(): 0.5167344808578491, batch.tweet.size(0): 29\n",
      "Epoch: 5, loss.data.item(): 0.47237518429756165, batch.tweet.size(0): 35\n",
      "Epoch: 5, loss.data.item(): 0.4895937740802765, batch.tweet.size(0): 31\n",
      "Epoch: 5, loss.data.item(): 0.4454038441181183, batch.tweet.size(0): 28\n",
      "Epoch: 5, loss.data.item(): 0.42199093103408813, batch.tweet.size(0): 31\n",
      "Epoch: 5, loss.data.item(): 0.6347005367279053, batch.tweet.size(0): 35\n",
      "Epoch: 5, loss.data.item(): 0.4279780983924866, batch.tweet.size(0): 39\n",
      "Epoch: 5, loss.data.item(): 0.5799390077590942, batch.tweet.size(0): 33\n",
      "Epoch: 5, loss.data.item(): 0.4529106318950653, batch.tweet.size(0): 33\n",
      "training_loss /= len(train_iterator): 0.1079850090661703, training_loss: 20.301181704440015, len(train_iterator): 188\n",
      "Epoch: 5, Training Loss: 20.30, Validation Loss: 14.55\n"
     ]
    }
   ],
   "source": [
    "train(5, model, optimizer, criterion, train_iterator, valid_iterator)        "
   ]
  },
  {
   "cell_type": "markdown",
   "metadata": {},
   "source": [
    "## Making predictions"
   ]
  },
  {
   "cell_type": "code",
   "execution_count": null,
   "metadata": {},
   "outputs": [],
   "source": []
  },
  {
   "cell_type": "code",
   "execution_count": 46,
   "metadata": {},
   "outputs": [],
   "source": [
    "def classify_tweet(tweet):\n",
    "    categories = {0: \"Negative\", 1:\"Positive\"}\n",
    "    processed = TWEET.process([TWEET.preprocess(tweet)])\n",
    "    processed = processed.to(device)\n",
    "    model.eval()\n",
    "    return categories[model(processed).argmax().item()]"
   ]
  },
  {
   "cell_type": "markdown",
   "metadata": {},
   "source": [
    "## Data Augmentation"
   ]
  },
  {
   "cell_type": "code",
   "execution_count": null,
   "metadata": {},
   "outputs": [],
   "source": [
    "def random_deletion(words, p=0.5):\n",
    "    if len(words) == 1:\n",
    "        return words\n",
    "    remaining = list(filter(lambda x: random.uniform(0,1) > p,words))\n",
    "    if len(remaining) == 0:\n",
    "        return [random.choice(words)]\n",
    "    else:\n",
    "        return remaining"
   ]
  },
  {
   "cell_type": "code",
   "execution_count": null,
   "metadata": {},
   "outputs": [],
   "source": [
    "def random_swap(sentence, n=5):\n",
    "    length = range(len(sentence))\n",
    "    for _ in range(n):\n",
    "        idx1, idx2 = random.sample(length, 2)\n",
    "        sentence[idx1], sentence[idx2] = sentence[idx2], sentence[idx1]\n",
    "    return sentence"
   ]
  },
  {
   "cell_type": "code",
   "execution_count": null,
   "metadata": {},
   "outputs": [],
   "source": [
    "# Note: you'll have to define remove_stopwords() and get_synonyms() elsewhere\n",
    "\n",
    "def random_insertion(sentence,n):\n",
    "    words = remove_stopwords(sentence)\n",
    "    for _ in range(n):\n",
    "        new_synonym = get_synonyms(random.choice(words))\n",
    "        sentence.insert(randrange(len(sentence)+1), new_synonym)\n",
    "    return sentence"
   ]
  },
  {
   "cell_type": "code",
   "execution_count": null,
   "metadata": {},
   "outputs": [],
   "source": [
    "# Install googletrans version 3.1.0a0 (temporary fix for #57)\n",
    "!pip install googletrans==3.1.0a0"
   ]
  },
  {
   "cell_type": "code",
   "execution_count": null,
   "outputs": [],
   "source": [
    "import googletrans\n",
    "import random\n",
    "\n",
    "translator = googletrans.Translator()\n",
    "\n",
    "sentences = ['The cat sat on the mat']\n",
    "\n",
    "translations_fr = translator.translate(sentences, dest='fr')\n",
    "fr_text = [t.text for t in translations_fr] \n",
    "translations_en = translator.translate(fr_text, dest='en')\n",
    "en_text = [t.text for t in translations_en]\n",
    "print(en_text)   \n",
    "\n",
    "available_langs = list(googletrans.LANGUAGES.keys())\n",
    "tr_lang = random.choice(available_langs)\n",
    "print(f\"Translating to {googletrans.LANGUAGES[tr_lang]}\")\n",
    "\n",
    "translations = translator.translate(sentences, dest=tr_lang)\n",
    "t_text = [t.text for t in translations]\n",
    "print(t_text)\n",
    "\n",
    "translations_en_random = translator.translate(t_text, src=tr_lang, dest='en')\n",
    "en_text = [t.text for t in translations_en_random]\n",
    "print(en_text)"
   ],
   "metadata": {
    "collapsed": false,
    "pycharm": {
     "name": "#%%\n"
    }
   }
  },
  {
   "cell_type": "code",
   "execution_count": null,
   "metadata": {},
   "outputs": [],
   "source": []
  }
 ],
 "metadata": {
  "kernelspec": {
   "display_name": "Python 3",
   "language": "python",
   "name": "python3"
  },
  "language_info": {
   "codemirror_mode": {
    "name": "ipython",
    "version": 3
   },
   "file_extension": ".py",
   "mimetype": "text/x-python",
   "name": "python",
   "nbconvert_exporter": "python",
   "pygments_lexer": "ipython3",
   "version": "3.6.8"
  }
 },
 "nbformat": 4,
 "nbformat_minor": 2
}
