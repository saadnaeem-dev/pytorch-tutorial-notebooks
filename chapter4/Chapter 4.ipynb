{
 "cells": [
  {
   "cell_type": "markdown",
   "metadata": {},
   "source": [
    "# Chapter 4: Transfer Learning And Other Tricks"
   ]
  },
  {
   "cell_type": "code",
   "execution_count": 78,
   "metadata": {
    "ExecuteTime": {
     "end_time": "2023-10-25T07:42:46.883382Z",
     "start_time": "2023-10-25T07:42:46.882408Z"
    }
   },
   "outputs": [],
   "source": [
    "import torch\n",
    "import torch.nn as nn\n",
    "import torch.optim as optim\n",
    "import torch.utils.data\n",
    "import torch.nn.functional as F\n",
    "import torchvision\n",
    "import torchvision.models as models\n",
    "from torchvision import transforms\n",
    "from PIL import Image\n",
    "import matplotlib.pyplot as plt"
   ]
  },
  {
   "cell_type": "code",
   "execution_count": 79,
   "metadata": {
    "ExecuteTime": {
     "end_time": "2023-10-25T07:42:47.794582Z",
     "start_time": "2023-10-25T07:42:47.278952Z"
    }
   },
   "outputs": [],
   "source": [
    "transfer_model = models.resnet50(pretrained=True) "
   ]
  },
  {
   "cell_type": "markdown",
   "metadata": {},
   "source": [
    "## Freezing parameters"
   ]
  },
  {
   "cell_type": "code",
   "execution_count": 80,
   "outputs": [],
   "source": [
    "def check_image(path):\n",
    "    try:\n",
    "        im = Image.open(path)\n",
    "        return True\n",
    "    except:\n",
    "        return False\n",
    "    \n",
    "img_transforms = transforms.Compose([\n",
    "    transforms.Resize((64,64)),    \n",
    "    transforms.ToTensor(),\n",
    "    transforms.Normalize(mean=[0.485, 0.456, 0.406],\n",
    "                    std=[0.229, 0.224, 0.225] )\n",
    "    ])\n",
    "\n",
    "\n",
    "train_data_path = \"../data/train/\"\n",
    "train_data = torchvision.datasets.ImageFolder(root=train_data_path, transform=img_transforms, is_valid_file=check_image)\n",
    "train_data\n",
    "val_data_path = \"../data/val/\"\n",
    "val_data = torchvision.datasets.ImageFolder(root=val_data_path, transform=img_transforms, is_valid_file=check_image)\n",
    "val_data\n",
    "test_data_path = \"../data/test/\"\n",
    "test_data = torchvision.datasets.ImageFolder(root=test_data_path, transform=img_transforms, is_valid_file=check_image)\n",
    "test_data\n",
    "batch_size = 64\n",
    "train_data_loader = torch.utils.data.DataLoader(train_data, batch_size=batch_size)\n",
    "val_data_loader = torch.utils.data.DataLoader(val_data, batch_size=batch_size)\n",
    "test_data_loader = torch.utils.data.DataLoader(test_data, batch_size=batch_size)"
   ],
   "metadata": {
    "collapsed": false,
    "ExecuteTime": {
     "end_time": "2023-10-25T07:42:48.372266Z",
     "start_time": "2023-10-25T07:42:48.166702Z"
    }
   }
  },
  {
   "cell_type": "code",
   "execution_count": 81,
   "metadata": {
    "ExecuteTime": {
     "end_time": "2023-10-25T07:42:48.650638Z",
     "start_time": "2023-10-25T07:42:48.645934Z"
    }
   },
   "outputs": [
    {
     "name": "stdout",
     "output_type": "stream",
     "text": [
      "name: conv1.weight, param: torch.Size([64, 3, 7, 7])\n",
      "name: bn1.weight, param: torch.Size([64])\n",
      "name: bn1.bias, param: torch.Size([64])\n",
      "name: layer1.0.conv1.weight, param: torch.Size([64, 64, 1, 1])\n",
      "name: layer1.0.bn1.weight, param: torch.Size([64])\n",
      "name: layer1.0.bn1.bias, param: torch.Size([64])\n",
      "name: layer1.0.conv2.weight, param: torch.Size([64, 64, 3, 3])\n",
      "name: layer1.0.bn2.weight, param: torch.Size([64])\n",
      "name: layer1.0.bn2.bias, param: torch.Size([64])\n",
      "name: layer1.0.conv3.weight, param: torch.Size([256, 64, 1, 1])\n",
      "name: layer1.0.bn3.weight, param: torch.Size([256])\n",
      "name: layer1.0.bn3.bias, param: torch.Size([256])\n",
      "name: layer1.0.downsample.0.weight, param: torch.Size([256, 64, 1, 1])\n",
      "name: layer1.0.downsample.1.weight, param: torch.Size([256])\n",
      "name: layer1.0.downsample.1.bias, param: torch.Size([256])\n",
      "name: layer1.1.conv1.weight, param: torch.Size([64, 256, 1, 1])\n",
      "name: layer1.1.bn1.weight, param: torch.Size([64])\n",
      "name: layer1.1.bn1.bias, param: torch.Size([64])\n",
      "name: layer1.1.conv2.weight, param: torch.Size([64, 64, 3, 3])\n",
      "name: layer1.1.bn2.weight, param: torch.Size([64])\n",
      "name: layer1.1.bn2.bias, param: torch.Size([64])\n",
      "name: layer1.1.conv3.weight, param: torch.Size([256, 64, 1, 1])\n",
      "name: layer1.1.bn3.weight, param: torch.Size([256])\n",
      "name: layer1.1.bn3.bias, param: torch.Size([256])\n",
      "name: layer1.2.conv1.weight, param: torch.Size([64, 256, 1, 1])\n",
      "name: layer1.2.bn1.weight, param: torch.Size([64])\n",
      "name: layer1.2.bn1.bias, param: torch.Size([64])\n",
      "name: layer1.2.conv2.weight, param: torch.Size([64, 64, 3, 3])\n",
      "name: layer1.2.bn2.weight, param: torch.Size([64])\n",
      "name: layer1.2.bn2.bias, param: torch.Size([64])\n",
      "name: layer1.2.conv3.weight, param: torch.Size([256, 64, 1, 1])\n",
      "name: layer1.2.bn3.weight, param: torch.Size([256])\n",
      "name: layer1.2.bn3.bias, param: torch.Size([256])\n",
      "name: layer2.0.conv1.weight, param: torch.Size([128, 256, 1, 1])\n",
      "name: layer2.0.bn1.weight, param: torch.Size([128])\n",
      "name: layer2.0.bn1.bias, param: torch.Size([128])\n",
      "name: layer2.0.conv2.weight, param: torch.Size([128, 128, 3, 3])\n",
      "name: layer2.0.bn2.weight, param: torch.Size([128])\n",
      "name: layer2.0.bn2.bias, param: torch.Size([128])\n",
      "name: layer2.0.conv3.weight, param: torch.Size([512, 128, 1, 1])\n",
      "name: layer2.0.bn3.weight, param: torch.Size([512])\n",
      "name: layer2.0.bn3.bias, param: torch.Size([512])\n",
      "name: layer2.0.downsample.0.weight, param: torch.Size([512, 256, 1, 1])\n",
      "name: layer2.0.downsample.1.weight, param: torch.Size([512])\n",
      "name: layer2.0.downsample.1.bias, param: torch.Size([512])\n",
      "name: layer2.1.conv1.weight, param: torch.Size([128, 512, 1, 1])\n",
      "name: layer2.1.bn1.weight, param: torch.Size([128])\n",
      "name: layer2.1.bn1.bias, param: torch.Size([128])\n",
      "name: layer2.1.conv2.weight, param: torch.Size([128, 128, 3, 3])\n",
      "name: layer2.1.bn2.weight, param: torch.Size([128])\n",
      "name: layer2.1.bn2.bias, param: torch.Size([128])\n",
      "name: layer2.1.conv3.weight, param: torch.Size([512, 128, 1, 1])\n",
      "name: layer2.1.bn3.weight, param: torch.Size([512])\n",
      "name: layer2.1.bn3.bias, param: torch.Size([512])\n",
      "name: layer2.2.conv1.weight, param: torch.Size([128, 512, 1, 1])\n",
      "name: layer2.2.bn1.weight, param: torch.Size([128])\n",
      "name: layer2.2.bn1.bias, param: torch.Size([128])\n",
      "name: layer2.2.conv2.weight, param: torch.Size([128, 128, 3, 3])\n",
      "name: layer2.2.bn2.weight, param: torch.Size([128])\n",
      "name: layer2.2.bn2.bias, param: torch.Size([128])\n",
      "name: layer2.2.conv3.weight, param: torch.Size([512, 128, 1, 1])\n",
      "name: layer2.2.bn3.weight, param: torch.Size([512])\n",
      "name: layer2.2.bn3.bias, param: torch.Size([512])\n",
      "name: layer2.3.conv1.weight, param: torch.Size([128, 512, 1, 1])\n",
      "name: layer2.3.bn1.weight, param: torch.Size([128])\n",
      "name: layer2.3.bn1.bias, param: torch.Size([128])\n",
      "name: layer2.3.conv2.weight, param: torch.Size([128, 128, 3, 3])\n",
      "name: layer2.3.bn2.weight, param: torch.Size([128])\n",
      "name: layer2.3.bn2.bias, param: torch.Size([128])\n",
      "name: layer2.3.conv3.weight, param: torch.Size([512, 128, 1, 1])\n",
      "name: layer2.3.bn3.weight, param: torch.Size([512])\n",
      "name: layer2.3.bn3.bias, param: torch.Size([512])\n",
      "name: layer3.0.conv1.weight, param: torch.Size([256, 512, 1, 1])\n",
      "name: layer3.0.bn1.weight, param: torch.Size([256])\n",
      "name: layer3.0.bn1.bias, param: torch.Size([256])\n",
      "name: layer3.0.conv2.weight, param: torch.Size([256, 256, 3, 3])\n",
      "name: layer3.0.bn2.weight, param: torch.Size([256])\n",
      "name: layer3.0.bn2.bias, param: torch.Size([256])\n",
      "name: layer3.0.conv3.weight, param: torch.Size([1024, 256, 1, 1])\n",
      "name: layer3.0.bn3.weight, param: torch.Size([1024])\n",
      "name: layer3.0.bn3.bias, param: torch.Size([1024])\n",
      "name: layer3.0.downsample.0.weight, param: torch.Size([1024, 512, 1, 1])\n",
      "name: layer3.0.downsample.1.weight, param: torch.Size([1024])\n",
      "name: layer3.0.downsample.1.bias, param: torch.Size([1024])\n",
      "name: layer3.1.conv1.weight, param: torch.Size([256, 1024, 1, 1])\n",
      "name: layer3.1.bn1.weight, param: torch.Size([256])\n",
      "name: layer3.1.bn1.bias, param: torch.Size([256])\n",
      "name: layer3.1.conv2.weight, param: torch.Size([256, 256, 3, 3])\n",
      "name: layer3.1.bn2.weight, param: torch.Size([256])\n",
      "name: layer3.1.bn2.bias, param: torch.Size([256])\n",
      "name: layer3.1.conv3.weight, param: torch.Size([1024, 256, 1, 1])\n",
      "name: layer3.1.bn3.weight, param: torch.Size([1024])\n",
      "name: layer3.1.bn3.bias, param: torch.Size([1024])\n",
      "name: layer3.2.conv1.weight, param: torch.Size([256, 1024, 1, 1])\n",
      "name: layer3.2.bn1.weight, param: torch.Size([256])\n",
      "name: layer3.2.bn1.bias, param: torch.Size([256])\n",
      "name: layer3.2.conv2.weight, param: torch.Size([256, 256, 3, 3])\n",
      "name: layer3.2.bn2.weight, param: torch.Size([256])\n",
      "name: layer3.2.bn2.bias, param: torch.Size([256])\n",
      "name: layer3.2.conv3.weight, param: torch.Size([1024, 256, 1, 1])\n",
      "name: layer3.2.bn3.weight, param: torch.Size([1024])\n",
      "name: layer3.2.bn3.bias, param: torch.Size([1024])\n",
      "name: layer3.3.conv1.weight, param: torch.Size([256, 1024, 1, 1])\n",
      "name: layer3.3.bn1.weight, param: torch.Size([256])\n",
      "name: layer3.3.bn1.bias, param: torch.Size([256])\n",
      "name: layer3.3.conv2.weight, param: torch.Size([256, 256, 3, 3])\n",
      "name: layer3.3.bn2.weight, param: torch.Size([256])\n",
      "name: layer3.3.bn2.bias, param: torch.Size([256])\n",
      "name: layer3.3.conv3.weight, param: torch.Size([1024, 256, 1, 1])\n",
      "name: layer3.3.bn3.weight, param: torch.Size([1024])\n",
      "name: layer3.3.bn3.bias, param: torch.Size([1024])\n",
      "name: layer3.4.conv1.weight, param: torch.Size([256, 1024, 1, 1])\n",
      "name: layer3.4.bn1.weight, param: torch.Size([256])\n",
      "name: layer3.4.bn1.bias, param: torch.Size([256])\n",
      "name: layer3.4.conv2.weight, param: torch.Size([256, 256, 3, 3])\n",
      "name: layer3.4.bn2.weight, param: torch.Size([256])\n",
      "name: layer3.4.bn2.bias, param: torch.Size([256])\n",
      "name: layer3.4.conv3.weight, param: torch.Size([1024, 256, 1, 1])\n",
      "name: layer3.4.bn3.weight, param: torch.Size([1024])\n",
      "name: layer3.4.bn3.bias, param: torch.Size([1024])\n",
      "name: layer3.5.conv1.weight, param: torch.Size([256, 1024, 1, 1])\n",
      "name: layer3.5.bn1.weight, param: torch.Size([256])\n",
      "name: layer3.5.bn1.bias, param: torch.Size([256])\n",
      "name: layer3.5.conv2.weight, param: torch.Size([256, 256, 3, 3])\n",
      "name: layer3.5.bn2.weight, param: torch.Size([256])\n",
      "name: layer3.5.bn2.bias, param: torch.Size([256])\n",
      "name: layer3.5.conv3.weight, param: torch.Size([1024, 256, 1, 1])\n",
      "name: layer3.5.bn3.weight, param: torch.Size([1024])\n",
      "name: layer3.5.bn3.bias, param: torch.Size([1024])\n",
      "name: layer4.0.conv1.weight, param: torch.Size([512, 1024, 1, 1])\n",
      "name: layer4.0.bn1.weight, param: torch.Size([512])\n",
      "name: layer4.0.bn1.bias, param: torch.Size([512])\n",
      "name: layer4.0.conv2.weight, param: torch.Size([512, 512, 3, 3])\n",
      "name: layer4.0.bn2.weight, param: torch.Size([512])\n",
      "name: layer4.0.bn2.bias, param: torch.Size([512])\n",
      "name: layer4.0.conv3.weight, param: torch.Size([2048, 512, 1, 1])\n",
      "name: layer4.0.bn3.weight, param: torch.Size([2048])\n",
      "name: layer4.0.bn3.bias, param: torch.Size([2048])\n",
      "name: layer4.0.downsample.0.weight, param: torch.Size([2048, 1024, 1, 1])\n",
      "name: layer4.0.downsample.1.weight, param: torch.Size([2048])\n",
      "name: layer4.0.downsample.1.bias, param: torch.Size([2048])\n",
      "name: layer4.1.conv1.weight, param: torch.Size([512, 2048, 1, 1])\n",
      "name: layer4.1.bn1.weight, param: torch.Size([512])\n",
      "name: layer4.1.bn1.bias, param: torch.Size([512])\n",
      "name: layer4.1.conv2.weight, param: torch.Size([512, 512, 3, 3])\n",
      "name: layer4.1.bn2.weight, param: torch.Size([512])\n",
      "name: layer4.1.bn2.bias, param: torch.Size([512])\n",
      "name: layer4.1.conv3.weight, param: torch.Size([2048, 512, 1, 1])\n",
      "name: layer4.1.bn3.weight, param: torch.Size([2048])\n",
      "name: layer4.1.bn3.bias, param: torch.Size([2048])\n",
      "name: layer4.2.conv1.weight, param: torch.Size([512, 2048, 1, 1])\n",
      "name: layer4.2.bn1.weight, param: torch.Size([512])\n",
      "name: layer4.2.bn1.bias, param: torch.Size([512])\n",
      "name: layer4.2.conv2.weight, param: torch.Size([512, 512, 3, 3])\n",
      "name: layer4.2.bn2.weight, param: torch.Size([512])\n",
      "name: layer4.2.bn2.bias, param: torch.Size([512])\n",
      "name: layer4.2.conv3.weight, param: torch.Size([2048, 512, 1, 1])\n",
      "name: layer4.2.bn3.weight, param: torch.Size([2048])\n",
      "name: layer4.2.bn3.bias, param: torch.Size([2048])\n",
      "name: fc.weight, param: torch.Size([1000, 2048])\n",
      "name: fc.bias, param: torch.Size([1000])\n"
     ]
    }
   ],
   "source": [
    "for name, param in transfer_model.named_parameters():\n",
    "    print(f'name: {name}, param: {param.shape}')\n",
    "    if(\"bn\" not in name):\n",
    "        param.requires_grad = False"
   ]
  },
  {
   "cell_type": "markdown",
   "metadata": {},
   "source": [
    "## Replacing the classifier"
   ]
  },
  {
   "cell_type": "code",
   "execution_count": 82,
   "outputs": [
    {
     "data": {
      "text/plain": "ResNet(\n  (conv1): Conv2d(3, 64, kernel_size=(7, 7), stride=(2, 2), padding=(3, 3), bias=False)\n  (bn1): BatchNorm2d(64, eps=1e-05, momentum=0.1, affine=True, track_running_stats=True)\n  (relu): ReLU(inplace=True)\n  (maxpool): MaxPool2d(kernel_size=3, stride=2, padding=1, dilation=1, ceil_mode=False)\n  (layer1): Sequential(\n    (0): Bottleneck(\n      (conv1): Conv2d(64, 64, kernel_size=(1, 1), stride=(1, 1), bias=False)\n      (bn1): BatchNorm2d(64, eps=1e-05, momentum=0.1, affine=True, track_running_stats=True)\n      (conv2): Conv2d(64, 64, kernel_size=(3, 3), stride=(1, 1), padding=(1, 1), bias=False)\n      (bn2): BatchNorm2d(64, eps=1e-05, momentum=0.1, affine=True, track_running_stats=True)\n      (conv3): Conv2d(64, 256, kernel_size=(1, 1), stride=(1, 1), bias=False)\n      (bn3): BatchNorm2d(256, eps=1e-05, momentum=0.1, affine=True, track_running_stats=True)\n      (relu): ReLU(inplace=True)\n      (downsample): Sequential(\n        (0): Conv2d(64, 256, kernel_size=(1, 1), stride=(1, 1), bias=False)\n        (1): BatchNorm2d(256, eps=1e-05, momentum=0.1, affine=True, track_running_stats=True)\n      )\n    )\n    (1): Bottleneck(\n      (conv1): Conv2d(256, 64, kernel_size=(1, 1), stride=(1, 1), bias=False)\n      (bn1): BatchNorm2d(64, eps=1e-05, momentum=0.1, affine=True, track_running_stats=True)\n      (conv2): Conv2d(64, 64, kernel_size=(3, 3), stride=(1, 1), padding=(1, 1), bias=False)\n      (bn2): BatchNorm2d(64, eps=1e-05, momentum=0.1, affine=True, track_running_stats=True)\n      (conv3): Conv2d(64, 256, kernel_size=(1, 1), stride=(1, 1), bias=False)\n      (bn3): BatchNorm2d(256, eps=1e-05, momentum=0.1, affine=True, track_running_stats=True)\n      (relu): ReLU(inplace=True)\n    )\n    (2): Bottleneck(\n      (conv1): Conv2d(256, 64, kernel_size=(1, 1), stride=(1, 1), bias=False)\n      (bn1): BatchNorm2d(64, eps=1e-05, momentum=0.1, affine=True, track_running_stats=True)\n      (conv2): Conv2d(64, 64, kernel_size=(3, 3), stride=(1, 1), padding=(1, 1), bias=False)\n      (bn2): BatchNorm2d(64, eps=1e-05, momentum=0.1, affine=True, track_running_stats=True)\n      (conv3): Conv2d(64, 256, kernel_size=(1, 1), stride=(1, 1), bias=False)\n      (bn3): BatchNorm2d(256, eps=1e-05, momentum=0.1, affine=True, track_running_stats=True)\n      (relu): ReLU(inplace=True)\n    )\n  )\n  (layer2): Sequential(\n    (0): Bottleneck(\n      (conv1): Conv2d(256, 128, kernel_size=(1, 1), stride=(1, 1), bias=False)\n      (bn1): BatchNorm2d(128, eps=1e-05, momentum=0.1, affine=True, track_running_stats=True)\n      (conv2): Conv2d(128, 128, kernel_size=(3, 3), stride=(2, 2), padding=(1, 1), bias=False)\n      (bn2): BatchNorm2d(128, eps=1e-05, momentum=0.1, affine=True, track_running_stats=True)\n      (conv3): Conv2d(128, 512, kernel_size=(1, 1), stride=(1, 1), bias=False)\n      (bn3): BatchNorm2d(512, eps=1e-05, momentum=0.1, affine=True, track_running_stats=True)\n      (relu): ReLU(inplace=True)\n      (downsample): Sequential(\n        (0): Conv2d(256, 512, kernel_size=(1, 1), stride=(2, 2), bias=False)\n        (1): BatchNorm2d(512, eps=1e-05, momentum=0.1, affine=True, track_running_stats=True)\n      )\n    )\n    (1): Bottleneck(\n      (conv1): Conv2d(512, 128, kernel_size=(1, 1), stride=(1, 1), bias=False)\n      (bn1): BatchNorm2d(128, eps=1e-05, momentum=0.1, affine=True, track_running_stats=True)\n      (conv2): Conv2d(128, 128, kernel_size=(3, 3), stride=(1, 1), padding=(1, 1), bias=False)\n      (bn2): BatchNorm2d(128, eps=1e-05, momentum=0.1, affine=True, track_running_stats=True)\n      (conv3): Conv2d(128, 512, kernel_size=(1, 1), stride=(1, 1), bias=False)\n      (bn3): BatchNorm2d(512, eps=1e-05, momentum=0.1, affine=True, track_running_stats=True)\n      (relu): ReLU(inplace=True)\n    )\n    (2): Bottleneck(\n      (conv1): Conv2d(512, 128, kernel_size=(1, 1), stride=(1, 1), bias=False)\n      (bn1): BatchNorm2d(128, eps=1e-05, momentum=0.1, affine=True, track_running_stats=True)\n      (conv2): Conv2d(128, 128, kernel_size=(3, 3), stride=(1, 1), padding=(1, 1), bias=False)\n      (bn2): BatchNorm2d(128, eps=1e-05, momentum=0.1, affine=True, track_running_stats=True)\n      (conv3): Conv2d(128, 512, kernel_size=(1, 1), stride=(1, 1), bias=False)\n      (bn3): BatchNorm2d(512, eps=1e-05, momentum=0.1, affine=True, track_running_stats=True)\n      (relu): ReLU(inplace=True)\n    )\n    (3): Bottleneck(\n      (conv1): Conv2d(512, 128, kernel_size=(1, 1), stride=(1, 1), bias=False)\n      (bn1): BatchNorm2d(128, eps=1e-05, momentum=0.1, affine=True, track_running_stats=True)\n      (conv2): Conv2d(128, 128, kernel_size=(3, 3), stride=(1, 1), padding=(1, 1), bias=False)\n      (bn2): BatchNorm2d(128, eps=1e-05, momentum=0.1, affine=True, track_running_stats=True)\n      (conv3): Conv2d(128, 512, kernel_size=(1, 1), stride=(1, 1), bias=False)\n      (bn3): BatchNorm2d(512, eps=1e-05, momentum=0.1, affine=True, track_running_stats=True)\n      (relu): ReLU(inplace=True)\n    )\n  )\n  (layer3): Sequential(\n    (0): Bottleneck(\n      (conv1): Conv2d(512, 256, kernel_size=(1, 1), stride=(1, 1), bias=False)\n      (bn1): BatchNorm2d(256, eps=1e-05, momentum=0.1, affine=True, track_running_stats=True)\n      (conv2): Conv2d(256, 256, kernel_size=(3, 3), stride=(2, 2), padding=(1, 1), bias=False)\n      (bn2): BatchNorm2d(256, eps=1e-05, momentum=0.1, affine=True, track_running_stats=True)\n      (conv3): Conv2d(256, 1024, kernel_size=(1, 1), stride=(1, 1), bias=False)\n      (bn3): BatchNorm2d(1024, eps=1e-05, momentum=0.1, affine=True, track_running_stats=True)\n      (relu): ReLU(inplace=True)\n      (downsample): Sequential(\n        (0): Conv2d(512, 1024, kernel_size=(1, 1), stride=(2, 2), bias=False)\n        (1): BatchNorm2d(1024, eps=1e-05, momentum=0.1, affine=True, track_running_stats=True)\n      )\n    )\n    (1): Bottleneck(\n      (conv1): Conv2d(1024, 256, kernel_size=(1, 1), stride=(1, 1), bias=False)\n      (bn1): BatchNorm2d(256, eps=1e-05, momentum=0.1, affine=True, track_running_stats=True)\n      (conv2): Conv2d(256, 256, kernel_size=(3, 3), stride=(1, 1), padding=(1, 1), bias=False)\n      (bn2): BatchNorm2d(256, eps=1e-05, momentum=0.1, affine=True, track_running_stats=True)\n      (conv3): Conv2d(256, 1024, kernel_size=(1, 1), stride=(1, 1), bias=False)\n      (bn3): BatchNorm2d(1024, eps=1e-05, momentum=0.1, affine=True, track_running_stats=True)\n      (relu): ReLU(inplace=True)\n    )\n    (2): Bottleneck(\n      (conv1): Conv2d(1024, 256, kernel_size=(1, 1), stride=(1, 1), bias=False)\n      (bn1): BatchNorm2d(256, eps=1e-05, momentum=0.1, affine=True, track_running_stats=True)\n      (conv2): Conv2d(256, 256, kernel_size=(3, 3), stride=(1, 1), padding=(1, 1), bias=False)\n      (bn2): BatchNorm2d(256, eps=1e-05, momentum=0.1, affine=True, track_running_stats=True)\n      (conv3): Conv2d(256, 1024, kernel_size=(1, 1), stride=(1, 1), bias=False)\n      (bn3): BatchNorm2d(1024, eps=1e-05, momentum=0.1, affine=True, track_running_stats=True)\n      (relu): ReLU(inplace=True)\n    )\n    (3): Bottleneck(\n      (conv1): Conv2d(1024, 256, kernel_size=(1, 1), stride=(1, 1), bias=False)\n      (bn1): BatchNorm2d(256, eps=1e-05, momentum=0.1, affine=True, track_running_stats=True)\n      (conv2): Conv2d(256, 256, kernel_size=(3, 3), stride=(1, 1), padding=(1, 1), bias=False)\n      (bn2): BatchNorm2d(256, eps=1e-05, momentum=0.1, affine=True, track_running_stats=True)\n      (conv3): Conv2d(256, 1024, kernel_size=(1, 1), stride=(1, 1), bias=False)\n      (bn3): BatchNorm2d(1024, eps=1e-05, momentum=0.1, affine=True, track_running_stats=True)\n      (relu): ReLU(inplace=True)\n    )\n    (4): Bottleneck(\n      (conv1): Conv2d(1024, 256, kernel_size=(1, 1), stride=(1, 1), bias=False)\n      (bn1): BatchNorm2d(256, eps=1e-05, momentum=0.1, affine=True, track_running_stats=True)\n      (conv2): Conv2d(256, 256, kernel_size=(3, 3), stride=(1, 1), padding=(1, 1), bias=False)\n      (bn2): BatchNorm2d(256, eps=1e-05, momentum=0.1, affine=True, track_running_stats=True)\n      (conv3): Conv2d(256, 1024, kernel_size=(1, 1), stride=(1, 1), bias=False)\n      (bn3): BatchNorm2d(1024, eps=1e-05, momentum=0.1, affine=True, track_running_stats=True)\n      (relu): ReLU(inplace=True)\n    )\n    (5): Bottleneck(\n      (conv1): Conv2d(1024, 256, kernel_size=(1, 1), stride=(1, 1), bias=False)\n      (bn1): BatchNorm2d(256, eps=1e-05, momentum=0.1, affine=True, track_running_stats=True)\n      (conv2): Conv2d(256, 256, kernel_size=(3, 3), stride=(1, 1), padding=(1, 1), bias=False)\n      (bn2): BatchNorm2d(256, eps=1e-05, momentum=0.1, affine=True, track_running_stats=True)\n      (conv3): Conv2d(256, 1024, kernel_size=(1, 1), stride=(1, 1), bias=False)\n      (bn3): BatchNorm2d(1024, eps=1e-05, momentum=0.1, affine=True, track_running_stats=True)\n      (relu): ReLU(inplace=True)\n    )\n  )\n  (layer4): Sequential(\n    (0): Bottleneck(\n      (conv1): Conv2d(1024, 512, kernel_size=(1, 1), stride=(1, 1), bias=False)\n      (bn1): BatchNorm2d(512, eps=1e-05, momentum=0.1, affine=True, track_running_stats=True)\n      (conv2): Conv2d(512, 512, kernel_size=(3, 3), stride=(2, 2), padding=(1, 1), bias=False)\n      (bn2): BatchNorm2d(512, eps=1e-05, momentum=0.1, affine=True, track_running_stats=True)\n      (conv3): Conv2d(512, 2048, kernel_size=(1, 1), stride=(1, 1), bias=False)\n      (bn3): BatchNorm2d(2048, eps=1e-05, momentum=0.1, affine=True, track_running_stats=True)\n      (relu): ReLU(inplace=True)\n      (downsample): Sequential(\n        (0): Conv2d(1024, 2048, kernel_size=(1, 1), stride=(2, 2), bias=False)\n        (1): BatchNorm2d(2048, eps=1e-05, momentum=0.1, affine=True, track_running_stats=True)\n      )\n    )\n    (1): Bottleneck(\n      (conv1): Conv2d(2048, 512, kernel_size=(1, 1), stride=(1, 1), bias=False)\n      (bn1): BatchNorm2d(512, eps=1e-05, momentum=0.1, affine=True, track_running_stats=True)\n      (conv2): Conv2d(512, 512, kernel_size=(3, 3), stride=(1, 1), padding=(1, 1), bias=False)\n      (bn2): BatchNorm2d(512, eps=1e-05, momentum=0.1, affine=True, track_running_stats=True)\n      (conv3): Conv2d(512, 2048, kernel_size=(1, 1), stride=(1, 1), bias=False)\n      (bn3): BatchNorm2d(2048, eps=1e-05, momentum=0.1, affine=True, track_running_stats=True)\n      (relu): ReLU(inplace=True)\n    )\n    (2): Bottleneck(\n      (conv1): Conv2d(2048, 512, kernel_size=(1, 1), stride=(1, 1), bias=False)\n      (bn1): BatchNorm2d(512, eps=1e-05, momentum=0.1, affine=True, track_running_stats=True)\n      (conv2): Conv2d(512, 512, kernel_size=(3, 3), stride=(1, 1), padding=(1, 1), bias=False)\n      (bn2): BatchNorm2d(512, eps=1e-05, momentum=0.1, affine=True, track_running_stats=True)\n      (conv3): Conv2d(512, 2048, kernel_size=(1, 1), stride=(1, 1), bias=False)\n      (bn3): BatchNorm2d(2048, eps=1e-05, momentum=0.1, affine=True, track_running_stats=True)\n      (relu): ReLU(inplace=True)\n    )\n  )\n  (avgpool): AdaptiveAvgPool2d(output_size=(1, 1))\n  (fc): Linear(in_features=2048, out_features=1000, bias=True)\n)"
     },
     "execution_count": 82,
     "metadata": {},
     "output_type": "execute_result"
    }
   ],
   "source": [
    "transfer_model"
   ],
   "metadata": {
    "collapsed": false,
    "ExecuteTime": {
     "end_time": "2023-10-25T07:42:49.722598Z",
     "start_time": "2023-10-25T07:42:49.710208Z"
    }
   }
  },
  {
   "cell_type": "code",
   "execution_count": 83,
   "outputs": [
    {
     "data": {
      "text/plain": "Sequential(\n  (0): Bottleneck(\n    (conv1): Conv2d(1024, 512, kernel_size=(1, 1), stride=(1, 1), bias=False)\n    (bn1): BatchNorm2d(512, eps=1e-05, momentum=0.1, affine=True, track_running_stats=True)\n    (conv2): Conv2d(512, 512, kernel_size=(3, 3), stride=(2, 2), padding=(1, 1), bias=False)\n    (bn2): BatchNorm2d(512, eps=1e-05, momentum=0.1, affine=True, track_running_stats=True)\n    (conv3): Conv2d(512, 2048, kernel_size=(1, 1), stride=(1, 1), bias=False)\n    (bn3): BatchNorm2d(2048, eps=1e-05, momentum=0.1, affine=True, track_running_stats=True)\n    (relu): ReLU(inplace=True)\n    (downsample): Sequential(\n      (0): Conv2d(1024, 2048, kernel_size=(1, 1), stride=(2, 2), bias=False)\n      (1): BatchNorm2d(2048, eps=1e-05, momentum=0.1, affine=True, track_running_stats=True)\n    )\n  )\n  (1): Bottleneck(\n    (conv1): Conv2d(2048, 512, kernel_size=(1, 1), stride=(1, 1), bias=False)\n    (bn1): BatchNorm2d(512, eps=1e-05, momentum=0.1, affine=True, track_running_stats=True)\n    (conv2): Conv2d(512, 512, kernel_size=(3, 3), stride=(1, 1), padding=(1, 1), bias=False)\n    (bn2): BatchNorm2d(512, eps=1e-05, momentum=0.1, affine=True, track_running_stats=True)\n    (conv3): Conv2d(512, 2048, kernel_size=(1, 1), stride=(1, 1), bias=False)\n    (bn3): BatchNorm2d(2048, eps=1e-05, momentum=0.1, affine=True, track_running_stats=True)\n    (relu): ReLU(inplace=True)\n  )\n  (2): Bottleneck(\n    (conv1): Conv2d(2048, 512, kernel_size=(1, 1), stride=(1, 1), bias=False)\n    (bn1): BatchNorm2d(512, eps=1e-05, momentum=0.1, affine=True, track_running_stats=True)\n    (conv2): Conv2d(512, 512, kernel_size=(3, 3), stride=(1, 1), padding=(1, 1), bias=False)\n    (bn2): BatchNorm2d(512, eps=1e-05, momentum=0.1, affine=True, track_running_stats=True)\n    (conv3): Conv2d(512, 2048, kernel_size=(1, 1), stride=(1, 1), bias=False)\n    (bn3): BatchNorm2d(2048, eps=1e-05, momentum=0.1, affine=True, track_running_stats=True)\n    (relu): ReLU(inplace=True)\n  )\n)"
     },
     "execution_count": 83,
     "metadata": {},
     "output_type": "execute_result"
    }
   ],
   "source": [
    "transfer_model.layer4"
   ],
   "metadata": {
    "collapsed": false,
    "ExecuteTime": {
     "end_time": "2023-10-25T07:42:50.179968Z",
     "start_time": "2023-10-25T07:42:50.177650Z"
    }
   }
  },
  {
   "cell_type": "code",
   "execution_count": 84,
   "metadata": {
    "ExecuteTime": {
     "end_time": "2023-10-25T07:42:50.674419Z",
     "start_time": "2023-10-25T07:42:50.665928Z"
    }
   },
   "outputs": [],
   "source": [
    "transfer_model.fc = nn.Sequential(nn.Linear(2048,500),\n",
    "nn.ReLU(),                                 \n",
    "nn.Dropout(), nn.Linear(500,2)) "
   ]
  },
  {
   "cell_type": "markdown",
   "metadata": {},
   "source": [
    "## Training Again"
   ]
  },
  {
   "cell_type": "code",
   "execution_count": 95,
   "metadata": {
    "ExecuteTime": {
     "end_time": "2023-10-25T07:45:16.375362Z",
     "start_time": "2023-10-25T07:45:16.370793Z"
    }
   },
   "outputs": [],
   "source": [
    "def train(model, optimizer, loss_fn, train_loader, val_loader, epochs=20, device=\"cpu\"):\n",
    "    for epoch in range(1, epochs+1):\n",
    "        training_loss = 0.0\n",
    "        valid_loss = 0.0\n",
    "        model.train()\n",
    "        for batch in train_loader:\n",
    "            optimizer.zero_grad()\n",
    "            inputs, targets = batch\n",
    "            inputs = inputs.to(device)\n",
    "            targets = targets.to(device)\n",
    "            output = model(inputs)\n",
    "            loss = loss_fn(output, targets)\n",
    "            loss.backward()\n",
    "            optimizer.step()\n",
    "            training_loss += loss.data.item() * inputs.size(0)\n",
    "        training_loss /= len(train_loader.dataset)\n",
    "        \n",
    "        model.eval()\n",
    "        num_correct = 0 \n",
    "        num_examples = 0\n",
    "        for batch in val_loader:\n",
    "            inputs, targets = batch\n",
    "            inputs = inputs.to(device)\n",
    "            output = model(inputs)\n",
    "            targets = targets.to(device)\n",
    "            loss = loss_fn(output,targets) \n",
    "            valid_loss += loss.data.item() * inputs.size(0)\n",
    "            correct = torch.eq(torch.max(F.softmax(output), dim=1)[1], targets).view(-1)\n",
    "            num_correct += torch.sum(correct).item()\n",
    "            num_examples += correct.shape[0]\n",
    "        valid_loss /= len(val_loader.dataset)\n",
    "\n",
    "        print('Epoch: {}, Training Loss: {:.2f}, Validation Loss: {:.2f}, accuracy = {:.2f}'.format(epoch, training_loss,\n",
    "        valid_loss, num_correct / num_examples))"
   ]
  },
  {
   "cell_type": "code",
   "execution_count": 105,
   "metadata": {
    "ExecuteTime": {
     "end_time": "2023-10-25T07:48:32.565683Z",
     "start_time": "2023-10-25T07:48:32.404356Z"
    }
   },
   "outputs": [],
   "source": [
    "def check_image(path):\n",
    "    try:\n",
    "        im = Image.open(path)\n",
    "        return True\n",
    "    except:\n",
    "        return False\n",
    "\n",
    "img_transforms = transforms.Compose([\n",
    "    transforms.Resize((64,64)),    \n",
    "    transforms.ToTensor(),\n",
    "    transforms.Normalize(mean=[0.485, 0.456, 0.406],\n",
    "                         std=[0.229, 0.224, 0.225] )\n",
    "    ])\n",
    "train_data_path = \"../data/train/\"\n",
    "train_data = torchvision.datasets.ImageFolder(root=train_data_path,transform=img_transforms, is_valid_file=check_image)\n",
    "val_data_path = \"../data/val/\"\n",
    "val_data = torchvision.datasets.ImageFolder(root=val_data_path,transform=img_transforms, is_valid_file=check_image)\n",
    "batch_size=64\n",
    "train_data_loader = torch.utils.data.DataLoader(train_data, batch_size=batch_size, shuffle=True)\n",
    "val_data_loader  = torch.utils.data.DataLoader(val_data, batch_size=batch_size, shuffle=True)\n",
    "\n",
    "if torch.backends.mps.is_available():\n",
    "    device = torch.device(\"mps\") \n",
    "else:\n",
    "    device = torch.device(\"cpu\")"
   ]
  },
  {
   "cell_type": "code",
   "execution_count": 106,
   "metadata": {
    "ExecuteTime": {
     "end_time": "2023-10-25T07:48:33.180493Z",
     "start_time": "2023-10-25T07:48:33.178262Z"
    }
   },
   "outputs": [
    {
     "name": "stdout",
     "output_type": "stream",
     "text": [
      "102\n"
     ]
    }
   ],
   "source": [
    "print(len(val_data_loader.dataset))"
   ]
  },
  {
   "cell_type": "code",
   "execution_count": 154,
   "outputs": [
    {
     "name": "stdout",
     "output_type": "stream",
     "text": [
      "<class 'tuple'>\n",
      "0\n"
     ]
    }
   ],
   "source": [
    "for batch in val_data:\n",
    "    a=0\n",
    "    print(type(batch))\n",
    "    print(batch[1])\n",
    "    a+=1\n",
    "    if a==1:\n",
    "        break"
   ],
   "metadata": {
    "collapsed": false,
    "ExecuteTime": {
     "end_time": "2023-10-28T02:38:54.138468Z",
     "start_time": "2023-10-28T02:38:54.126070Z"
    }
   }
  },
  {
   "cell_type": "code",
   "execution_count": 107,
   "metadata": {
    "ExecuteTime": {
     "end_time": "2023-10-25T07:48:33.643353Z",
     "start_time": "2023-10-25T07:48:33.637428Z"
    }
   },
   "outputs": [],
   "source": [
    "transfer_model.to(device)\n",
    "optimizer = optim.Adam(transfer_model.parameters(), lr=0.001)"
   ]
  },
  {
   "cell_type": "code",
   "execution_count": 108,
   "outputs": [
    {
     "data": {
      "text/plain": "Adam (\nParameter Group 0\n    amsgrad: False\n    betas: (0.9, 0.999)\n    capturable: False\n    differentiable: False\n    eps: 1e-08\n    foreach: None\n    fused: None\n    lr: 0.001\n    maximize: False\n    weight_decay: 0\n)"
     },
     "execution_count": 108,
     "metadata": {},
     "output_type": "execute_result"
    }
   ],
   "source": [
    "optimizer"
   ],
   "metadata": {
    "collapsed": false,
    "ExecuteTime": {
     "end_time": "2023-10-25T07:48:34.380995Z",
     "start_time": "2023-10-25T07:48:34.378529Z"
    }
   }
  },
  {
   "cell_type": "code",
   "execution_count": 114,
   "outputs": [],
   "source": [
    "# optimizer = optim.Adam([ { 'params': transfer_model.layer4.parameters(), 'lr': 0.0003 /3}, { 'params': transfer_model.layer3.parameters(), 'lr': 0.0003 /9},\n",
    "# \n",
    "# ], lr=0.0003)"
   ],
   "metadata": {
    "collapsed": false,
    "ExecuteTime": {
     "end_time": "2023-10-25T07:51:15.277101Z",
     "start_time": "2023-10-25T07:51:15.275014Z"
    }
   }
  },
  {
   "cell_type": "code",
   "execution_count": 115,
   "outputs": [],
   "source": [
    "# unfreeze_layers = [transfer_model.layer3, transfer_model.layer4]\n",
    "# for layer in unfreeze_layers:\n",
    "#     for param in layer.parameters():\n",
    "#         param.requires_grad = True"
   ],
   "metadata": {
    "collapsed": false,
    "ExecuteTime": {
     "end_time": "2023-10-25T07:51:15.649183Z",
     "start_time": "2023-10-25T07:51:15.646571Z"
    }
   }
  },
  {
   "cell_type": "code",
   "execution_count": 116,
   "outputs": [
    {
     "data": {
      "text/plain": "device(type='mps')"
     },
     "execution_count": 116,
     "metadata": {},
     "output_type": "execute_result"
    }
   ],
   "source": [
    "device"
   ],
   "metadata": {
    "collapsed": false,
    "ExecuteTime": {
     "end_time": "2023-10-25T07:51:17.613003Z",
     "start_time": "2023-10-25T07:51:17.604408Z"
    }
   }
  },
  {
   "cell_type": "code",
   "execution_count": 117,
   "metadata": {
    "ExecuteTime": {
     "end_time": "2023-10-25T07:51:42.161667Z",
     "start_time": "2023-10-25T07:51:19.160924Z"
    }
   },
   "outputs": [
    {
     "name": "stderr",
     "output_type": "stream",
     "text": [
      "/var/folders/74/rcykwfcx5bq6vwfd93bqrhgm0000gn/T/ipykernel_62845/652705253.py:28: UserWarning: Implicit dimension choice for softmax has been deprecated. Change the call to include dim=X as an argument.\n",
      "  correct = torch.eq(torch.max(F.softmax(output), dim=1)[1], targets).view(-1)\n"
     ]
    },
    {
     "name": "stdout",
     "output_type": "stream",
     "text": [
      "Epoch: 1, Training Loss: 0.01, Validation Loss: 0.18, accuracy = 0.93\n",
      "Epoch: 2, Training Loss: 0.01, Validation Loss: 0.19, accuracy = 0.93\n",
      "Epoch: 3, Training Loss: 0.01, Validation Loss: 0.21, accuracy = 0.92\n",
      "Epoch: 4, Training Loss: 0.02, Validation Loss: 0.16, accuracy = 0.95\n",
      "Epoch: 5, Training Loss: 0.00, Validation Loss: 0.09, accuracy = 0.96\n",
      "CPU times: user 13.9 s, sys: 1.56 s, total: 15.5 s\n",
      "Wall time: 23 s\n"
     ]
    }
   ],
   "source": [
    "%time train(transfer_model, optimizer,torch.nn.CrossEntropyLoss(), train_data_loader, val_data_loader, epochs=5, device=device)"
   ]
  },
  {
   "cell_type": "markdown",
   "metadata": {},
   "source": [
    "## LR Finder"
   ]
  },
  {
   "cell_type": "code",
   "execution_count": 103,
   "metadata": {
    "ExecuteTime": {
     "end_time": "2023-10-25T07:45:46.369214Z",
     "start_time": "2023-10-25T07:45:46.364951Z"
    }
   },
   "outputs": [],
   "source": [
    "def find_lr(model, loss_fn, optimizer, train_loader, init_value=1e-8, final_value=10.0, device=\"cpu\"):\n",
    "    number_in_epoch = len(train_loader) - 1\n",
    "    update_step = (final_value / init_value) ** (1 / number_in_epoch)\n",
    "    print(f'update_step: {update_step}')\n",
    "    lr = init_value\n",
    "    optimizer.param_groups[0][\"lr\"] = lr\n",
    "    best_loss = 0.0\n",
    "    batch_num = 0\n",
    "    losses = []\n",
    "    log_lrs = []\n",
    "    for data in train_loader:\n",
    "        batch_num += 1\n",
    "        inputs, targets = data\n",
    "        inputs = inputs.to(device)\n",
    "        targets = targets.to(device)\n",
    "        optimizer.zero_grad()\n",
    "        outputs = model(inputs)\n",
    "        loss = loss_fn(outputs, targets)\n",
    "\n",
    "        # Crash out if loss explodes\n",
    "\n",
    "        if batch_num > 1 and loss > 4 * best_loss:\n",
    "            if(len(log_lrs) > 20):\n",
    "                return log_lrs[10:-5], losses[10:-5]\n",
    "            else:\n",
    "                return log_lrs, losses\n",
    "\n",
    "        # Record the best loss\n",
    "\n",
    "        if loss < best_loss or batch_num == 1:\n",
    "            best_loss = loss\n",
    "\n",
    "        # Store the values\n",
    "        losses.append(loss.item())\n",
    "        log_lrs.append((lr))\n",
    "\n",
    "        # Do the backward pass and optimize\n",
    "\n",
    "        loss.backward()\n",
    "        optimizer.step()\n",
    "\n",
    "        # Update the lr for the next step and store\n",
    "\n",
    "        lr *= update_step\n",
    "        optimizer.param_groups[0][\"lr\"] = lr\n",
    "    if(len(log_lrs) > 20):\n",
    "        print(f'log_lrs: {log_lrs[10:-5]} losses: {losses[10:-5]}')\n",
    "        return log_lrs[10:-5], losses[10:-5]\n",
    "    else:\n",
    "        return log_lrs, losses\n"
   ]
  },
  {
   "cell_type": "code",
   "execution_count": 104,
   "metadata": {
    "ExecuteTime": {
     "end_time": "2023-10-25T07:45:48.494138Z",
     "start_time": "2023-10-25T07:45:47.118370Z"
    }
   },
   "outputs": [
    {
     "name": "stdout",
     "output_type": "stream",
     "text": [
      "update_step: 5.62341325190349\n"
     ]
    },
    {
     "data": {
      "text/plain": "<Figure size 640x480 with 1 Axes>",
      "image/png": "[encoded data removed]"
     },
     "metadata": {},
     "output_type": "display_data"
    }
   ],
   "source": [
    "(lrs, losses) = find_lr(transfer_model, torch.nn.CrossEntropyLoss(),optimizer, train_data_loader,device=device)\n",
    "plt.plot(lrs, losses)\n",
    "\n",
    "plt.xscale(\"log\")\n",
    "plt.xlabel(\"Learning rate\")\n",
    "plt.ylabel(\"Loss\")\n",
    "plt.show()"
   ]
  },
  {
   "cell_type": "markdown",
   "metadata": {},
   "source": [
    " ## Custom Transforms\n",
    "\n",
    "Here we'll create a lambda transform and a custom transform class."
   ]
  },
  {
   "cell_type": "code",
   "execution_count": 118,
   "metadata": {
    "ExecuteTime": {
     "end_time": "2023-10-28T01:54:45.157511Z",
     "start_time": "2023-10-28T01:54:45.155613Z"
    }
   },
   "outputs": [],
   "source": [
    "def _random_colour_space(x):\n",
    "    output = x.convert(\"HSV\")\n",
    "    return output "
   ]
  },
  {
   "cell_type": "code",
   "execution_count": 119,
   "metadata": {
    "ExecuteTime": {
     "end_time": "2023-10-28T01:54:48.645623Z",
     "start_time": "2023-10-28T01:54:48.620205Z"
    }
   },
   "outputs": [],
   "source": [
    "colour_transform = transforms.Lambda(lambda x: _random_colour_space(x))"
   ]
  },
  {
   "cell_type": "code",
   "execution_count": 120,
   "metadata": {
    "ExecuteTime": {
     "end_time": "2023-10-28T01:54:50.543118Z",
     "start_time": "2023-10-28T01:54:50.537907Z"
    }
   },
   "outputs": [],
   "source": [
    "random_colour_transform = torchvision.transforms.RandomApply([colour_transform])"
   ]
  },
  {
   "cell_type": "code",
   "execution_count": 121,
   "metadata": {
    "ExecuteTime": {
     "end_time": "2023-10-28T01:54:51.367207Z",
     "start_time": "2023-10-28T01:54:51.361385Z"
    }
   },
   "outputs": [],
   "source": [
    "class Noise():\n",
    "    \"\"\"Adds gaussian noise to a tensor.\n",
    "    \n",
    "    Example:\n",
    "        >>> transforms.Compose([\n",
    "        >>>     transforms.ToTensor(),\n",
    "        >>>     Noise(0.1, 0.05)),\n",
    "        >>> ])\n",
    "    \n",
    "    \"\"\"\n",
    "    def __init__(self, mean, stddev):\n",
    "        self.mean = mean\n",
    "        self.stddev = stddev\n",
    "\n",
    "    def __call__(self, tensor):\n",
    "        noise = torch.zeros_like(tensor).normal_(self.mean, self.stddev)\n",
    "        return tensor.add_(noise)\n",
    "    \n",
    "    def __repr__(self):\n",
    "        repr = f\"{self.__class__.__name__  }(mean={self.mean},sttdev={self.stddev})\"\n",
    "        return repr"
   ]
  },
  {
   "cell_type": "code",
   "execution_count": 122,
   "metadata": {
    "ExecuteTime": {
     "end_time": "2023-10-28T01:54:53.192982Z",
     "start_time": "2023-10-28T01:54:53.183802Z"
    }
   },
   "outputs": [],
   "source": [
    "custom_transform_pipeline = transforms.Compose([random_colour_transform, Noise(0.1, 0.05)])"
   ]
  },
  {
   "cell_type": "code",
   "execution_count": 123,
   "metadata": {
    "ExecuteTime": {
     "end_time": "2023-10-28T01:55:00.346872Z",
     "start_time": "2023-10-28T01:55:00.333004Z"
    }
   },
   "outputs": [
    {
     "data": {
      "text/plain": "Compose(\n    RandomApply(\n    p=0.5\n    Lambda()\n)\n    Noise(mean=0.1,sttdev=0.05)\n)"
     },
     "execution_count": 123,
     "metadata": {},
     "output_type": "execute_result"
    }
   ],
   "source": [
    "custom_transform_pipeline"
   ]
  },
  {
   "cell_type": "markdown",
   "metadata": {},
   "source": [
    "## Ensembles\n",
    "\n",
    "Given a list of models, we can produce predictions for each model and then make an average to make a final prediction."
   ]
  },
  {
   "cell_type": "code",
   "execution_count": 125,
   "outputs": [
    {
     "data": {
      "text/plain": "device(type='mps')"
     },
     "execution_count": 125,
     "metadata": {},
     "output_type": "execute_result"
    }
   ],
   "source": [
    "device"
   ],
   "metadata": {
    "collapsed": false,
    "ExecuteTime": {
     "end_time": "2023-10-28T02:08:17.106179Z",
     "start_time": "2023-10-28T02:08:17.102028Z"
    }
   }
  },
  {
   "cell_type": "code",
   "execution_count": 124,
   "metadata": {
    "ExecuteTime": {
     "end_time": "2023-10-28T02:06:08.799383Z",
     "start_time": "2023-10-28T02:06:02.000636Z"
    }
   },
   "outputs": [
    {
     "name": "stderr",
     "output_type": "stream",
     "text": [
      "/var/folders/74/rcykwfcx5bq6vwfd93bqrhgm0000gn/T/ipykernel_62845/4119873032.py:2: UserWarning: Implicit dimension choice for softmax has been deprecated. Change the call to include dim=X as an argument.\n",
      "  predictions = [F.softmax(m(torch.rand(1,3,224,244).to(device))) for m in models_ensemble]\n"
     ]
    }
   ],
   "source": [
    "models_ensemble = [models.resnet50().to(device), models.resnet50().to(device)]\n",
    "predictions = [F.softmax(m(torch.rand(1,3,224,244).to(device))) for m in models_ensemble] \n",
    "avg_prediction = torch.stack(predictions).mean(0).argmax()"
   ]
  },
  {
   "cell_type": "code",
   "execution_count": 137,
   "outputs": [
    {
     "data": {
      "text/plain": "torch.Size([2, 1, 1000])"
     },
     "execution_count": 137,
     "metadata": {},
     "output_type": "execute_result"
    }
   ],
   "source": [
    "torch.stack(predictions).shape"
   ],
   "metadata": {
    "collapsed": false,
    "ExecuteTime": {
     "end_time": "2023-10-28T02:25:00.716909Z",
     "start_time": "2023-10-28T02:25:00.695808Z"
    }
   }
  },
  {
   "cell_type": "code",
   "execution_count": 135,
   "outputs": [
    {
     "data": {
      "text/plain": "torch.Size([1, 1000])"
     },
     "execution_count": 135,
     "metadata": {},
     "output_type": "execute_result"
    }
   ],
   "source": [
    "type(predictions[0])\n",
    "predictions[0].shape"
   ],
   "metadata": {
    "collapsed": false,
    "ExecuteTime": {
     "end_time": "2023-10-28T02:22:26.588167Z",
     "start_time": "2023-10-28T02:22:26.586271Z"
    }
   }
  },
  {
   "cell_type": "code",
   "execution_count": 126,
   "metadata": {
    "ExecuteTime": {
     "end_time": "2023-10-28T02:08:23.079266Z",
     "start_time": "2023-10-28T02:08:23.074222Z"
    }
   },
   "outputs": [
    {
     "data": {
      "text/plain": "tensor(92, device='mps:0')"
     },
     "execution_count": 126,
     "metadata": {},
     "output_type": "execute_result"
    }
   ],
   "source": [
    "avg_prediction"
   ]
  },
  {
   "cell_type": "code",
   "execution_count": 155,
   "metadata": {
    "ExecuteTime": {
     "end_time": "2023-10-28T02:40:03.120627Z",
     "start_time": "2023-10-28T02:40:02.933618Z"
    }
   },
   "outputs": [
    {
     "data": {
      "text/plain": "tensor([[0.0008, 0.0013, 0.0005, 0.0008, 0.0010, 0.0011, 0.0007, 0.0011, 0.0016,\n         0.0005, 0.0016, 0.0015, 0.0005, 0.0010, 0.0007, 0.0007, 0.0005, 0.0006,\n         0.0005, 0.0012, 0.0019, 0.0013, 0.0012, 0.0020, 0.0008, 0.0014, 0.0016,\n         0.0007, 0.0006, 0.0015, 0.0012, 0.0015, 0.0011, 0.0011, 0.0017, 0.0007,\n         0.0008, 0.0010, 0.0008, 0.0007, 0.0010, 0.0011, 0.0007, 0.0016, 0.0012,\n         0.0010, 0.0005, 0.0010, 0.0008, 0.0007, 0.0010, 0.0013, 0.0009, 0.0013,\n         0.0004, 0.0011, 0.0009, 0.0010, 0.0006, 0.0006, 0.0004, 0.0017, 0.0014,\n         0.0012, 0.0005, 0.0010, 0.0009, 0.0007, 0.0006, 0.0006, 0.0009, 0.0006,\n         0.0005, 0.0008, 0.0007, 0.0012, 0.0005, 0.0011, 0.0019, 0.0007, 0.0007,\n         0.0010, 0.0008, 0.0010, 0.0010, 0.0019, 0.0005, 0.0009, 0.0008, 0.0012,\n         0.0005, 0.0009, 0.0034, 0.0007, 0.0015, 0.0007, 0.0013, 0.0010, 0.0015,\n         0.0008, 0.0011, 0.0012, 0.0011, 0.0007, 0.0011, 0.0013, 0.0016, 0.0007,\n         0.0009, 0.0013, 0.0009, 0.0006, 0.0009, 0.0005, 0.0004, 0.0007, 0.0010,\n         0.0010, 0.0020, 0.0009, 0.0013, 0.0009, 0.0012, 0.0009, 0.0005, 0.0009,\n         0.0006, 0.0017, 0.0008, 0.0006, 0.0012, 0.0007, 0.0006, 0.0011, 0.0007,\n         0.0007, 0.0008, 0.0009, 0.0007, 0.0009, 0.0016, 0.0004, 0.0007, 0.0009,\n         0.0012, 0.0011, 0.0023, 0.0011, 0.0013, 0.0009, 0.0007, 0.0007, 0.0013,\n         0.0007, 0.0010, 0.0006, 0.0013, 0.0024, 0.0008, 0.0012, 0.0008, 0.0007,\n         0.0007, 0.0013, 0.0007, 0.0011, 0.0005, 0.0022, 0.0003, 0.0006, 0.0005,\n         0.0006, 0.0005, 0.0007, 0.0005, 0.0014, 0.0006, 0.0014, 0.0012, 0.0005,\n         0.0010, 0.0011, 0.0007, 0.0011, 0.0005, 0.0012, 0.0007, 0.0006, 0.0009,\n         0.0007, 0.0007, 0.0005, 0.0010, 0.0010, 0.0014, 0.0010, 0.0008, 0.0012,\n         0.0006, 0.0011, 0.0004, 0.0022, 0.0008, 0.0004, 0.0007, 0.0017, 0.0008,\n         0.0005, 0.0010, 0.0012, 0.0013, 0.0013, 0.0007, 0.0005, 0.0005, 0.0016,\n         0.0007, 0.0012, 0.0017, 0.0010, 0.0006, 0.0014, 0.0012, 0.0009, 0.0011,\n         0.0010, 0.0013, 0.0006, 0.0009, 0.0008, 0.0004, 0.0003, 0.0012, 0.0011,\n         0.0011, 0.0014, 0.0010, 0.0011, 0.0010, 0.0006, 0.0006, 0.0010, 0.0028,\n         0.0020, 0.0021, 0.0012, 0.0009, 0.0009, 0.0012, 0.0006, 0.0011, 0.0006,\n         0.0007, 0.0009, 0.0004, 0.0007, 0.0006, 0.0007, 0.0012, 0.0007, 0.0007,\n         0.0014, 0.0013, 0.0011, 0.0014, 0.0011, 0.0009, 0.0018, 0.0010, 0.0014,\n         0.0013, 0.0010, 0.0010, 0.0007, 0.0022, 0.0012, 0.0005, 0.0015, 0.0006,\n         0.0006, 0.0009, 0.0022, 0.0007, 0.0008, 0.0016, 0.0007, 0.0014, 0.0006,\n         0.0016, 0.0012, 0.0010, 0.0005, 0.0010, 0.0008, 0.0008, 0.0006, 0.0009,\n         0.0008, 0.0010, 0.0006, 0.0008, 0.0013, 0.0012, 0.0005, 0.0005, 0.0015,\n         0.0010, 0.0007, 0.0009, 0.0009, 0.0004, 0.0013, 0.0006, 0.0011, 0.0009,\n         0.0008, 0.0005, 0.0005, 0.0005, 0.0007, 0.0014, 0.0016, 0.0011, 0.0011,\n         0.0017, 0.0004, 0.0009, 0.0006, 0.0012, 0.0015, 0.0019, 0.0012, 0.0009,\n         0.0009, 0.0009, 0.0017, 0.0010, 0.0008, 0.0014, 0.0012, 0.0021, 0.0010,\n         0.0004, 0.0007, 0.0012, 0.0007, 0.0007, 0.0016, 0.0006, 0.0014, 0.0019,\n         0.0005, 0.0009, 0.0013, 0.0005, 0.0014, 0.0010, 0.0006, 0.0017, 0.0007,\n         0.0005, 0.0007, 0.0006, 0.0011, 0.0008, 0.0009, 0.0013, 0.0003, 0.0009,\n         0.0005, 0.0007, 0.0009, 0.0011, 0.0015, 0.0010, 0.0013, 0.0012, 0.0021,\n         0.0012, 0.0015, 0.0007, 0.0007, 0.0011, 0.0011, 0.0016, 0.0015, 0.0005,\n         0.0012, 0.0007, 0.0011, 0.0010, 0.0019, 0.0005, 0.0013, 0.0012, 0.0023,\n         0.0009, 0.0005, 0.0008, 0.0005, 0.0010, 0.0009, 0.0013, 0.0013, 0.0012,\n         0.0020, 0.0015, 0.0012, 0.0019, 0.0010, 0.0006, 0.0009, 0.0010, 0.0005,\n         0.0009, 0.0010, 0.0014, 0.0007, 0.0008, 0.0010, 0.0009, 0.0006, 0.0004,\n         0.0009, 0.0013, 0.0006, 0.0009, 0.0010, 0.0017, 0.0006, 0.0023, 0.0013,\n         0.0011, 0.0008, 0.0004, 0.0014, 0.0004, 0.0006, 0.0010, 0.0008, 0.0004,\n         0.0017, 0.0008, 0.0007, 0.0007, 0.0005, 0.0013, 0.0015, 0.0008, 0.0007,\n         0.0007, 0.0018, 0.0007, 0.0012, 0.0009, 0.0007, 0.0021, 0.0011, 0.0010,\n         0.0009, 0.0009, 0.0009, 0.0011, 0.0008, 0.0013, 0.0009, 0.0009, 0.0008,\n         0.0013, 0.0008, 0.0007, 0.0012, 0.0024, 0.0015, 0.0010, 0.0006, 0.0011,\n         0.0005, 0.0008, 0.0006, 0.0013, 0.0008, 0.0006, 0.0009, 0.0003, 0.0005,\n         0.0009, 0.0010, 0.0018, 0.0014, 0.0008, 0.0009, 0.0009, 0.0021, 0.0006,\n         0.0011, 0.0007, 0.0011, 0.0014, 0.0008, 0.0012, 0.0009, 0.0011, 0.0015,\n         0.0005, 0.0004, 0.0031, 0.0023, 0.0007, 0.0018, 0.0012, 0.0007, 0.0005,\n         0.0010, 0.0008, 0.0013, 0.0003, 0.0007, 0.0018, 0.0007, 0.0021, 0.0003,\n         0.0010, 0.0011, 0.0008, 0.0005, 0.0007, 0.0007, 0.0022, 0.0010, 0.0007,\n         0.0011, 0.0006, 0.0004, 0.0011, 0.0007, 0.0011, 0.0008, 0.0007, 0.0010,\n         0.0009, 0.0012, 0.0007, 0.0004, 0.0009, 0.0012, 0.0009, 0.0010, 0.0005,\n         0.0007, 0.0008, 0.0010, 0.0011, 0.0011, 0.0012, 0.0012, 0.0006, 0.0008,\n         0.0014, 0.0007, 0.0013, 0.0004, 0.0007, 0.0016, 0.0007, 0.0006, 0.0016,\n         0.0006, 0.0012, 0.0007, 0.0015, 0.0005, 0.0011, 0.0009, 0.0014, 0.0013,\n         0.0010, 0.0012, 0.0017, 0.0013, 0.0008, 0.0006, 0.0008, 0.0015, 0.0015,\n         0.0021, 0.0010, 0.0014, 0.0006, 0.0010, 0.0017, 0.0011, 0.0010, 0.0007,\n         0.0013, 0.0009, 0.0009, 0.0006, 0.0020, 0.0012, 0.0016, 0.0007, 0.0022,\n         0.0005, 0.0011, 0.0010, 0.0015, 0.0010, 0.0010, 0.0011, 0.0012, 0.0008,\n         0.0004, 0.0007, 0.0017, 0.0010, 0.0004, 0.0005, 0.0013, 0.0010, 0.0019,\n         0.0011, 0.0008, 0.0006, 0.0009, 0.0004, 0.0003, 0.0012, 0.0007, 0.0005,\n         0.0008, 0.0021, 0.0007, 0.0006, 0.0005, 0.0012, 0.0008, 0.0008, 0.0009,\n         0.0009, 0.0011, 0.0005, 0.0014, 0.0007, 0.0007, 0.0009, 0.0005, 0.0008,\n         0.0010, 0.0006, 0.0019, 0.0009, 0.0013, 0.0005, 0.0008, 0.0013, 0.0008,\n         0.0006, 0.0010, 0.0008, 0.0007, 0.0007, 0.0021, 0.0009, 0.0007, 0.0013,\n         0.0005, 0.0012, 0.0006, 0.0017, 0.0010, 0.0028, 0.0021, 0.0003, 0.0005,\n         0.0007, 0.0007, 0.0015, 0.0010, 0.0015, 0.0011, 0.0012, 0.0010, 0.0009,\n         0.0011, 0.0008, 0.0013, 0.0007, 0.0008, 0.0011, 0.0014, 0.0016, 0.0014,\n         0.0008, 0.0008, 0.0015, 0.0010, 0.0011, 0.0008, 0.0011, 0.0006, 0.0004,\n         0.0005, 0.0009, 0.0015, 0.0007, 0.0014, 0.0005, 0.0009, 0.0009, 0.0007,\n         0.0006, 0.0016, 0.0005, 0.0005, 0.0015, 0.0012, 0.0007, 0.0008, 0.0011,\n         0.0013, 0.0012, 0.0011, 0.0008, 0.0008, 0.0011, 0.0010, 0.0010, 0.0008,\n         0.0004, 0.0007, 0.0006, 0.0012, 0.0010, 0.0009, 0.0009, 0.0014, 0.0006,\n         0.0013, 0.0010, 0.0010, 0.0009, 0.0012, 0.0006, 0.0019, 0.0007, 0.0008,\n         0.0006, 0.0020, 0.0006, 0.0006, 0.0016, 0.0003, 0.0006, 0.0014, 0.0007,\n         0.0009, 0.0015, 0.0009, 0.0011, 0.0004, 0.0008, 0.0016, 0.0010, 0.0007,\n         0.0007, 0.0007, 0.0013, 0.0006, 0.0012, 0.0006, 0.0007, 0.0010, 0.0012,\n         0.0006, 0.0007, 0.0008, 0.0006, 0.0012, 0.0013, 0.0008, 0.0017, 0.0005,\n         0.0004, 0.0016, 0.0008, 0.0008, 0.0006, 0.0006, 0.0019, 0.0010, 0.0012,\n         0.0025, 0.0022, 0.0006, 0.0007, 0.0006, 0.0009, 0.0012, 0.0005, 0.0006,\n         0.0015, 0.0005, 0.0012, 0.0006, 0.0012, 0.0008, 0.0007, 0.0010, 0.0016,\n         0.0007, 0.0005, 0.0009, 0.0006, 0.0004, 0.0010, 0.0011, 0.0010, 0.0020,\n         0.0009, 0.0010, 0.0006, 0.0006, 0.0010, 0.0009, 0.0010, 0.0016, 0.0006,\n         0.0016, 0.0007, 0.0006, 0.0009, 0.0018, 0.0015, 0.0006, 0.0007, 0.0021,\n         0.0006, 0.0010, 0.0020, 0.0005, 0.0004, 0.0009, 0.0011, 0.0010, 0.0011,\n         0.0014, 0.0008, 0.0007, 0.0005, 0.0009, 0.0005, 0.0006, 0.0011, 0.0011,\n         0.0009, 0.0009, 0.0012, 0.0006, 0.0008, 0.0004, 0.0023, 0.0027, 0.0005,\n         0.0012, 0.0013, 0.0007, 0.0012, 0.0013, 0.0007, 0.0009, 0.0012, 0.0009,\n         0.0023, 0.0004, 0.0011, 0.0010, 0.0012, 0.0012, 0.0005, 0.0007, 0.0006,\n         0.0018, 0.0004, 0.0004, 0.0009, 0.0018, 0.0012, 0.0009, 0.0008, 0.0009,\n         0.0010, 0.0014, 0.0018, 0.0013, 0.0007, 0.0012, 0.0005, 0.0013, 0.0008,\n         0.0008, 0.0010, 0.0011, 0.0008, 0.0009, 0.0014, 0.0008, 0.0007, 0.0008,\n         0.0011, 0.0012, 0.0010, 0.0009, 0.0008, 0.0008, 0.0006, 0.0011, 0.0007,\n         0.0004, 0.0008, 0.0007, 0.0007, 0.0009, 0.0013, 0.0005, 0.0010, 0.0012,\n         0.0005, 0.0016, 0.0005, 0.0015, 0.0010, 0.0012, 0.0007, 0.0009, 0.0013,\n         0.0012, 0.0012, 0.0008, 0.0010, 0.0003, 0.0007, 0.0007, 0.0013, 0.0016,\n         0.0010, 0.0008, 0.0007, 0.0007, 0.0007, 0.0007, 0.0014, 0.0008, 0.0017,\n         0.0008, 0.0011, 0.0009, 0.0011, 0.0008, 0.0010, 0.0011, 0.0010, 0.0011,\n         0.0022, 0.0009, 0.0006, 0.0010, 0.0023, 0.0012, 0.0025, 0.0013, 0.0006,\n         0.0012, 0.0003, 0.0009, 0.0020, 0.0009, 0.0012, 0.0013, 0.0004, 0.0006,\n         0.0007, 0.0012, 0.0004, 0.0018, 0.0005, 0.0005, 0.0005, 0.0031, 0.0009,\n         0.0008, 0.0022, 0.0005, 0.0008, 0.0011, 0.0005, 0.0008, 0.0008, 0.0004,\n         0.0009]], device='mps:0', grad_fn=<MeanBackward1>)"
     },
     "execution_count": 155,
     "metadata": {},
     "output_type": "execute_result"
    }
   ],
   "source": [
    "torch.stack(predictions).mean(0)"
   ]
  },
  {
   "cell_type": "code",
   "execution_count": 158,
   "metadata": {
    "ExecuteTime": {
     "end_time": "2023-10-28T02:46:59.925040Z",
     "start_time": "2023-10-28T02:46:59.910275Z"
    }
   },
   "outputs": [
    {
     "name": "stdout",
     "output_type": "stream",
     "text": [
      "Mean along rows: tensor([2.5000, 3.5000, 4.5000])\n",
      "Mean along columns: tensor([2., 5.])\n"
     ]
    }
   ],
   "source": [
    "import torch\n",
    "\n",
    "# Create a 2D tensor\n",
    "tensor = torch.tensor([[1, 2, 3], [4, 5, 6]], dtype=torch.float32)\n",
    "\n",
    "# Calculate the mean along dimension 0 (rows)\n",
    "mean_along_rows = torch.mean(tensor, dim=0)\n",
    "\n",
    "# Calculate the mean along dimension 1 (columns)\n",
    "mean_along_columns = torch.mean(tensor, dim=1)\n",
    "\n",
    "print(\"Mean along rows:\", mean_along_rows)\n",
    "print(\"Mean along columns:\", mean_along_columns)\n"
   ]
  },
  {
   "cell_type": "code",
   "execution_count": 160,
   "outputs": [
    {
     "data": {
      "text/plain": "torch.Size([2, 3])"
     },
     "execution_count": 160,
     "metadata": {},
     "output_type": "execute_result"
    }
   ],
   "source": [
    "tensor.shape"
   ],
   "metadata": {
    "collapsed": false,
    "ExecuteTime": {
     "end_time": "2023-10-28T02:48:14.358643Z",
     "start_time": "2023-10-28T02:48:14.351671Z"
    }
   }
  },
  {
   "cell_type": "code",
   "execution_count": null,
   "outputs": [],
   "source": [],
   "metadata": {
    "collapsed": false
   }
  }
 ],
 "metadata": {
  "kernelspec": {
   "display_name": "Python 3",
   "language": "python",
   "name": "python3"
  },
  "language_info": {
   "codemirror_mode": {
    "name": "ipython",
    "version": 3
   },
   "file_extension": ".py",
   "mimetype": "text/x-python",
   "name": "python",
   "nbconvert_exporter": "python",
   "pygments_lexer": "ipython3",
   "version": "3.6.8"
  }
 },
 "nbformat": 4,
 "nbformat_minor": 2
}
